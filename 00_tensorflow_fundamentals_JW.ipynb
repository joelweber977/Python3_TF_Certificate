{
 "cells": [
  {
   "cell_type": "code",
   "execution_count": 1,
   "metadata": {
    "_cell_guid": "b1076dfc-b9ad-4769-8c92-a6c4dae69d19",
    "_uuid": "8f2839f25d086af736a60e9eeb907d3b93b6e0e5",
    "execution": {
     "iopub.execute_input": "2021-12-03T21:54:56.200116Z",
     "iopub.status.busy": "2021-12-03T21:54:56.199238Z",
     "iopub.status.idle": "2021-12-03T21:55:01.50949Z",
     "shell.execute_reply": "2021-12-03T21:55:01.508635Z",
     "shell.execute_reply.started": "2021-12-03T21:54:56.199991Z"
    }
   },
   "outputs": [
    {
     "data": {
      "text/plain": [
       "\"\\nimport os\\nfor dirname, _, filenames in os.walk('/kaggle/input'):\\n    for filename in filenames:\\n        print(os.path.join(dirname, filename))\\n\""
      ]
     },
     "execution_count": 1,
     "metadata": {},
     "output_type": "execute_result"
    }
   ],
   "source": [
    "# This Python 3 environment comes with many helpful analytics libraries installed\n",
    "# It is defined by the kaggle/python Docker image: https://github.com/kaggle/docker-python\n",
    "# For example, here's several helpful packages to load\n",
    "\n",
    "import numpy as np # linear algebra\n",
    "import pandas as pd # data processing, CSV file I/O (e.g. pd.read_csv)\n",
    "import tensorflow as tf\n",
    "\n",
    "# Input data files are available in the read-only \"../input/\" directory\n",
    "# For example, running this (by clicking run or pressing Shift+Enter) will list all files under the input directory\n",
    "'''\n",
    "import os\n",
    "for dirname, _, filenames in os.walk('/kaggle/input'):\n",
    "    for filename in filenames:\n",
    "        print(os.path.join(dirname, filename))\n",
    "'''\n",
    "# You can write up to 20GB to the current directory (/kaggle/working/) that gets preserved as output when you create a version using \"Save & Run All\" \n",
    "# You can also write temporary files to /kaggle/temp/, but they won't be saved outside of the current session"
   ]
  },
  {
   "cell_type": "markdown",
   "metadata": {},
   "source": [
    "# in those notebook we're going to cover some of the most fundamental concepts of tensorflow\n",
    "\n",
    "more specifically we're going to cover:\n",
    "* Intro to tensors\n",
    "* getting info from tensors\n",
    "* manipulating tensors\n",
    "* tensors and numpy\n",
    "* using @tf.function (a way to speed up your regular python functions\n",
    "* using gpu with tf\n",
    "* exercises to try yourself"
   ]
  },
  {
   "cell_type": "markdown",
   "metadata": {
    "execution": {
     "iopub.execute_input": "2021-10-12T21:19:48.345257Z",
     "iopub.status.busy": "2021-10-12T21:19:48.344865Z",
     "iopub.status.idle": "2021-10-12T21:19:48.439666Z",
     "shell.execute_reply": "2021-10-12T21:19:48.438227Z",
     "shell.execute_reply.started": "2021-10-12T21:19:48.345155Z"
    }
   },
   "source": [
    "# Intro to tensors"
   ]
  },
  {
   "cell_type": "code",
   "execution_count": 2,
   "metadata": {
    "execution": {
     "iopub.execute_input": "2021-12-03T21:55:01.511407Z",
     "iopub.status.busy": "2021-12-03T21:55:01.511162Z",
     "iopub.status.idle": "2021-12-03T21:55:01.516884Z",
     "shell.execute_reply": "2021-12-03T21:55:01.515785Z",
     "shell.execute_reply.started": "2021-12-03T21:55:01.511364Z"
    }
   },
   "outputs": [
    {
     "name": "stdout",
     "output_type": "stream",
     "text": [
      "2.4.0\n"
     ]
    }
   ],
   "source": [
    "#import tensorflow\n",
    "import tensorflow as tf\n",
    "print(tf.__version__)\n"
   ]
  },
  {
   "cell_type": "markdown",
   "metadata": {},
   "source": [
    "### creating tensors with tf.constant()"
   ]
  },
  {
   "cell_type": "code",
   "execution_count": 3,
   "metadata": {
    "execution": {
     "iopub.execute_input": "2021-12-03T21:55:01.519233Z",
     "iopub.status.busy": "2021-12-03T21:55:01.518316Z",
     "iopub.status.idle": "2021-12-03T21:55:01.558466Z",
     "shell.execute_reply": "2021-12-03T21:55:01.557657Z",
     "shell.execute_reply.started": "2021-12-03T21:55:01.519186Z"
    }
   },
   "outputs": [
    {
     "data": {
      "text/plain": [
       "<tf.Tensor: shape=(), dtype=int32, numpy=7>"
      ]
     },
     "execution_count": 3,
     "metadata": {},
     "output_type": "execute_result"
    }
   ],
   "source": [
    "#create first tensors with tf.constant()\n",
    "\n",
    "scalar = tf.constant(7)\n",
    "\n",
    "scalar"
   ]
  },
  {
   "cell_type": "code",
   "execution_count": 4,
   "metadata": {
    "execution": {
     "iopub.execute_input": "2021-12-03T21:55:01.560827Z",
     "iopub.status.busy": "2021-12-03T21:55:01.55983Z",
     "iopub.status.idle": "2021-12-03T21:55:01.576008Z",
     "shell.execute_reply": "2021-12-03T21:55:01.574994Z",
     "shell.execute_reply.started": "2021-12-03T21:55:01.56079Z"
    }
   },
   "outputs": [
    {
     "data": {
      "text/plain": [
       "0"
      ]
     },
     "execution_count": 4,
     "metadata": {},
     "output_type": "execute_result"
    }
   ],
   "source": [
    "#check ndim of tensor\n",
    "scalar.ndim"
   ]
  },
  {
   "cell_type": "code",
   "execution_count": 5,
   "metadata": {
    "execution": {
     "iopub.execute_input": "2021-12-03T21:55:01.581036Z",
     "iopub.status.busy": "2021-12-03T21:55:01.580703Z",
     "iopub.status.idle": "2021-12-03T21:55:01.589699Z",
     "shell.execute_reply": "2021-12-03T21:55:01.588939Z",
     "shell.execute_reply.started": "2021-12-03T21:55:01.581003Z"
    }
   },
   "outputs": [
    {
     "name": "stdout",
     "output_type": "stream",
     "text": [
      "tf.Tensor([10 10], shape=(2,), dtype=int32)\n"
     ]
    }
   ],
   "source": [
    "#create a vector\n",
    "vector = tf.constant([10,10])\n",
    "print(vector)"
   ]
  },
  {
   "cell_type": "code",
   "execution_count": 6,
   "metadata": {
    "execution": {
     "iopub.execute_input": "2021-12-03T21:55:01.591826Z",
     "iopub.status.busy": "2021-12-03T21:55:01.590934Z",
     "iopub.status.idle": "2021-12-03T21:55:01.60048Z",
     "shell.execute_reply": "2021-12-03T21:55:01.599541Z",
     "shell.execute_reply.started": "2021-12-03T21:55:01.591794Z"
    }
   },
   "outputs": [
    {
     "data": {
      "text/plain": [
       "1"
      ]
     },
     "execution_count": 6,
     "metadata": {},
     "output_type": "execute_result"
    }
   ],
   "source": [
    "#check to ndim of vector\n",
    "vector.ndim"
   ]
  },
  {
   "cell_type": "code",
   "execution_count": 7,
   "metadata": {
    "execution": {
     "iopub.execute_input": "2021-12-03T21:55:01.602932Z",
     "iopub.status.busy": "2021-12-03T21:55:01.602192Z",
     "iopub.status.idle": "2021-12-03T21:55:01.61239Z",
     "shell.execute_reply": "2021-12-03T21:55:01.611285Z",
     "shell.execute_reply.started": "2021-12-03T21:55:01.602887Z"
    }
   },
   "outputs": [
    {
     "name": "stdout",
     "output_type": "stream",
     "text": [
      "tf.Tensor(\n",
      "[[10  7]\n",
      " [ 7 10]], shape=(2, 2), dtype=int32)\n"
     ]
    }
   ],
   "source": [
    "#create a matrix\n",
    "matrix = tf.constant([[10,7],[7,10]])\n",
    "print(matrix)"
   ]
  },
  {
   "cell_type": "code",
   "execution_count": 8,
   "metadata": {
    "execution": {
     "iopub.execute_input": "2021-12-03T21:55:01.615229Z",
     "iopub.status.busy": "2021-12-03T21:55:01.614541Z",
     "iopub.status.idle": "2021-12-03T21:55:01.623603Z",
     "shell.execute_reply": "2021-12-03T21:55:01.622484Z",
     "shell.execute_reply.started": "2021-12-03T21:55:01.61517Z"
    }
   },
   "outputs": [
    {
     "data": {
      "text/plain": [
       "2"
      ]
     },
     "execution_count": 8,
     "metadata": {},
     "output_type": "execute_result"
    }
   ],
   "source": [
    "#get matrix ndim\n",
    "matrix.ndim\n",
    "#the number of elements in a tensors shape represents the number of dimensions"
   ]
  },
  {
   "cell_type": "code",
   "execution_count": 9,
   "metadata": {
    "execution": {
     "iopub.execute_input": "2021-12-03T21:55:01.62651Z",
     "iopub.status.busy": "2021-12-03T21:55:01.626231Z",
     "iopub.status.idle": "2021-12-03T21:55:01.635417Z",
     "shell.execute_reply": "2021-12-03T21:55:01.634587Z",
     "shell.execute_reply.started": "2021-12-03T21:55:01.626479Z"
    }
   },
   "outputs": [
    {
     "name": "stdout",
     "output_type": "stream",
     "text": [
      "tf.Tensor(\n",
      "[[10.  7.]\n",
      " [ 3.  2.]\n",
      " [ 8.  9.]], shape=(3, 2), dtype=float16)\n"
     ]
    }
   ],
   "source": [
    "#create another matrix with specified dtype\n",
    "another_matrix = tf.constant([[10.,7.],\n",
    "                             [3.,2.],\n",
    "                            [8.,9.]], dtype = tf.float16)\n",
    "print(another_matrix)\n",
    "#by default, tensors are created as int32"
   ]
  },
  {
   "cell_type": "code",
   "execution_count": 10,
   "metadata": {
    "execution": {
     "iopub.execute_input": "2021-12-03T21:55:01.637515Z",
     "iopub.status.busy": "2021-12-03T21:55:01.636884Z",
     "iopub.status.idle": "2021-12-03T21:55:01.646666Z",
     "shell.execute_reply": "2021-12-03T21:55:01.645528Z",
     "shell.execute_reply.started": "2021-12-03T21:55:01.637464Z"
    }
   },
   "outputs": [
    {
     "data": {
      "text/plain": [
       "2"
      ]
     },
     "execution_count": 10,
     "metadata": {},
     "output_type": "execute_result"
    }
   ],
   "source": [
    "#what is ndim of another matrix?\n",
    "another_matrix.ndim"
   ]
  },
  {
   "cell_type": "code",
   "execution_count": 11,
   "metadata": {
    "execution": {
     "iopub.execute_input": "2021-12-03T21:55:01.648567Z",
     "iopub.status.busy": "2021-12-03T21:55:01.648047Z",
     "iopub.status.idle": "2021-12-03T21:55:01.657542Z",
     "shell.execute_reply": "2021-12-03T21:55:01.65674Z",
     "shell.execute_reply.started": "2021-12-03T21:55:01.648535Z"
    }
   },
   "outputs": [
    {
     "name": "stdout",
     "output_type": "stream",
     "text": [
      "tf.Tensor(\n",
      "[[[ 1  2  3]\n",
      "  [ 4  5  6]]\n",
      "\n",
      " [[ 7  8  9]\n",
      "  [10 11 12]]\n",
      "\n",
      " [[13 14 15]\n",
      "  [16 17 18]]], shape=(3, 2, 3), dtype=int32)\n"
     ]
    }
   ],
   "source": [
    "#now let's create a tensor\n",
    "tensor = tf.constant([[[1,2,3],\n",
    "                      [4,5,6]],\n",
    "                     [[7,8,9],\n",
    "                     [10,11,12]],\n",
    "                     [[13,14,15],\n",
    "                     [16,17,18]]])\n",
    "print(tensor)"
   ]
  },
  {
   "cell_type": "code",
   "execution_count": 12,
   "metadata": {
    "execution": {
     "iopub.execute_input": "2021-12-03T21:55:01.659495Z",
     "iopub.status.busy": "2021-12-03T21:55:01.658588Z",
     "iopub.status.idle": "2021-12-03T21:55:01.670103Z",
     "shell.execute_reply": "2021-12-03T21:55:01.669053Z",
     "shell.execute_reply.started": "2021-12-03T21:55:01.659444Z"
    }
   },
   "outputs": [
    {
     "data": {
      "text/plain": [
       "3"
      ]
     },
     "execution_count": 12,
     "metadata": {},
     "output_type": "execute_result"
    }
   ],
   "source": [
    "#find tensor number of dimensions\n",
    "tensor.ndim"
   ]
  },
  {
   "cell_type": "markdown",
   "metadata": {},
   "source": [
    "What we've created so far:\n",
    "* scalar: a single number\n",
    "* vector: a number with direction (e.g. wind speed and direction)\n",
    "* matrix: a 2-d array of numbers\n",
    "* tensor: an n-dimension array of numbers (where n can be any number. a 0-d tensor is scalar, a 1-d tensor is a vector"
   ]
  },
  {
   "cell_type": "markdown",
   "metadata": {},
   "source": [
    "### create tensors with tf.Variable()"
   ]
  },
  {
   "cell_type": "markdown",
   "metadata": {},
   "source": [
    "The `Variable()` constructor requires an initial value for the variable, which\n",
    "can be a `Tensor` of any type and shape. This initial value defines the type\n",
    "and shape of the variable. After construction, the type and shape of the\n",
    "variable are fixed. The value can be changed using one of the assign methods."
   ]
  },
  {
   "cell_type": "code",
   "execution_count": 13,
   "metadata": {
    "execution": {
     "iopub.execute_input": "2021-12-03T21:55:01.672258Z",
     "iopub.status.busy": "2021-12-03T21:55:01.67145Z",
     "iopub.status.idle": "2021-12-03T21:55:01.702006Z",
     "shell.execute_reply": "2021-12-03T21:55:01.701019Z",
     "shell.execute_reply.started": "2021-12-03T21:55:01.672213Z"
    }
   },
   "outputs": [
    {
     "data": {
      "text/plain": [
       "(<tf.Variable 'Variable:0' shape=(2,) dtype=int32, numpy=array([10,  7])>,\n",
       " <tf.Tensor: shape=(2,), dtype=int32, numpy=array([10,  7])>)"
      ]
     },
     "execution_count": 13,
     "metadata": {},
     "output_type": "execute_result"
    }
   ],
   "source": [
    "changeable_tensor = tf.Variable([10,7])\n",
    "unchangeable_tensor = tf.constant([10,7])\n",
    "changeable_tensor, unchangeable_tensor\n",
    "#notice output of changeable_tensor is tf.Variable 'Variable:0' shape=(2,)"
   ]
  },
  {
   "cell_type": "code",
   "execution_count": 14,
   "metadata": {
    "execution": {
     "iopub.execute_input": "2021-12-03T21:55:01.70644Z",
     "iopub.status.busy": "2021-12-03T21:55:01.706134Z",
     "iopub.status.idle": "2021-12-03T21:55:01.729767Z",
     "shell.execute_reply": "2021-12-03T21:55:01.728889Z",
     "shell.execute_reply.started": "2021-12-03T21:55:01.706391Z"
    }
   },
   "outputs": [
    {
     "data": {
      "text/plain": [
       "<tf.Variable 'Variable:0' shape=(2,) dtype=int32, numpy=array([7, 7])>"
      ]
     },
     "execution_count": 14,
     "metadata": {},
     "output_type": "execute_result"
    }
   ],
   "source": [
    "#let's change the values of changeable_tensor\n",
    "#changeable_tensor[0] = 7   #this throws an error\n",
    "#changeable_tensor\n",
    "changeable_tensor[0].assign(7)\n",
    "changeable_tensor"
   ]
  },
  {
   "cell_type": "code",
   "execution_count": 15,
   "metadata": {
    "execution": {
     "iopub.execute_input": "2021-12-03T21:55:01.731233Z",
     "iopub.status.busy": "2021-12-03T21:55:01.730812Z",
     "iopub.status.idle": "2021-12-03T21:55:01.735678Z",
     "shell.execute_reply": "2021-12-03T21:55:01.734665Z",
     "shell.execute_reply.started": "2021-12-03T21:55:01.731187Z"
    }
   },
   "outputs": [],
   "source": [
    "#now let's try changing a value of unchangeable_tensor\n",
    "#unchangeable_tensor[0] = 7   \n",
    "#unchangeable_tensor[0].assign(7)\n",
    "#by of these throw errors\n",
    "#tensorflow.python.framework.ops.EagerTensor' object does not support item assignment\n",
    "#obviously tf.constant has no .assign() method"
   ]
  },
  {
   "cell_type": "markdown",
   "metadata": {},
   "source": [
    "rarely in practice will you need to decide whether to use tf.constant or tf.Variable to create tensors, as tf does this for you. however, if in doubt, use tf.constant and chnage it later if needed."
   ]
  },
  {
   "cell_type": "markdown",
   "metadata": {},
   "source": [
    "### creating random tensors\n",
    "\n",
    "* random tensors are tensors of some arbitrary size which contain random numbers.\n",
    "* random numbers are generally used to intialize weights in neural networks.\n",
    "* as the nn sees more examples of the data it begins to change these random weights to better predict the outputs"
   ]
  },
  {
   "cell_type": "code",
   "execution_count": 16,
   "metadata": {
    "execution": {
     "iopub.execute_input": "2021-12-03T21:55:01.737282Z",
     "iopub.status.busy": "2021-12-03T21:55:01.737045Z",
     "iopub.status.idle": "2021-12-03T21:55:01.759978Z",
     "shell.execute_reply": "2021-12-03T21:55:01.759275Z",
     "shell.execute_reply.started": "2021-12-03T21:55:01.737253Z"
    }
   },
   "outputs": [
    {
     "data": {
      "text/plain": [
       "<tf.Tensor: shape=(3, 2), dtype=float32, numpy=\n",
       "array([[-0.7565803 , -0.06854702],\n",
       "       [ 0.07595026, -1.2573844 ],\n",
       "       [-0.23193765, -1.8107855 ]], dtype=float32)>"
      ]
     },
     "execution_count": 16,
     "metadata": {},
     "output_type": "execute_result"
    }
   ],
   "source": [
    "#create 2 random tensors\n",
    "random1 = tf.random.Generator.from_seed(42)\n",
    "random1 = random1.normal(shape = (3,2))\n",
    "random1"
   ]
  },
  {
   "cell_type": "code",
   "execution_count": 17,
   "metadata": {
    "execution": {
     "iopub.execute_input": "2021-12-03T21:55:01.761667Z",
     "iopub.status.busy": "2021-12-03T21:55:01.76105Z",
     "iopub.status.idle": "2021-12-03T21:55:01.773936Z",
     "shell.execute_reply": "2021-12-03T21:55:01.773021Z",
     "shell.execute_reply.started": "2021-12-03T21:55:01.761628Z"
    }
   },
   "outputs": [
    {
     "data": {
      "text/plain": [
       "<tf.Tensor: shape=(3, 2), dtype=float32, numpy=\n",
       "array([[0.7493447 , 0.73561966],\n",
       "       [0.45230794, 0.49039817],\n",
       "       [0.1889317 , 0.52027524]], dtype=float32)>"
      ]
     },
     "execution_count": 17,
     "metadata": {},
     "output_type": "execute_result"
    }
   ],
   "source": [
    "random2 = tf.random.Generator.from_seed(42)\n",
    "random2 = random2.uniform(shape = (3,2))\n",
    "random2"
   ]
  },
  {
   "cell_type": "code",
   "execution_count": 18,
   "metadata": {
    "execution": {
     "iopub.execute_input": "2021-12-03T21:55:01.775555Z",
     "iopub.status.busy": "2021-12-03T21:55:01.775154Z",
     "iopub.status.idle": "2021-12-03T21:55:01.783822Z",
     "shell.execute_reply": "2021-12-03T21:55:01.783146Z",
     "shell.execute_reply.started": "2021-12-03T21:55:01.775525Z"
    }
   },
   "outputs": [
    {
     "data": {
      "text/plain": [
       "<tf.Tensor: shape=(3, 2), dtype=float32, numpy=\n",
       "array([[0.4084915 , 0.16175425],\n",
       "       [0.29083335, 0.02440453],\n",
       "       [0.68619883, 0.8303734 ]], dtype=float32)>"
      ]
     },
     "execution_count": 18,
     "metadata": {},
     "output_type": "execute_result"
    }
   ],
   "source": [
    "random3 = tf.random.uniform(shape = (3,2))\n",
    "random3"
   ]
  },
  {
   "cell_type": "markdown",
   "metadata": {},
   "source": [
    "### shuffling the order of tensors"
   ]
  },
  {
   "cell_type": "code",
   "execution_count": 19,
   "metadata": {
    "execution": {
     "iopub.execute_input": "2021-12-03T21:55:01.785561Z",
     "iopub.status.busy": "2021-12-03T21:55:01.785147Z",
     "iopub.status.idle": "2021-12-03T21:55:01.790202Z",
     "shell.execute_reply": "2021-12-03T21:55:01.789299Z",
     "shell.execute_reply.started": "2021-12-03T21:55:01.785525Z"
    }
   },
   "outputs": [],
   "source": [
    "#why shuffle order of tensors?\n",
    "#if we have a bunch of photos of ramen and a bunch of photos\n",
    "#of spaghetti, we don't want to train the model on the first\n",
    "#1000 images that are all ramen first and then the last 500\n",
    "#images that are spaghetti. We want to randomize the order in which\n",
    "#the images are trained so the model can adjust weights to account\n",
    "#for both types of images at the same time"
   ]
  },
  {
   "cell_type": "code",
   "execution_count": 20,
   "metadata": {
    "execution": {
     "iopub.execute_input": "2021-12-03T21:55:01.791807Z",
     "iopub.status.busy": "2021-12-03T21:55:01.791584Z",
     "iopub.status.idle": "2021-12-03T21:55:01.800092Z",
     "shell.execute_reply": "2021-12-03T21:55:01.799076Z",
     "shell.execute_reply.started": "2021-12-03T21:55:01.79178Z"
    }
   },
   "outputs": [],
   "source": [
    "not_shuffled = tf.constant([[10,7],\n",
    "                            [3,4],\n",
    "                            [2,5]])"
   ]
  },
  {
   "cell_type": "code",
   "execution_count": 21,
   "metadata": {
    "execution": {
     "iopub.execute_input": "2021-12-03T21:55:01.801885Z",
     "iopub.status.busy": "2021-12-03T21:55:01.801283Z",
     "iopub.status.idle": "2021-12-03T21:55:01.812051Z",
     "shell.execute_reply": "2021-12-03T21:55:01.811085Z",
     "shell.execute_reply.started": "2021-12-03T21:55:01.801846Z"
    }
   },
   "outputs": [
    {
     "data": {
      "text/plain": [
       "(2, TensorShape([3, 2]))"
      ]
     },
     "execution_count": 21,
     "metadata": {},
     "output_type": "execute_result"
    }
   ],
   "source": [
    "not_shuffled.ndim, not_shuffled.shape"
   ]
  },
  {
   "cell_type": "markdown",
   "metadata": {
    "execution": {
     "iopub.execute_input": "2021-10-19T21:48:08.406909Z",
     "iopub.status.busy": "2021-10-19T21:48:08.406681Z",
     "iopub.status.idle": "2021-10-19T21:48:08.414924Z",
     "shell.execute_reply": "2021-10-19T21:48:08.414342Z",
     "shell.execute_reply.started": "2021-10-19T21:48:08.406884Z"
    }
   },
   "source": [
    "tf.random.shuffle randomly shuffles a tensor along its first dimension"
   ]
  },
  {
   "cell_type": "code",
   "execution_count": 22,
   "metadata": {
    "execution": {
     "iopub.execute_input": "2021-12-03T21:55:01.813724Z",
     "iopub.status.busy": "2021-12-03T21:55:01.813246Z",
     "iopub.status.idle": "2021-12-03T21:55:01.830354Z",
     "shell.execute_reply": "2021-12-03T21:55:01.829491Z",
     "shell.execute_reply.started": "2021-12-03T21:55:01.81369Z"
    }
   },
   "outputs": [
    {
     "data": {
      "text/plain": [
       "(<tf.Tensor: shape=(3, 2), dtype=int32, numpy=\n",
       " array([[10,  7],\n",
       "        [ 3,  4],\n",
       "        [ 2,  5]])>,\n",
       " <tf.Tensor: shape=(3, 2), dtype=int32, numpy=\n",
       " array([[ 3,  4],\n",
       "        [10,  7],\n",
       "        [ 2,  5]])>)"
      ]
     },
     "execution_count": 22,
     "metadata": {},
     "output_type": "execute_result"
    }
   ],
   "source": [
    "shuffled = tf.random.shuffle(not_shuffled)\n",
    "not_shuffled, shuffled"
   ]
  },
  {
   "attachments": {
    "7beb1b84-1c09-4c72-84ea-a8c5b7fcf3ee.png": {
     "image/png": "[encoded data removed]"
    }
   },
   "cell_type": "markdown",
   "metadata": {
    "execution": {
     "iopub.execute_input": "2021-10-19T21:50:31.486749Z",
     "iopub.status.busy": "2021-10-19T21:50:31.486039Z",
     "iopub.status.idle": "2021-10-19T21:50:31.489919Z",
     "shell.execute_reply": "2021-10-19T21:50:31.48925Z",
     "shell.execute_reply.started": "2021-10-19T21:50:31.486716Z"
    }
   },
   "source": [
    "* the values in each row statys the same, the only thing that changes is the order of the rows themselves\n",
    "* ![image.png](attachment:7beb1b84-1c09-4c72-84ea-a8c5b7fcf3ee.png)"
   ]
  },
  {
   "cell_type": "markdown",
   "metadata": {},
   "source": [
    "### Other ways to create tensors"
   ]
  },
  {
   "cell_type": "code",
   "execution_count": 23,
   "metadata": {
    "execution": {
     "iopub.execute_input": "2021-12-03T21:55:01.83221Z",
     "iopub.status.busy": "2021-12-03T21:55:01.8318Z",
     "iopub.status.idle": "2021-12-03T21:55:01.842489Z",
     "shell.execute_reply": "2021-12-03T21:55:01.841484Z",
     "shell.execute_reply.started": "2021-12-03T21:55:01.832179Z"
    }
   },
   "outputs": [
    {
     "data": {
      "text/plain": [
       "<tf.Tensor: shape=(3, 2), dtype=float32, numpy=\n",
       "array([[1., 1.],\n",
       "       [1., 1.],\n",
       "       [1., 1.]], dtype=float32)>"
      ]
     },
     "execution_count": 23,
     "metadata": {},
     "output_type": "execute_result"
    }
   ],
   "source": [
    "#ones\n",
    "tf.ones(shape = (3,2))"
   ]
  },
  {
   "cell_type": "code",
   "execution_count": 24,
   "metadata": {
    "execution": {
     "iopub.execute_input": "2021-12-03T21:55:01.844592Z",
     "iopub.status.busy": "2021-12-03T21:55:01.844062Z",
     "iopub.status.idle": "2021-12-03T21:55:01.852259Z",
     "shell.execute_reply": "2021-12-03T21:55:01.851636Z",
     "shell.execute_reply.started": "2021-12-03T21:55:01.844545Z"
    }
   },
   "outputs": [
    {
     "data": {
      "text/plain": [
       "<tf.Tensor: shape=(10, 7), dtype=float32, numpy=\n",
       "array([[0., 0., 0., 0., 0., 0., 0.],\n",
       "       [0., 0., 0., 0., 0., 0., 0.],\n",
       "       [0., 0., 0., 0., 0., 0., 0.],\n",
       "       [0., 0., 0., 0., 0., 0., 0.],\n",
       "       [0., 0., 0., 0., 0., 0., 0.],\n",
       "       [0., 0., 0., 0., 0., 0., 0.],\n",
       "       [0., 0., 0., 0., 0., 0., 0.],\n",
       "       [0., 0., 0., 0., 0., 0., 0.],\n",
       "       [0., 0., 0., 0., 0., 0., 0.],\n",
       "       [0., 0., 0., 0., 0., 0., 0.]], dtype=float32)>"
      ]
     },
     "execution_count": 24,
     "metadata": {},
     "output_type": "execute_result"
    }
   ],
   "source": [
    "#zeroes\n",
    "tf.zeros(shape = (10,7))"
   ]
  },
  {
   "cell_type": "markdown",
   "metadata": {},
   "source": [
    "### Turn NP arrays into tensors\n",
    "\n",
    "the main difference between np arrays and tf tensors are that tensors can be run on a gpu much faster for numerical computing"
   ]
  },
  {
   "cell_type": "code",
   "execution_count": 25,
   "metadata": {
    "execution": {
     "iopub.execute_input": "2021-12-03T21:55:01.853852Z",
     "iopub.status.busy": "2021-12-03T21:55:01.853594Z",
     "iopub.status.idle": "2021-12-03T21:55:01.861755Z",
     "shell.execute_reply": "2021-12-03T21:55:01.861061Z",
     "shell.execute_reply.started": "2021-12-03T21:55:01.853823Z"
    }
   },
   "outputs": [
    {
     "data": {
      "text/plain": [
       "array([ 1,  2,  3,  4,  5,  6,  7,  8,  9, 10, 11, 12, 13, 14, 15, 16, 17,\n",
       "       18, 19, 20, 21, 22, 23, 24])"
      ]
     },
     "execution_count": 25,
     "metadata": {},
     "output_type": "execute_result"
    }
   ],
   "source": [
    "#tensors from np arrays\n",
    "numpy_A = np.arange(1,25, dtype = np.int32)\n",
    "numpy_A"
   ]
  },
  {
   "cell_type": "code",
   "execution_count": 26,
   "metadata": {
    "execution": {
     "iopub.execute_input": "2021-12-03T21:55:01.863471Z",
     "iopub.status.busy": "2021-12-03T21:55:01.862767Z",
     "iopub.status.idle": "2021-12-03T21:55:01.873312Z",
     "shell.execute_reply": "2021-12-03T21:55:01.872457Z",
     "shell.execute_reply.started": "2021-12-03T21:55:01.863431Z"
    }
   },
   "outputs": [
    {
     "data": {
      "text/plain": [
       "<tf.Tensor: shape=(24,), dtype=int32, numpy=\n",
       "array([ 1,  2,  3,  4,  5,  6,  7,  8,  9, 10, 11, 12, 13, 14, 15, 16, 17,\n",
       "       18, 19, 20, 21, 22, 23, 24])>"
      ]
     },
     "execution_count": 26,
     "metadata": {},
     "output_type": "execute_result"
    }
   ],
   "source": [
    "A = tf.constant(numpy_A)\n",
    "A"
   ]
  },
  {
   "cell_type": "code",
   "execution_count": 27,
   "metadata": {
    "execution": {
     "iopub.execute_input": "2021-12-03T21:55:01.875945Z",
     "iopub.status.busy": "2021-12-03T21:55:01.874659Z",
     "iopub.status.idle": "2021-12-03T21:55:01.887375Z",
     "shell.execute_reply": "2021-12-03T21:55:01.886485Z",
     "shell.execute_reply.started": "2021-12-03T21:55:01.875912Z"
    }
   },
   "outputs": [
    {
     "data": {
      "text/plain": [
       "<tf.Tensor: shape=(2, 3, 4), dtype=int32, numpy=\n",
       "array([[[ 1,  2,  3,  4],\n",
       "        [ 5,  6,  7,  8],\n",
       "        [ 9, 10, 11, 12]],\n",
       "\n",
       "       [[13, 14, 15, 16],\n",
       "        [17, 18, 19, 20],\n",
       "        [21, 22, 23, 24]]])>"
      ]
     },
     "execution_count": 27,
     "metadata": {},
     "output_type": "execute_result"
    }
   ],
   "source": [
    "B = tf.constant(numpy_A, shape = (2,3,4))\n",
    "B"
   ]
  },
  {
   "cell_type": "markdown",
   "metadata": {},
   "source": [
    "### Getting info from  your tensors (attributes)\n",
    "* shape - the length (number of elements) of each of the dimensions of a tensor.  tensor.shape\n",
    "* rank - the number of tensor dimensions. A scalar has rank 0, a vector has rank 1, a matrix is rank 2.  tensor.ndim\n",
    "* axis or dimension - a particular dimension of a tensor.  tensor[0], tensor[:,1]...\n",
    "* size - the total number of itens in the tensor.   tf.size(tensor)"
   ]
  },
  {
   "attachments": {
    "71fcf832-9f24-4f84-99df-fa28eb1e8e83.png": {
     "image/png": "[encoded data removed]"
    }
   },
   "cell_type": "markdown",
   "metadata": {},
   "source": [
    "![image.png](attachment:71fcf832-9f24-4f84-99df-fa28eb1e8e83.png)"
   ]
  },
  {
   "cell_type": "code",
   "execution_count": 28,
   "metadata": {
    "execution": {
     "iopub.execute_input": "2021-12-03T21:55:01.889076Z",
     "iopub.status.busy": "2021-12-03T21:55:01.888691Z",
     "iopub.status.idle": "2021-12-03T21:55:01.897867Z",
     "shell.execute_reply": "2021-12-03T21:55:01.897225Z",
     "shell.execute_reply.started": "2021-12-03T21:55:01.889042Z"
    }
   },
   "outputs": [
    {
     "data": {
      "text/plain": [
       "<tf.Tensor: shape=(2, 3, 4, 5), dtype=float32, numpy=\n",
       "array([[[[0., 0., 0., 0., 0.],\n",
       "         [0., 0., 0., 0., 0.],\n",
       "         [0., 0., 0., 0., 0.],\n",
       "         [0., 0., 0., 0., 0.]],\n",
       "\n",
       "        [[0., 0., 0., 0., 0.],\n",
       "         [0., 0., 0., 0., 0.],\n",
       "         [0., 0., 0., 0., 0.],\n",
       "         [0., 0., 0., 0., 0.]],\n",
       "\n",
       "        [[0., 0., 0., 0., 0.],\n",
       "         [0., 0., 0., 0., 0.],\n",
       "         [0., 0., 0., 0., 0.],\n",
       "         [0., 0., 0., 0., 0.]]],\n",
       "\n",
       "\n",
       "       [[[0., 0., 0., 0., 0.],\n",
       "         [0., 0., 0., 0., 0.],\n",
       "         [0., 0., 0., 0., 0.],\n",
       "         [0., 0., 0., 0., 0.]],\n",
       "\n",
       "        [[0., 0., 0., 0., 0.],\n",
       "         [0., 0., 0., 0., 0.],\n",
       "         [0., 0., 0., 0., 0.],\n",
       "         [0., 0., 0., 0., 0.]],\n",
       "\n",
       "        [[0., 0., 0., 0., 0.],\n",
       "         [0., 0., 0., 0., 0.],\n",
       "         [0., 0., 0., 0., 0.],\n",
       "         [0., 0., 0., 0., 0.]]]], dtype=float32)>"
      ]
     },
     "execution_count": 28,
     "metadata": {},
     "output_type": "execute_result"
    }
   ],
   "source": [
    "#create a rank 4 tensor\n",
    "rank4_tensor = tf.zeros(shape = (2,3,4,5))\n",
    "rank4_tensor"
   ]
  },
  {
   "cell_type": "code",
   "execution_count": 29,
   "metadata": {
    "execution": {
     "iopub.execute_input": "2021-12-03T21:55:01.899352Z",
     "iopub.status.busy": "2021-12-03T21:55:01.898824Z",
     "iopub.status.idle": "2021-12-03T21:55:01.913914Z",
     "shell.execute_reply": "2021-12-03T21:55:01.912976Z",
     "shell.execute_reply.started": "2021-12-03T21:55:01.899323Z"
    }
   },
   "outputs": [
    {
     "data": {
      "text/plain": [
       "<tf.Tensor: shape=(3, 4, 5), dtype=float32, numpy=\n",
       "array([[[0., 0., 0., 0., 0.],\n",
       "        [0., 0., 0., 0., 0.],\n",
       "        [0., 0., 0., 0., 0.],\n",
       "        [0., 0., 0., 0., 0.]],\n",
       "\n",
       "       [[0., 0., 0., 0., 0.],\n",
       "        [0., 0., 0., 0., 0.],\n",
       "        [0., 0., 0., 0., 0.],\n",
       "        [0., 0., 0., 0., 0.]],\n",
       "\n",
       "       [[0., 0., 0., 0., 0.],\n",
       "        [0., 0., 0., 0., 0.],\n",
       "        [0., 0., 0., 0., 0.],\n",
       "        [0., 0., 0., 0., 0.]]], dtype=float32)>"
      ]
     },
     "execution_count": 29,
     "metadata": {},
     "output_type": "execute_result"
    }
   ],
   "source": [
    "rank4_tensor[0]"
   ]
  },
  {
   "cell_type": "code",
   "execution_count": 30,
   "metadata": {
    "execution": {
     "iopub.execute_input": "2021-12-03T21:55:01.915807Z",
     "iopub.status.busy": "2021-12-03T21:55:01.915562Z",
     "iopub.status.idle": "2021-12-03T21:55:01.922093Z",
     "shell.execute_reply": "2021-12-03T21:55:01.921481Z",
     "shell.execute_reply.started": "2021-12-03T21:55:01.915779Z"
    }
   },
   "outputs": [
    {
     "data": {
      "text/plain": [
       "(TensorShape([2, 3, 4, 5]), 4, <tf.Tensor: shape=(), dtype=int32, numpy=120>)"
      ]
     },
     "execution_count": 30,
     "metadata": {},
     "output_type": "execute_result"
    }
   ],
   "source": [
    "rank4_tensor.shape, rank4_tensor.ndim, tf.size(rank4_tensor)"
   ]
  },
  {
   "cell_type": "code",
   "execution_count": 31,
   "metadata": {
    "execution": {
     "iopub.execute_input": "2021-12-03T21:55:01.923946Z",
     "iopub.status.busy": "2021-12-03T21:55:01.923205Z",
     "iopub.status.idle": "2021-12-03T21:55:01.935469Z",
     "shell.execute_reply": "2021-12-03T21:55:01.934542Z",
     "shell.execute_reply.started": "2021-12-03T21:55:01.923914Z"
    }
   },
   "outputs": [
    {
     "name": "stdout",
     "output_type": "stream",
     "text": [
      "Datatype of every element:  <dtype: 'float32'>\n",
      "number of dimensions:  4\n",
      "shape of tensor:  (2, 3, 4, 5)\n",
      "elements along 0 axis:  2\n",
      "elements along last axis:  5\n",
      "total number of elements in tensor:  tf.Tensor(120, shape=(), dtype=int32)\n"
     ]
    }
   ],
   "source": [
    "print(\"Datatype of every element: \", rank4_tensor.dtype)\n",
    "print(\"number of dimensions: \", rank4_tensor.ndim)\n",
    "print('shape of tensor: ', rank4_tensor.shape)\n",
    "print('elements along 0 axis: ', rank4_tensor.shape[0])\n",
    "print('elements along last axis: ', rank4_tensor.shape[-1])\n",
    "print('total number of elements in tensor: ', tf.size(rank4_tensor))"
   ]
  },
  {
   "cell_type": "markdown",
   "metadata": {},
   "source": [
    "### Indexing and Expanding Tensors\n",
    "\n",
    "tensors can be indexed just like python lists"
   ]
  },
  {
   "cell_type": "code",
   "execution_count": 32,
   "metadata": {
    "execution": {
     "iopub.execute_input": "2021-12-03T21:55:01.937512Z",
     "iopub.status.busy": "2021-12-03T21:55:01.936632Z",
     "iopub.status.idle": "2021-12-03T21:55:01.952894Z",
     "shell.execute_reply": "2021-12-03T21:55:01.951867Z",
     "shell.execute_reply.started": "2021-12-03T21:55:01.937471Z"
    }
   },
   "outputs": [
    {
     "data": {
      "text/plain": [
       "<tf.Tensor: shape=(2, 2, 2, 2), dtype=float32, numpy=\n",
       "array([[[[0., 0.],\n",
       "         [0., 0.]],\n",
       "\n",
       "        [[0., 0.],\n",
       "         [0., 0.]]],\n",
       "\n",
       "\n",
       "       [[[0., 0.],\n",
       "         [0., 0.]],\n",
       "\n",
       "        [[0., 0.],\n",
       "         [0., 0.]]]], dtype=float32)>"
      ]
     },
     "execution_count": 32,
     "metadata": {},
     "output_type": "execute_result"
    }
   ],
   "source": [
    "#get the first 2 elements of each dimension\n",
    "rank4_tensor[:2,:2,:2,:2]"
   ]
  },
  {
   "cell_type": "code",
   "execution_count": 33,
   "metadata": {
    "execution": {
     "iopub.execute_input": "2021-12-03T21:55:01.954999Z",
     "iopub.status.busy": "2021-12-03T21:55:01.954226Z",
     "iopub.status.idle": "2021-12-03T21:55:01.963384Z",
     "shell.execute_reply": "2021-12-03T21:55:01.962492Z",
     "shell.execute_reply.started": "2021-12-03T21:55:01.95495Z"
    }
   },
   "outputs": [
    {
     "data": {
      "text/plain": [
       "<tf.Tensor: shape=(1, 1, 1, 5), dtype=float32, numpy=array([[[[0., 0., 0., 0., 0.]]]], dtype=float32)>"
      ]
     },
     "execution_count": 33,
     "metadata": {},
     "output_type": "execute_result"
    }
   ],
   "source": [
    "#get the first element from each dimension from each index except the last one\n",
    "rank4_tensor[:1,:1,:1,:]"
   ]
  },
  {
   "cell_type": "code",
   "execution_count": 34,
   "metadata": {
    "execution": {
     "iopub.execute_input": "2021-12-03T21:55:01.965081Z",
     "iopub.status.busy": "2021-12-03T21:55:01.964583Z",
     "iopub.status.idle": "2021-12-03T21:55:01.975862Z",
     "shell.execute_reply": "2021-12-03T21:55:01.974938Z",
     "shell.execute_reply.started": "2021-12-03T21:55:01.965049Z"
    }
   },
   "outputs": [
    {
     "data": {
      "text/plain": [
       "<tf.Tensor: shape=(1, 1, 4, 1), dtype=float32, numpy=\n",
       "array([[[[0.],\n",
       "         [0.],\n",
       "         [0.],\n",
       "         [0.]]]], dtype=float32)>"
      ]
     },
     "execution_count": 34,
     "metadata": {},
     "output_type": "execute_result"
    }
   ],
   "source": [
    "rank4_tensor[:1,:1,:,:1]"
   ]
  },
  {
   "cell_type": "code",
   "execution_count": 35,
   "metadata": {
    "execution": {
     "iopub.execute_input": "2021-12-03T21:55:01.977444Z",
     "iopub.status.busy": "2021-12-03T21:55:01.976911Z",
     "iopub.status.idle": "2021-12-03T21:55:01.989314Z",
     "shell.execute_reply": "2021-12-03T21:55:01.988515Z",
     "shell.execute_reply.started": "2021-12-03T21:55:01.977368Z"
    }
   },
   "outputs": [
    {
     "data": {
      "text/plain": [
       "<tf.Tensor: shape=(2,), dtype=int32, numpy=array([7, 4])>"
      ]
     },
     "execution_count": 35,
     "metadata": {},
     "output_type": "execute_result"
    }
   ],
   "source": [
    "#lets add an extra dimension to the end of the tensor\n",
    "rank2_tensor = tf.constant([[10,7],\n",
    "                           [3,4]])\n",
    "rank2_tensor.shape, rank2_tensor.ndim, tf.size(rank2_tensor)\n",
    "\n",
    "\n",
    "#get the last item of each row\n",
    "rank2_tensor[:,-1]"
   ]
  },
  {
   "cell_type": "code",
   "execution_count": 36,
   "metadata": {
    "execution": {
     "iopub.execute_input": "2021-12-03T21:55:01.99117Z",
     "iopub.status.busy": "2021-12-03T21:55:01.990326Z",
     "iopub.status.idle": "2021-12-03T21:55:01.9992Z",
     "shell.execute_reply": "2021-12-03T21:55:01.998225Z",
     "shell.execute_reply.started": "2021-12-03T21:55:01.991138Z"
    }
   },
   "outputs": [
    {
     "data": {
      "text/plain": [
       "<tf.Tensor: shape=(2, 2, 1), dtype=int32, numpy=\n",
       "array([[[10],\n",
       "        [ 7]],\n",
       "\n",
       "       [[ 3],\n",
       "        [ 4]]])>"
      ]
     },
     "execution_count": 36,
     "metadata": {},
     "output_type": "execute_result"
    }
   ],
   "source": [
    "#add in an extra dimension to rank2_tensor\n",
    "rank3 = rank2_tensor[..., tf.newaxis]\n",
    "rank3\n",
    "#... means to every axis"
   ]
  },
  {
   "cell_type": "code",
   "execution_count": 37,
   "metadata": {
    "execution": {
     "iopub.execute_input": "2021-12-03T21:55:02.001129Z",
     "iopub.status.busy": "2021-12-03T21:55:02.00033Z",
     "iopub.status.idle": "2021-12-03T21:55:02.008476Z",
     "shell.execute_reply": "2021-12-03T21:55:02.007615Z",
     "shell.execute_reply.started": "2021-12-03T21:55:02.001086Z"
    }
   },
   "outputs": [
    {
     "data": {
      "text/plain": [
       "<tf.Tensor: shape=(2, 2, 1), dtype=int32, numpy=\n",
       "array([[[10],\n",
       "        [ 7]],\n",
       "\n",
       "       [[ 3],\n",
       "        [ 4]]])>"
      ]
     },
     "execution_count": 37,
     "metadata": {},
     "output_type": "execute_result"
    }
   ],
   "source": [
    "#alternative to tf.newaxis is tf.expand(dims)\n",
    "tf.expand_dims(rank2_tensor, axis = -1)"
   ]
  },
  {
   "cell_type": "code",
   "execution_count": 38,
   "metadata": {
    "execution": {
     "iopub.execute_input": "2021-12-03T21:55:02.010234Z",
     "iopub.status.busy": "2021-12-03T21:55:02.009812Z",
     "iopub.status.idle": "2021-12-03T21:55:02.020251Z",
     "shell.execute_reply": "2021-12-03T21:55:02.019596Z",
     "shell.execute_reply.started": "2021-12-03T21:55:02.010204Z"
    }
   },
   "outputs": [
    {
     "data": {
      "text/plain": [
       "<tf.Tensor: shape=(1, 2, 2), dtype=int32, numpy=\n",
       "array([[[10,  7],\n",
       "        [ 3,  4]]])>"
      ]
     },
     "execution_count": 38,
     "metadata": {},
     "output_type": "execute_result"
    }
   ],
   "source": [
    "tf.expand_dims(rank2_tensor, axis = 0)"
   ]
  },
  {
   "cell_type": "markdown",
   "metadata": {},
   "source": [
    "### Manipulating Tensors (tensor operations)\n",
    "\n",
    "**basic operations**\n",
    "**+,-, *, /**"
   ]
  },
  {
   "cell_type": "code",
   "execution_count": 39,
   "metadata": {
    "execution": {
     "iopub.execute_input": "2021-12-03T21:55:02.022532Z",
     "iopub.status.busy": "2021-12-03T21:55:02.021925Z",
     "iopub.status.idle": "2021-12-03T21:55:02.032127Z",
     "shell.execute_reply": "2021-12-03T21:55:02.031106Z",
     "shell.execute_reply.started": "2021-12-03T21:55:02.022485Z"
    }
   },
   "outputs": [
    {
     "data": {
      "text/plain": [
       "<tf.Tensor: shape=(2, 2), dtype=int32, numpy=\n",
       "array([[20, 17],\n",
       "       [13, 14]])>"
      ]
     },
     "execution_count": 39,
     "metadata": {},
     "output_type": "execute_result"
    }
   ],
   "source": [
    "#you can add values to a tensors using the addition operator\n",
    "tensor = tf.constant([[10,7],[3,4]])\n",
    "tensor+10\n",
    "#applies the 10 to every value of the tensor"
   ]
  },
  {
   "cell_type": "code",
   "execution_count": 40,
   "metadata": {
    "execution": {
     "iopub.execute_input": "2021-12-03T21:55:02.033995Z",
     "iopub.status.busy": "2021-12-03T21:55:02.033429Z",
     "iopub.status.idle": "2021-12-03T21:55:02.042304Z",
     "shell.execute_reply": "2021-12-03T21:55:02.041625Z",
     "shell.execute_reply.started": "2021-12-03T21:55:02.033935Z"
    }
   },
   "outputs": [
    {
     "data": {
      "text/plain": [
       "<tf.Tensor: shape=(2, 2), dtype=int32, numpy=\n",
       "array([[8, 5],\n",
       "       [1, 2]])>"
      ]
     },
     "execution_count": 40,
     "metadata": {},
     "output_type": "execute_result"
    }
   ],
   "source": [
    "tensor - 2\n",
    "#subtracts 2 from every element of the tensor"
   ]
  },
  {
   "cell_type": "code",
   "execution_count": 41,
   "metadata": {
    "execution": {
     "iopub.execute_input": "2021-12-03T21:55:02.050747Z",
     "iopub.status.busy": "2021-12-03T21:55:02.05007Z",
     "iopub.status.idle": "2021-12-03T21:55:02.05838Z",
     "shell.execute_reply": "2021-12-03T21:55:02.057223Z",
     "shell.execute_reply.started": "2021-12-03T21:55:02.050695Z"
    }
   },
   "outputs": [
    {
     "data": {
      "text/plain": [
       "<tf.Tensor: shape=(2, 2), dtype=int32, numpy=\n",
       "array([[30, 21],\n",
       "       [ 9, 12]])>"
      ]
     },
     "execution_count": 41,
     "metadata": {},
     "output_type": "execute_result"
    }
   ],
   "source": [
    "tensor*3\n",
    "#multiplies every element by 3"
   ]
  },
  {
   "cell_type": "code",
   "execution_count": 42,
   "metadata": {
    "execution": {
     "iopub.execute_input": "2021-12-03T21:55:02.060118Z",
     "iopub.status.busy": "2021-12-03T21:55:02.059537Z",
     "iopub.status.idle": "2021-12-03T21:55:02.06637Z",
     "shell.execute_reply": "2021-12-03T21:55:02.06573Z",
     "shell.execute_reply.started": "2021-12-03T21:55:02.060088Z"
    }
   },
   "outputs": [
    {
     "data": {
      "text/plain": [
       "<tf.Tensor: shape=(2, 2), dtype=int32, numpy=\n",
       "array([[10,  7],\n",
       "       [ 3,  4]])>"
      ]
     },
     "execution_count": 42,
     "metadata": {},
     "output_type": "execute_result"
    }
   ],
   "source": [
    "tensor\n",
    "#original tensor still remains the same unless you actually set it = to itself"
   ]
  },
  {
   "cell_type": "code",
   "execution_count": 43,
   "metadata": {
    "execution": {
     "iopub.execute_input": "2021-12-03T21:55:02.068155Z",
     "iopub.status.busy": "2021-12-03T21:55:02.067334Z",
     "iopub.status.idle": "2021-12-03T21:55:02.077657Z",
     "shell.execute_reply": "2021-12-03T21:55:02.076818Z",
     "shell.execute_reply.started": "2021-12-03T21:55:02.068101Z"
    }
   },
   "outputs": [
    {
     "data": {
      "text/plain": [
       "<tf.Tensor: shape=(2, 2), dtype=int32, numpy=\n",
       "array([[30, 21],\n",
       "       [ 9, 12]])>"
      ]
     },
     "execution_count": 43,
     "metadata": {},
     "output_type": "execute_result"
    }
   ],
   "source": [
    "#tensor flow has functions that do the same thing with the tf library\n",
    "tf.multiply(tensor, 3)"
   ]
  },
  {
   "cell_type": "markdown",
   "metadata": {},
   "source": [
    "This tf.math functions actually run faster on tensors than the standard pythong math symbols. especially when run on a gpu. should always use the tf library functions if possible."
   ]
  },
  {
   "cell_type": "markdown",
   "metadata": {},
   "source": [
    "### Matrix Multiplication w/ Tensors Pt1\n",
    "\n",
    "in machine learning, matrix multiplication is one of the most common tensor operations\n",
    "\n",
    "* uses the tf.linalg.matmul() function\n",
    "\n",
    "* there are 2 rules are tensors must fulfill if we're going to matrix multiply them:\n",
    "1. the inner dimensions must match\n",
    "2. the resulting matrix has the shape of the outer dimensions"
   ]
  },
  {
   "cell_type": "code",
   "execution_count": 44,
   "metadata": {
    "execution": {
     "iopub.execute_input": "2021-12-03T21:55:02.079705Z",
     "iopub.status.busy": "2021-12-03T21:55:02.078869Z",
     "iopub.status.idle": "2021-12-03T21:55:02.090291Z",
     "shell.execute_reply": "2021-12-03T21:55:02.089264Z",
     "shell.execute_reply.started": "2021-12-03T21:55:02.079646Z"
    }
   },
   "outputs": [
    {
     "data": {
      "text/plain": [
       "(<tf.Tensor: shape=(2, 3), dtype=int32, numpy=\n",
       " array([[1, 2, 3],\n",
       "        [4, 5, 6]])>,\n",
       " <tf.Tensor: shape=(3, 2), dtype=int32, numpy=\n",
       " array([[ 7,  8],\n",
       "        [ 9, 10],\n",
       "        [11, 12]])>)"
      ]
     },
     "execution_count": 44,
     "metadata": {},
     "output_type": "execute_result"
    }
   ],
   "source": [
    "t1 = tf.constant([[1,2,3],[4,5,6]])\n",
    "t2 = tf.constant([[7,8],[9,10],[11,12]])\n",
    "t1,t2"
   ]
  },
  {
   "cell_type": "code",
   "execution_count": 45,
   "metadata": {
    "execution": {
     "iopub.execute_input": "2021-12-03T21:55:02.092439Z",
     "iopub.status.busy": "2021-12-03T21:55:02.091903Z",
     "iopub.status.idle": "2021-12-03T21:55:02.107729Z",
     "shell.execute_reply": "2021-12-03T21:55:02.106667Z",
     "shell.execute_reply.started": "2021-12-03T21:55:02.092376Z"
    }
   },
   "outputs": [
    {
     "data": {
      "text/plain": [
       "<tf.Tensor: shape=(2, 2), dtype=int32, numpy=\n",
       "array([[ 58,  64],\n",
       "       [139, 154]])>"
      ]
     },
     "execution_count": 45,
     "metadata": {},
     "output_type": "execute_result"
    }
   ],
   "source": [
    "tf.matmul(t1,t2)"
   ]
  },
  {
   "cell_type": "code",
   "execution_count": 46,
   "metadata": {
    "execution": {
     "iopub.execute_input": "2021-12-03T21:55:02.109821Z",
     "iopub.status.busy": "2021-12-03T21:55:02.108985Z",
     "iopub.status.idle": "2021-12-03T21:55:02.117659Z",
     "shell.execute_reply": "2021-12-03T21:55:02.116662Z",
     "shell.execute_reply.started": "2021-12-03T21:55:02.109773Z"
    }
   },
   "outputs": [
    {
     "data": {
      "text/plain": [
       "<tf.Tensor: shape=(2, 2), dtype=int32, numpy=\n",
       "array([[ 58,  64],\n",
       "       [139, 154]])>"
      ]
     },
     "execution_count": 46,
     "metadata": {},
     "output_type": "execute_result"
    }
   ],
   "source": [
    "#matrix multiplication with Python operation \"@\"\n",
    "t1@t2"
   ]
  },
  {
   "attachments": {
    "fa9073ca-f848-4854-b2f1-dab1965a0e6b.png": {
     "image/png": "[encoded data removed]"
    }
   },
   "cell_type": "markdown",
   "metadata": {},
   "source": [
    "the example below shows what happens when the tensors aren't compatible for matmul. we also cover how to modify the shape of the second tensor to allow for matmul\n",
    "\n",
    "* ![image.png](attachment:fa9073ca-f848-4854-b2f1-dab1965a0e6b.png)\n"
   ]
  },
  {
   "cell_type": "code",
   "execution_count": 47,
   "metadata": {
    "execution": {
     "iopub.execute_input": "2021-12-03T21:55:02.119176Z",
     "iopub.status.busy": "2021-12-03T21:55:02.118815Z",
     "iopub.status.idle": "2021-12-03T21:55:02.518958Z",
     "shell.execute_reply": "2021-12-03T21:55:02.517545Z",
     "shell.execute_reply.started": "2021-12-03T21:55:02.119147Z"
    }
   },
   "outputs": [
    {
     "ename": "InvalidArgumentError",
     "evalue": "Matrix size-incompatible: In[0]: [3,2], In[1]: [3,2] [Op:MatMul]",
     "output_type": "error",
     "traceback": [
      "\u001b[1;31m---------------------------------------------------------------------------\u001b[0m",
      "\u001b[1;31mInvalidArgumentError\u001b[0m                      Traceback (most recent call last)",
      "\u001b[1;32m<ipython-input-47-e5cf212cbaf5>\u001b[0m in \u001b[0;36m<module>\u001b[1;34m\u001b[0m\n\u001b[0;32m      1\u001b[0m \u001b[0mtensor1\u001b[0m \u001b[1;33m=\u001b[0m \u001b[0mtf\u001b[0m\u001b[1;33m.\u001b[0m\u001b[0mconstant\u001b[0m\u001b[1;33m(\u001b[0m\u001b[1;33m[\u001b[0m\u001b[1;33m[\u001b[0m\u001b[1;36m1\u001b[0m\u001b[1;33m,\u001b[0m\u001b[1;36m2\u001b[0m\u001b[1;33m]\u001b[0m\u001b[1;33m,\u001b[0m\u001b[1;33m[\u001b[0m\u001b[1;36m3\u001b[0m\u001b[1;33m,\u001b[0m\u001b[1;36m4\u001b[0m\u001b[1;33m]\u001b[0m\u001b[1;33m,\u001b[0m\u001b[1;33m[\u001b[0m\u001b[1;36m5\u001b[0m\u001b[1;33m,\u001b[0m\u001b[1;36m6\u001b[0m\u001b[1;33m]\u001b[0m\u001b[1;33m]\u001b[0m\u001b[1;33m)\u001b[0m\u001b[1;33m\u001b[0m\u001b[1;33m\u001b[0m\u001b[0m\n\u001b[0;32m      2\u001b[0m \u001b[0mtensor2\u001b[0m \u001b[1;33m=\u001b[0m \u001b[0mtf\u001b[0m\u001b[1;33m.\u001b[0m\u001b[0mconstant\u001b[0m\u001b[1;33m(\u001b[0m\u001b[1;33m[\u001b[0m\u001b[1;33m[\u001b[0m\u001b[1;36m7\u001b[0m\u001b[1;33m,\u001b[0m\u001b[1;36m8\u001b[0m\u001b[1;33m]\u001b[0m\u001b[1;33m,\u001b[0m \u001b[1;33m[\u001b[0m\u001b[1;36m9\u001b[0m\u001b[1;33m,\u001b[0m\u001b[1;36m10\u001b[0m\u001b[1;33m]\u001b[0m\u001b[1;33m,\u001b[0m\u001b[1;33m[\u001b[0m\u001b[1;36m11\u001b[0m\u001b[1;33m,\u001b[0m\u001b[1;36m12\u001b[0m\u001b[1;33m]\u001b[0m\u001b[1;33m]\u001b[0m\u001b[1;33m)\u001b[0m\u001b[1;33m\u001b[0m\u001b[1;33m\u001b[0m\u001b[0m\n\u001b[1;32m----> 3\u001b[1;33m \u001b[0mtf\u001b[0m\u001b[1;33m.\u001b[0m\u001b[0mmatmul\u001b[0m\u001b[1;33m(\u001b[0m\u001b[0mtensor1\u001b[0m\u001b[1;33m,\u001b[0m \u001b[0mtensor2\u001b[0m\u001b[1;33m)\u001b[0m\u001b[1;33m\u001b[0m\u001b[1;33m\u001b[0m\u001b[0m\n\u001b[0m",
      "\u001b[1;32m~\\anaconda3\\envs\\py38_cuda110\\lib\\site-packages\\tensorflow\\python\\util\\dispatch.py\u001b[0m in \u001b[0;36mwrapper\u001b[1;34m(*args, **kwargs)\u001b[0m\n\u001b[0;32m    199\u001b[0m     \u001b[1;34m\"\"\"Call target, and fall back on dispatchers if there is a TypeError.\"\"\"\u001b[0m\u001b[1;33m\u001b[0m\u001b[1;33m\u001b[0m\u001b[0m\n\u001b[0;32m    200\u001b[0m     \u001b[1;32mtry\u001b[0m\u001b[1;33m:\u001b[0m\u001b[1;33m\u001b[0m\u001b[1;33m\u001b[0m\u001b[0m\n\u001b[1;32m--> 201\u001b[1;33m       \u001b[1;32mreturn\u001b[0m \u001b[0mtarget\u001b[0m\u001b[1;33m(\u001b[0m\u001b[1;33m*\u001b[0m\u001b[0margs\u001b[0m\u001b[1;33m,\u001b[0m \u001b[1;33m**\u001b[0m\u001b[0mkwargs\u001b[0m\u001b[1;33m)\u001b[0m\u001b[1;33m\u001b[0m\u001b[1;33m\u001b[0m\u001b[0m\n\u001b[0m\u001b[0;32m    202\u001b[0m     \u001b[1;32mexcept\u001b[0m \u001b[1;33m(\u001b[0m\u001b[0mTypeError\u001b[0m\u001b[1;33m,\u001b[0m \u001b[0mValueError\u001b[0m\u001b[1;33m)\u001b[0m\u001b[1;33m:\u001b[0m\u001b[1;33m\u001b[0m\u001b[1;33m\u001b[0m\u001b[0m\n\u001b[0;32m    203\u001b[0m       \u001b[1;31m# Note: convert_to_eager_tensor currently raises a ValueError, not a\u001b[0m\u001b[1;33m\u001b[0m\u001b[1;33m\u001b[0m\u001b[1;33m\u001b[0m\u001b[0m\n",
      "\u001b[1;32m~\\anaconda3\\envs\\py38_cuda110\\lib\\site-packages\\tensorflow\\python\\ops\\math_ops.py\u001b[0m in \u001b[0;36mmatmul\u001b[1;34m(a, b, transpose_a, transpose_b, adjoint_a, adjoint_b, a_is_sparse, b_is_sparse, name)\u001b[0m\n\u001b[0;32m   3312\u001b[0m       \u001b[1;32mreturn\u001b[0m \u001b[0mret\u001b[0m\u001b[1;33m\u001b[0m\u001b[1;33m\u001b[0m\u001b[0m\n\u001b[0;32m   3313\u001b[0m     \u001b[1;32melse\u001b[0m\u001b[1;33m:\u001b[0m\u001b[1;33m\u001b[0m\u001b[1;33m\u001b[0m\u001b[0m\n\u001b[1;32m-> 3314\u001b[1;33m       return gen_math_ops.mat_mul(\n\u001b[0m\u001b[0;32m   3315\u001b[0m           a, b, transpose_a=transpose_a, transpose_b=transpose_b, name=name)\n\u001b[0;32m   3316\u001b[0m \u001b[1;33m\u001b[0m\u001b[0m\n",
      "\u001b[1;32m~\\anaconda3\\envs\\py38_cuda110\\lib\\site-packages\\tensorflow\\python\\ops\\gen_math_ops.py\u001b[0m in \u001b[0;36mmat_mul\u001b[1;34m(a, b, transpose_a, transpose_b, name)\u001b[0m\n\u001b[0;32m   5529\u001b[0m       \u001b[1;32mreturn\u001b[0m \u001b[0m_result\u001b[0m\u001b[1;33m\u001b[0m\u001b[1;33m\u001b[0m\u001b[0m\n\u001b[0;32m   5530\u001b[0m     \u001b[1;32mexcept\u001b[0m \u001b[0m_core\u001b[0m\u001b[1;33m.\u001b[0m\u001b[0m_NotOkStatusException\u001b[0m \u001b[1;32mas\u001b[0m \u001b[0me\u001b[0m\u001b[1;33m:\u001b[0m\u001b[1;33m\u001b[0m\u001b[1;33m\u001b[0m\u001b[0m\n\u001b[1;32m-> 5531\u001b[1;33m       \u001b[0m_ops\u001b[0m\u001b[1;33m.\u001b[0m\u001b[0mraise_from_not_ok_status\u001b[0m\u001b[1;33m(\u001b[0m\u001b[0me\u001b[0m\u001b[1;33m,\u001b[0m \u001b[0mname\u001b[0m\u001b[1;33m)\u001b[0m\u001b[1;33m\u001b[0m\u001b[1;33m\u001b[0m\u001b[0m\n\u001b[0m\u001b[0;32m   5532\u001b[0m     \u001b[1;32mexcept\u001b[0m \u001b[0m_core\u001b[0m\u001b[1;33m.\u001b[0m\u001b[0m_FallbackException\u001b[0m\u001b[1;33m:\u001b[0m\u001b[1;33m\u001b[0m\u001b[1;33m\u001b[0m\u001b[0m\n\u001b[0;32m   5533\u001b[0m       \u001b[1;32mpass\u001b[0m\u001b[1;33m\u001b[0m\u001b[1;33m\u001b[0m\u001b[0m\n",
      "\u001b[1;32m~\\anaconda3\\envs\\py38_cuda110\\lib\\site-packages\\tensorflow\\python\\framework\\ops.py\u001b[0m in \u001b[0;36mraise_from_not_ok_status\u001b[1;34m(e, name)\u001b[0m\n\u001b[0;32m   6860\u001b[0m   \u001b[0mmessage\u001b[0m \u001b[1;33m=\u001b[0m \u001b[0me\u001b[0m\u001b[1;33m.\u001b[0m\u001b[0mmessage\u001b[0m \u001b[1;33m+\u001b[0m \u001b[1;33m(\u001b[0m\u001b[1;34m\" name: \"\u001b[0m \u001b[1;33m+\u001b[0m \u001b[0mname\u001b[0m \u001b[1;32mif\u001b[0m \u001b[0mname\u001b[0m \u001b[1;32mis\u001b[0m \u001b[1;32mnot\u001b[0m \u001b[1;32mNone\u001b[0m \u001b[1;32melse\u001b[0m \u001b[1;34m\"\"\u001b[0m\u001b[1;33m)\u001b[0m\u001b[1;33m\u001b[0m\u001b[1;33m\u001b[0m\u001b[0m\n\u001b[0;32m   6861\u001b[0m   \u001b[1;31m# pylint: disable=protected-access\u001b[0m\u001b[1;33m\u001b[0m\u001b[1;33m\u001b[0m\u001b[1;33m\u001b[0m\u001b[0m\n\u001b[1;32m-> 6862\u001b[1;33m   \u001b[0msix\u001b[0m\u001b[1;33m.\u001b[0m\u001b[0mraise_from\u001b[0m\u001b[1;33m(\u001b[0m\u001b[0mcore\u001b[0m\u001b[1;33m.\u001b[0m\u001b[0m_status_to_exception\u001b[0m\u001b[1;33m(\u001b[0m\u001b[0me\u001b[0m\u001b[1;33m.\u001b[0m\u001b[0mcode\u001b[0m\u001b[1;33m,\u001b[0m \u001b[0mmessage\u001b[0m\u001b[1;33m)\u001b[0m\u001b[1;33m,\u001b[0m \u001b[1;32mNone\u001b[0m\u001b[1;33m)\u001b[0m\u001b[1;33m\u001b[0m\u001b[1;33m\u001b[0m\u001b[0m\n\u001b[0m\u001b[0;32m   6863\u001b[0m   \u001b[1;31m# pylint: enable=protected-access\u001b[0m\u001b[1;33m\u001b[0m\u001b[1;33m\u001b[0m\u001b[1;33m\u001b[0m\u001b[0m\n\u001b[0;32m   6864\u001b[0m \u001b[1;33m\u001b[0m\u001b[0m\n",
      "\u001b[1;32m~\\anaconda3\\envs\\py38_cuda110\\lib\\site-packages\\six.py\u001b[0m in \u001b[0;36mraise_from\u001b[1;34m(value, from_value)\u001b[0m\n",
      "\u001b[1;31mInvalidArgumentError\u001b[0m: Matrix size-incompatible: In[0]: [3,2], In[1]: [3,2] [Op:MatMul]"
     ]
    }
   ],
   "source": [
    "tensor1 = tf.constant([[1,2],[3,4],[5,6]])\n",
    "tensor2 = tf.constant([[7,8], [9,10],[11,12]])\n",
    "tf.matmul(tensor1, tensor2)"
   ]
  },
  {
   "cell_type": "code",
   "execution_count": 48,
   "metadata": {
    "execution": {
     "iopub.execute_input": "2021-12-03T21:56:54.527345Z",
     "iopub.status.busy": "2021-12-03T21:56:54.526603Z",
     "iopub.status.idle": "2021-12-03T21:56:54.533388Z",
     "shell.execute_reply": "2021-12-03T21:56:54.532726Z",
     "shell.execute_reply.started": "2021-12-03T21:56:54.527295Z"
    }
   },
   "outputs": [
    {
     "data": {
      "text/plain": [
       "(TensorShape([3, 2]), TensorShape([3, 2]))"
      ]
     },
     "execution_count": 48,
     "metadata": {},
     "output_type": "execute_result"
    }
   ],
   "source": [
    "tensor1.shape, tensor2.shape"
   ]
  },
  {
   "cell_type": "code",
   "execution_count": 49,
   "metadata": {
    "execution": {
     "iopub.execute_input": "2021-12-03T21:56:54.835259Z",
     "iopub.status.busy": "2021-12-03T21:56:54.834358Z",
     "iopub.status.idle": "2021-12-03T21:56:54.842926Z",
     "shell.execute_reply": "2021-12-03T21:56:54.841938Z",
     "shell.execute_reply.started": "2021-12-03T21:56:54.835212Z"
    }
   },
   "outputs": [
    {
     "data": {
      "text/plain": [
       "<tf.Tensor: shape=(3, 3), dtype=int32, numpy=\n",
       "array([[ 27,  30,  33],\n",
       "       [ 61,  68,  75],\n",
       "       [ 95, 106, 117]])>"
      ]
     },
     "execution_count": 49,
     "metadata": {},
     "output_type": "execute_result"
    }
   ],
   "source": [
    "tf.matmul(tensor1, tf.reshape(tensor2, shape = (2,3)))"
   ]
  },
  {
   "cell_type": "code",
   "execution_count": 50,
   "metadata": {
    "execution": {
     "iopub.execute_input": "2021-12-03T21:56:55.061098Z",
     "iopub.status.busy": "2021-12-03T21:56:55.060596Z",
     "iopub.status.idle": "2021-12-03T21:56:55.074694Z",
     "shell.execute_reply": "2021-12-03T21:56:55.074027Z",
     "shell.execute_reply.started": "2021-12-03T21:56:55.061053Z"
    }
   },
   "outputs": [
    {
     "data": {
      "text/plain": [
       "<tf.Tensor: shape=(3, 3), dtype=int32, numpy=\n",
       "array([[ 23,  29,  35],\n",
       "       [ 53,  67,  81],\n",
       "       [ 83, 105, 127]])>"
      ]
     },
     "execution_count": 50,
     "metadata": {},
     "output_type": "execute_result"
    }
   ],
   "source": [
    "#this also works with the transpose method\n",
    "tf.matmul(tensor1, tf.transpose(tensor2))"
   ]
  },
  {
   "cell_type": "code",
   "execution_count": 51,
   "metadata": {
    "execution": {
     "iopub.execute_input": "2021-12-03T21:56:55.299551Z",
     "iopub.status.busy": "2021-12-03T21:56:55.29923Z",
     "iopub.status.idle": "2021-12-03T21:56:55.307173Z",
     "shell.execute_reply": "2021-12-03T21:56:55.30651Z",
     "shell.execute_reply.started": "2021-12-03T21:56:55.29952Z"
    }
   },
   "outputs": [
    {
     "data": {
      "text/plain": [
       "<tf.Tensor: shape=(3, 2), dtype=int32, numpy=\n",
       "array([[ 7,  8],\n",
       "       [ 9, 10],\n",
       "       [11, 12]])>"
      ]
     },
     "execution_count": 51,
     "metadata": {},
     "output_type": "execute_result"
    }
   ],
   "source": [
    "tensor2"
   ]
  },
  {
   "cell_type": "code",
   "execution_count": 52,
   "metadata": {
    "execution": {
     "iopub.execute_input": "2021-12-03T21:56:55.450497Z",
     "iopub.status.busy": "2021-12-03T21:56:55.449945Z",
     "iopub.status.idle": "2021-12-03T21:56:55.456648Z",
     "shell.execute_reply": "2021-12-03T21:56:55.455767Z",
     "shell.execute_reply.started": "2021-12-03T21:56:55.450465Z"
    }
   },
   "outputs": [
    {
     "data": {
      "text/plain": [
       "<tf.Tensor: shape=(2, 3), dtype=int32, numpy=\n",
       "array([[1, 2, 3],\n",
       "       [4, 5, 6]])>"
      ]
     },
     "execution_count": 52,
     "metadata": {},
     "output_type": "execute_result"
    }
   ],
   "source": [
    "tf.reshape(tensor1, (2,3))"
   ]
  },
  {
   "cell_type": "code",
   "execution_count": 53,
   "metadata": {
    "execution": {
     "iopub.execute_input": "2021-12-03T21:56:55.630207Z",
     "iopub.status.busy": "2021-12-03T21:56:55.629682Z",
     "iopub.status.idle": "2021-12-03T21:56:55.637825Z",
     "shell.execute_reply": "2021-12-03T21:56:55.637088Z",
     "shell.execute_reply.started": "2021-12-03T21:56:55.630174Z"
    }
   },
   "outputs": [
    {
     "data": {
      "text/plain": [
       "<tf.Tensor: shape=(2, 2), dtype=int32, numpy=\n",
       "array([[ 58,  64],\n",
       "       [139, 154]])>"
      ]
     },
     "execution_count": 53,
     "metadata": {},
     "output_type": "execute_result"
    }
   ],
   "source": [
    "tf.matmul(tf.reshape(tensor1, (2,3)), tensor2)"
   ]
  },
  {
   "cell_type": "markdown",
   "metadata": {},
   "source": [
    "can do the same thing with transpose as you can do with reshape with 1 caveat. transpose flips the axis while reshape shuffles the tensor around"
   ]
  },
  {
   "cell_type": "code",
   "execution_count": 54,
   "metadata": {
    "execution": {
     "iopub.execute_input": "2021-12-03T21:56:55.948978Z",
     "iopub.status.busy": "2021-12-03T21:56:55.948516Z",
     "iopub.status.idle": "2021-12-03T21:56:55.957255Z",
     "shell.execute_reply": "2021-12-03T21:56:55.956282Z",
     "shell.execute_reply.started": "2021-12-03T21:56:55.948945Z"
    }
   },
   "outputs": [
    {
     "data": {
      "text/plain": [
       "(<tf.Tensor: shape=(3, 2), dtype=int32, numpy=\n",
       " array([[1, 2],\n",
       "        [3, 4],\n",
       "        [5, 6]])>,\n",
       " <tf.Tensor: shape=(2, 3), dtype=int32, numpy=\n",
       " array([[1, 3, 5],\n",
       "        [2, 4, 6]])>,\n",
       " <tf.Tensor: shape=(2, 3), dtype=int32, numpy=\n",
       " array([[1, 2, 3],\n",
       "        [4, 5, 6]])>)"
      ]
     },
     "execution_count": 54,
     "metadata": {},
     "output_type": "execute_result"
    }
   ],
   "source": [
    "tensor1, tf.transpose(tensor1), tf.reshape(tensor1, shape = (2,3))"
   ]
  },
  {
   "cell_type": "code",
   "execution_count": 55,
   "metadata": {
    "execution": {
     "iopub.execute_input": "2021-12-03T21:56:56.135905Z",
     "iopub.status.busy": "2021-12-03T21:56:56.13538Z",
     "iopub.status.idle": "2021-12-03T21:56:56.144306Z",
     "shell.execute_reply": "2021-12-03T21:56:56.143184Z",
     "shell.execute_reply.started": "2021-12-03T21:56:56.135854Z"
    }
   },
   "outputs": [
    {
     "data": {
      "text/plain": [
       "<tf.Tensor: shape=(2, 2), dtype=int32, numpy=\n",
       "array([[ 89,  98],\n",
       "       [116, 128]])>"
      ]
     },
     "execution_count": 55,
     "metadata": {},
     "output_type": "execute_result"
    }
   ],
   "source": [
    "#try matmul with transpose rather than reshape\n",
    "tf.matmul(tf.transpose(tensor1), tensor2)"
   ]
  },
  {
   "cell_type": "markdown",
   "metadata": {},
   "source": [
    "**The Dot Product**\n",
    "matrix multiplication is also referred to as the dot product.\n",
    "you can perform matrix mult using: \n",
    "* tf.matmul()\n",
    "* tf.tensordot()"
   ]
  },
  {
   "cell_type": "code",
   "execution_count": 56,
   "metadata": {
    "execution": {
     "iopub.execute_input": "2021-12-03T21:56:56.807235Z",
     "iopub.status.busy": "2021-12-03T21:56:56.806753Z",
     "iopub.status.idle": "2021-12-03T21:56:56.815226Z",
     "shell.execute_reply": "2021-12-03T21:56:56.814368Z",
     "shell.execute_reply.started": "2021-12-03T21:56:56.807186Z"
    }
   },
   "outputs": [
    {
     "data": {
      "text/plain": [
       "(<tf.Tensor: shape=(3, 2), dtype=int32, numpy=\n",
       " array([[1, 2],\n",
       "        [3, 4],\n",
       "        [5, 6]])>,\n",
       " <tf.Tensor: shape=(3, 2), dtype=int32, numpy=\n",
       " array([[ 7,  8],\n",
       "        [ 9, 10],\n",
       "        [11, 12]])>)"
      ]
     },
     "execution_count": 56,
     "metadata": {},
     "output_type": "execute_result"
    }
   ],
   "source": [
    "X = tf.constant([[1,2], [3,4], [5,6]])\n",
    "Y = tf.constant([[7,8],[9,10],[11,12]])\n",
    "X, Y"
   ]
  },
  {
   "cell_type": "code",
   "execution_count": 57,
   "metadata": {
    "execution": {
     "iopub.execute_input": "2021-12-03T21:56:56.928617Z",
     "iopub.status.busy": "2021-12-03T21:56:56.927692Z",
     "iopub.status.idle": "2021-12-03T21:56:56.936797Z",
     "shell.execute_reply": "2021-12-03T21:56:56.935856Z",
     "shell.execute_reply.started": "2021-12-03T21:56:56.928564Z"
    }
   },
   "outputs": [
    {
     "data": {
      "text/plain": [
       "(<tf.Tensor: shape=(2, 3), dtype=int32, numpy=\n",
       " array([[ 7,  9, 11],\n",
       "        [ 8, 10, 12]])>,\n",
       " <tf.Tensor: shape=(2, 3), dtype=int32, numpy=\n",
       " array([[ 7,  8,  9],\n",
       "        [10, 11, 12]])>)"
      ]
     },
     "execution_count": 57,
     "metadata": {},
     "output_type": "execute_result"
    }
   ],
   "source": [
    "tf.transpose(Y), tf.reshape(Y, shape = (2,3))"
   ]
  },
  {
   "cell_type": "code",
   "execution_count": 58,
   "metadata": {
    "execution": {
     "iopub.execute_input": "2021-12-03T21:56:56.938836Z",
     "iopub.status.busy": "2021-12-03T21:56:56.938347Z",
     "iopub.status.idle": "2021-12-03T21:56:56.948759Z",
     "shell.execute_reply": "2021-12-03T21:56:56.947808Z",
     "shell.execute_reply.started": "2021-12-03T21:56:56.938807Z"
    }
   },
   "outputs": [
    {
     "name": "stdout",
     "output_type": "stream",
     "text": [
      "tf.Tensor(\n",
      "[[ 23  29  35]\n",
      " [ 53  67  81]\n",
      " [ 83 105 127]], shape=(3, 3), dtype=int32)\n",
      "tf.Tensor(\n",
      "[[ 27  30  33]\n",
      " [ 61  68  75]\n",
      " [ 95 106 117]], shape=(3, 3), dtype=int32)\n"
     ]
    }
   ],
   "source": [
    "#perform dot product on x and y (requires x or y to be transposed)\n",
    "#lets transpose y and reshape y to see how the results differ\n",
    "print(tf.matmul(X, tf.transpose(Y)))\n",
    "print(tf.matmul(X, tf.reshape(Y, shape = (2,3))))"
   ]
  },
  {
   "cell_type": "markdown",
   "metadata": {},
   "source": [
    "in most cases these operations are done behind the scenes. however, if you need to change a tensor to allow for matmul you will most likely use transpose over reshape."
   ]
  },
  {
   "cell_type": "markdown",
   "metadata": {},
   "source": [
    "### Changing DataType of tensors"
   ]
  },
  {
   "cell_type": "code",
   "execution_count": 59,
   "metadata": {
    "execution": {
     "iopub.execute_input": "2021-12-03T21:56:57.396105Z",
     "iopub.status.busy": "2021-12-03T21:56:57.395696Z",
     "iopub.status.idle": "2021-12-03T21:56:57.400934Z",
     "shell.execute_reply": "2021-12-03T21:56:57.399828Z",
     "shell.execute_reply.started": "2021-12-03T21:56:57.396075Z"
    }
   },
   "outputs": [],
   "source": [
    "#the data type of most tensors will be int32 depending on how they're created.\n",
    "#soemtimes we want to change the dtype"
   ]
  },
  {
   "cell_type": "code",
   "execution_count": 60,
   "metadata": {
    "execution": {
     "iopub.execute_input": "2021-12-03T21:56:57.64207Z",
     "iopub.status.busy": "2021-12-03T21:56:57.641641Z",
     "iopub.status.idle": "2021-12-03T21:56:57.649853Z",
     "shell.execute_reply": "2021-12-03T21:56:57.649029Z",
     "shell.execute_reply.started": "2021-12-03T21:56:57.642025Z"
    }
   },
   "outputs": [
    {
     "data": {
      "text/plain": [
       "(<tf.Tensor: shape=(2,), dtype=float32, numpy=array([1.7, 7.4], dtype=float32)>,\n",
       " tf.float32)"
      ]
     },
     "execution_count": 60,
     "metadata": {},
     "output_type": "execute_result"
    }
   ],
   "source": [
    "B = tf.constant([1.7, 7.4])\n",
    "B, B.dtype"
   ]
  },
  {
   "cell_type": "code",
   "execution_count": 61,
   "metadata": {
    "execution": {
     "iopub.execute_input": "2021-12-03T21:56:57.777519Z",
     "iopub.status.busy": "2021-12-03T21:56:57.777051Z",
     "iopub.status.idle": "2021-12-03T21:56:57.784563Z",
     "shell.execute_reply": "2021-12-03T21:56:57.783917Z",
     "shell.execute_reply.started": "2021-12-03T21:56:57.77747Z"
    }
   },
   "outputs": [
    {
     "data": {
      "text/plain": [
       "tf.int32"
      ]
     },
     "execution_count": 61,
     "metadata": {},
     "output_type": "execute_result"
    }
   ],
   "source": [
    "C = tf.constant([7,10])\n",
    "C.dtype"
   ]
  },
  {
   "cell_type": "code",
   "execution_count": 62,
   "metadata": {
    "execution": {
     "iopub.execute_input": "2021-12-03T21:56:57.929296Z",
     "iopub.status.busy": "2021-12-03T21:56:57.928629Z",
     "iopub.status.idle": "2021-12-03T21:56:57.939859Z",
     "shell.execute_reply": "2021-12-03T21:56:57.939181Z",
     "shell.execute_reply.started": "2021-12-03T21:56:57.929263Z"
    }
   },
   "outputs": [
    {
     "data": {
      "text/plain": [
       "(<tf.Tensor: shape=(2,), dtype=float16, numpy=array([1.7, 7.4], dtype=float16)>,\n",
       " tf.float16)"
      ]
     },
     "execution_count": 62,
     "metadata": {},
     "output_type": "execute_result"
    }
   ],
   "source": [
    "#change from float 32 to float 16 (reduced precision)\n",
    "D = tf.cast(B, dtype = tf.float16)\n",
    "D, D.dtype"
   ]
  },
  {
   "cell_type": "markdown",
   "metadata": {},
   "source": [
    "Mixed precision is the use of both 16-bit and 32-bit floating-point types in a model during training to make it run faster and use less memory. By keeping certain parts of the model in the 32-bit types for numeric stability, the model will have a lower step time and train equally as well in terms of the evaluation metrics such as accuracy. This guide describes how to use the Keras mixed precision API to speed up your models. Using this API can improve performance by more than 3 times on modern GPUs and 60% on TPUs.\n",
    "\n",
    "Today, most models use the float32 dtype, which takes 32 bits of memory. However, there are two lower-precision dtypes, float16 and bfloat16, each which take 16 bits of memory instead. Modern accelerators can run operations faster in the 16-bit dtypes, as they have specialized hardware to run 16-bit computations and 16-bit dtypes can be read from memory faster.\n",
    "\n",
    "NVIDIA GPUs can run operations in float16 faster than in float32, and TPUs can run operations in bfloat16 faster than float32. Therefore, these lower-precision dtypes should be used whenever possible on those devices. However, variables and a few computations should still be in float32 for numeric reasons so that the model trains to the same quality. The Keras mixed precision API allows you to use a mix of either float16 or bfloat16 with float32, to get the performance benefits from float16/bfloat16 and the numeric stability benefits from float32.\n"
   ]
  },
  {
   "cell_type": "code",
   "execution_count": 63,
   "metadata": {
    "execution": {
     "iopub.execute_input": "2021-12-03T21:56:58.304831Z",
     "iopub.status.busy": "2021-12-03T21:56:58.304543Z",
     "iopub.status.idle": "2021-12-03T21:56:58.313568Z",
     "shell.execute_reply": "2021-12-03T21:56:58.312695Z",
     "shell.execute_reply.started": "2021-12-03T21:56:58.304801Z"
    }
   },
   "outputs": [
    {
     "data": {
      "text/plain": [
       "(<tf.Tensor: shape=(2,), dtype=float32, numpy=array([ 7., 10.], dtype=float32)>,\n",
       " tf.float32)"
      ]
     },
     "execution_count": 63,
     "metadata": {},
     "output_type": "execute_result"
    }
   ],
   "source": [
    "#change from int32 to float 32\n",
    "E = tf.cast(C, dtype = tf.float32)\n",
    "E, E.dtype"
   ]
  },
  {
   "cell_type": "code",
   "execution_count": 64,
   "metadata": {
    "execution": {
     "iopub.execute_input": "2021-12-03T21:56:58.446629Z",
     "iopub.status.busy": "2021-12-03T21:56:58.445913Z",
     "iopub.status.idle": "2021-12-03T21:56:58.454264Z",
     "shell.execute_reply": "2021-12-03T21:56:58.453197Z",
     "shell.execute_reply.started": "2021-12-03T21:56:58.446594Z"
    }
   },
   "outputs": [
    {
     "data": {
      "text/plain": [
       "(<tf.Tensor: shape=(2,), dtype=float16, numpy=array([1.7, 7.4], dtype=float16)>,\n",
       " tf.float16)"
      ]
     },
     "execution_count": 64,
     "metadata": {},
     "output_type": "execute_result"
    }
   ],
   "source": [
    "#and convert int32 to float 16\n",
    "F = tf.cast(B, dtype = tf.float16)\n",
    "F, F.dtype"
   ]
  },
  {
   "cell_type": "markdown",
   "metadata": {},
   "source": [
    "### Tensor Aggregation (finding min, max, mean, and more)\n",
    "\n",
    "aggregating tensors is condesning them from multiple values down to a smaller amount of values\n",
    "\n",
    "* abs\n",
    "* min\n",
    "* max\n",
    "* mean\n",
    "* sum"
   ]
  },
  {
   "cell_type": "code",
   "execution_count": 65,
   "metadata": {
    "execution": {
     "iopub.execute_input": "2021-12-03T21:56:58.864919Z",
     "iopub.status.busy": "2021-12-03T21:56:58.864494Z",
     "iopub.status.idle": "2021-12-03T21:56:58.871175Z",
     "shell.execute_reply": "2021-12-03T21:56:58.870303Z",
     "shell.execute_reply.started": "2021-12-03T21:56:58.864889Z"
    }
   },
   "outputs": [
    {
     "data": {
      "text/plain": [
       "<tf.Tensor: shape=(2,), dtype=int32, numpy=array([ 7, 10])>"
      ]
     },
     "execution_count": 65,
     "metadata": {},
     "output_type": "execute_result"
    }
   ],
   "source": [
    "#getting the absolute values\n",
    "D = tf.constant([-7, -10])\n",
    "tf.abs(D)"
   ]
  },
  {
   "cell_type": "code",
   "execution_count": 66,
   "metadata": {
    "execution": {
     "iopub.execute_input": "2021-12-03T21:56:58.995367Z",
     "iopub.status.busy": "2021-12-03T21:56:58.995066Z",
     "iopub.status.idle": "2021-12-03T21:56:59.005612Z",
     "shell.execute_reply": "2021-12-03T21:56:59.004438Z",
     "shell.execute_reply.started": "2021-12-03T21:56:58.995337Z"
    }
   },
   "outputs": [
    {
     "data": {
      "text/plain": [
       "(<tf.Tensor: shape=(50,), dtype=int32, numpy=\n",
       " array([45, 87, 18, 82, 86, 44, 19, 99, 74, 58, 68, 71, 89, 23, 75,  1, 50,\n",
       "         8, 97,  7, 62, 26, 53, 49, 35, 60, 36, 32, 33, 19, 57, 64, 38, 43,\n",
       "        84, 74, 80, 49, 34, 68,  0, 18, 92, 14,  0, 88, 13, 61, 99, 91])>,\n",
       " <tf.Tensor: shape=(), dtype=int32, numpy=50>,\n",
       " TensorShape([50]),\n",
       " 1)"
      ]
     },
     "execution_count": 66,
     "metadata": {},
     "output_type": "execute_result"
    }
   ],
   "source": [
    "#create a random tensor values between 0 and 100 or size 50\n",
    "E = tf.constant(np.random.randint(0, 100, size = 50))\n",
    "E, tf.size(E), E.shape, E.ndim\n"
   ]
  },
  {
   "cell_type": "code",
   "execution_count": 67,
   "metadata": {
    "execution": {
     "iopub.execute_input": "2021-12-03T21:56:59.235019Z",
     "iopub.status.busy": "2021-12-03T21:56:59.234273Z",
     "iopub.status.idle": "2021-12-03T21:56:59.246297Z",
     "shell.execute_reply": "2021-12-03T21:56:59.245651Z",
     "shell.execute_reply.started": "2021-12-03T21:56:59.234983Z"
    }
   },
   "outputs": [
    {
     "data": {
      "text/plain": [
       "<tf.Tensor: shape=(), dtype=int32, numpy=0>"
      ]
     },
     "execution_count": 67,
     "metadata": {},
     "output_type": "execute_result"
    }
   ],
   "source": [
    "#find min\n",
    "tf.reduce_min(E)  #returns a 0"
   ]
  },
  {
   "cell_type": "code",
   "execution_count": 68,
   "metadata": {
    "execution": {
     "iopub.execute_input": "2021-12-03T21:56:59.41321Z",
     "iopub.status.busy": "2021-12-03T21:56:59.412779Z",
     "iopub.status.idle": "2021-12-03T21:56:59.421903Z",
     "shell.execute_reply": "2021-12-03T21:56:59.420855Z",
     "shell.execute_reply.started": "2021-12-03T21:56:59.413179Z"
    }
   },
   "outputs": [
    {
     "data": {
      "text/plain": [
       "<tf.Tensor: shape=(), dtype=int32, numpy=99>"
      ]
     },
     "execution_count": 68,
     "metadata": {},
     "output_type": "execute_result"
    }
   ],
   "source": [
    "#find max\n",
    "tf.reduce_max(E)   #returns 99"
   ]
  },
  {
   "cell_type": "code",
   "execution_count": 69,
   "metadata": {
    "execution": {
     "iopub.execute_input": "2021-12-03T21:56:59.570601Z",
     "iopub.status.busy": "2021-12-03T21:56:59.56984Z",
     "iopub.status.idle": "2021-12-03T21:56:59.579445Z",
     "shell.execute_reply": "2021-12-03T21:56:59.578516Z",
     "shell.execute_reply.started": "2021-12-03T21:56:59.570568Z"
    }
   },
   "outputs": [
    {
     "data": {
      "text/plain": [
       "<tf.Tensor: shape=(), dtype=int32, numpy=51>"
      ]
     },
     "execution_count": 69,
     "metadata": {},
     "output_type": "execute_result"
    }
   ],
   "source": [
    "#find mean\n",
    "tf.reduce_mean(E)  #returns mean of 51"
   ]
  },
  {
   "cell_type": "code",
   "execution_count": 70,
   "metadata": {
    "execution": {
     "iopub.execute_input": "2021-12-03T21:56:59.803709Z",
     "iopub.status.busy": "2021-12-03T21:56:59.803284Z",
     "iopub.status.idle": "2021-12-03T21:56:59.812036Z",
     "shell.execute_reply": "2021-12-03T21:56:59.811131Z",
     "shell.execute_reply.started": "2021-12-03T21:56:59.803679Z"
    }
   },
   "outputs": [
    {
     "data": {
      "text/plain": [
       "<tf.Tensor: shape=(), dtype=int32, numpy=2573>"
      ]
     },
     "execution_count": 70,
     "metadata": {},
     "output_type": "execute_result"
    }
   ],
   "source": [
    "#find sum\n",
    "tf.reduce_sum(E)"
   ]
  },
  {
   "cell_type": "code",
   "execution_count": 71,
   "metadata": {
    "execution": {
     "iopub.execute_input": "2021-12-03T21:56:59.981071Z",
     "iopub.status.busy": "2021-12-03T21:56:59.980643Z",
     "iopub.status.idle": "2021-12-03T21:56:59.991285Z",
     "shell.execute_reply": "2021-12-03T21:56:59.990352Z",
     "shell.execute_reply.started": "2021-12-03T21:56:59.98103Z"
    }
   },
   "outputs": [
    {
     "data": {
      "text/plain": [
       "<tf.Tensor: shape=(), dtype=float32, numpy=862.16846>"
      ]
     },
     "execution_count": 71,
     "metadata": {},
     "output_type": "execute_result"
    }
   ],
   "source": [
    "#find variance\n",
    "tf.math.reduce_variance(tf.cast(E, dtype = tf.float32))"
   ]
  },
  {
   "cell_type": "code",
   "execution_count": 72,
   "metadata": {
    "execution": {
     "iopub.execute_input": "2021-12-03T21:57:00.146844Z",
     "iopub.status.busy": "2021-12-03T21:57:00.145974Z",
     "iopub.status.idle": "2021-12-03T21:57:00.153241Z",
     "shell.execute_reply": "2021-12-03T21:57:00.152369Z",
     "shell.execute_reply.started": "2021-12-03T21:57:00.146808Z"
    }
   },
   "outputs": [
    {
     "data": {
      "text/plain": [
       "<tf.Tensor: shape=(), dtype=float32, numpy=29.362705>"
      ]
     },
     "execution_count": 72,
     "metadata": {},
     "output_type": "execute_result"
    }
   ],
   "source": [
    "#find std\n",
    "tf.math.reduce_std(tf.cast(E, dtype = tf.float32))"
   ]
  },
  {
   "cell_type": "markdown",
   "metadata": {},
   "source": [
    "### find positional max and min (argmax, argmin)\n",
    "\n",
    "* helpful when nn outputs prediction probabilities\n",
    "* at which index of the tensor row is the maximum and minimum"
   ]
  },
  {
   "cell_type": "code",
   "execution_count": 73,
   "metadata": {
    "execution": {
     "iopub.execute_input": "2021-12-03T21:57:00.560817Z",
     "iopub.status.busy": "2021-12-03T21:57:00.559757Z",
     "iopub.status.idle": "2021-12-03T21:57:00.573428Z",
     "shell.execute_reply": "2021-12-03T21:57:00.571557Z",
     "shell.execute_reply.started": "2021-12-03T21:57:00.56077Z"
    }
   },
   "outputs": [
    {
     "data": {
      "text/plain": [
       "<tf.Tensor: shape=(50,), dtype=float32, numpy=\n",
       "array([0.6645621 , 0.44100678, 0.3528825 , 0.46448255, 0.03366041,\n",
       "       0.68467236, 0.74011743, 0.8724445 , 0.22632635, 0.22319686,\n",
       "       0.3103881 , 0.7223358 , 0.13318717, 0.5480639 , 0.5746088 ,\n",
       "       0.8996835 , 0.00946367, 0.5212307 , 0.6345445 , 0.1993283 ,\n",
       "       0.72942245, 0.54583454, 0.10756552, 0.6767061 , 0.6602763 ,\n",
       "       0.33695042, 0.60141766, 0.21062577, 0.8527372 , 0.44062173,\n",
       "       0.9485276 , 0.23752594, 0.81179297, 0.5263394 , 0.494308  ,\n",
       "       0.21612847, 0.8457197 , 0.8718841 , 0.3083862 , 0.6868038 ,\n",
       "       0.23764038, 0.7817228 , 0.9671384 , 0.06870162, 0.79873943,\n",
       "       0.66028714, 0.5871513 , 0.16461694, 0.7381023 , 0.32054043],\n",
       "      dtype=float32)>"
      ]
     },
     "execution_count": 73,
     "metadata": {},
     "output_type": "execute_result"
    }
   ],
   "source": [
    "#create a new tensor for finding positional min and max\n",
    "tf.random.set_seed(42)\n",
    "F = tf.random.uniform(shape = [50])\n",
    "F"
   ]
  },
  {
   "cell_type": "code",
   "execution_count": 74,
   "metadata": {
    "execution": {
     "iopub.execute_input": "2021-12-03T21:57:00.729046Z",
     "iopub.status.busy": "2021-12-03T21:57:00.728453Z",
     "iopub.status.idle": "2021-12-03T21:57:00.738858Z",
     "shell.execute_reply": "2021-12-03T21:57:00.737854Z",
     "shell.execute_reply.started": "2021-12-03T21:57:00.728988Z"
    }
   },
   "outputs": [
    {
     "data": {
      "text/plain": [
       "<tf.Tensor: shape=(), dtype=int64, numpy=42>"
      ]
     },
     "execution_count": 74,
     "metadata": {},
     "output_type": "execute_result"
    }
   ],
   "source": [
    "tf.argmax(F)  #returns the index position 42"
   ]
  },
  {
   "cell_type": "code",
   "execution_count": 75,
   "metadata": {
    "execution": {
     "iopub.execute_input": "2021-12-03T21:57:00.923081Z",
     "iopub.status.busy": "2021-12-03T21:57:00.922356Z",
     "iopub.status.idle": "2021-12-03T21:57:00.932985Z",
     "shell.execute_reply": "2021-12-03T21:57:00.932011Z",
     "shell.execute_reply.started": "2021-12-03T21:57:00.923047Z"
    }
   },
   "outputs": [
    {
     "data": {
      "text/plain": [
       "<tf.Tensor: shape=(), dtype=float32, numpy=0.9671384>"
      ]
     },
     "execution_count": 75,
     "metadata": {},
     "output_type": "execute_result"
    }
   ],
   "source": [
    "# lets look at that index position 42\n",
    "F[tf.argmax(F)]  #which returns .9671384"
   ]
  },
  {
   "cell_type": "code",
   "execution_count": 76,
   "metadata": {
    "execution": {
     "iopub.execute_input": "2021-12-03T21:57:01.147072Z",
     "iopub.status.busy": "2021-12-03T21:57:01.146287Z",
     "iopub.status.idle": "2021-12-03T21:57:01.154786Z",
     "shell.execute_reply": "2021-12-03T21:57:01.153778Z",
     "shell.execute_reply.started": "2021-12-03T21:57:01.147029Z"
    }
   },
   "outputs": [
    {
     "data": {
      "text/plain": [
       "<tf.Tensor: shape=(), dtype=float32, numpy=0.9671384>"
      ]
     },
     "execution_count": 76,
     "metadata": {},
     "output_type": "execute_result"
    }
   ],
   "source": [
    "#we can compare that to the max value of the tensor\n",
    "tf.reduce_max(F)"
   ]
  },
  {
   "cell_type": "code",
   "execution_count": 77,
   "metadata": {
    "execution": {
     "iopub.execute_input": "2021-12-03T21:57:01.377483Z",
     "iopub.status.busy": "2021-12-03T21:57:01.377133Z",
     "iopub.status.idle": "2021-12-03T21:57:01.385002Z",
     "shell.execute_reply": "2021-12-03T21:57:01.383753Z",
     "shell.execute_reply.started": "2021-12-03T21:57:01.377452Z"
    }
   },
   "outputs": [
    {
     "data": {
      "text/plain": [
       "<tf.Tensor: shape=(), dtype=int64, numpy=16>"
      ]
     },
     "execution_count": 77,
     "metadata": {},
     "output_type": "execute_result"
    }
   ],
   "source": [
    "tf.argmin(F)   #returns index value of 16"
   ]
  },
  {
   "cell_type": "code",
   "execution_count": 78,
   "metadata": {
    "execution": {
     "iopub.execute_input": "2021-12-03T21:57:01.593714Z",
     "iopub.status.busy": "2021-12-03T21:57:01.593253Z",
     "iopub.status.idle": "2021-12-03T21:57:01.600009Z",
     "shell.execute_reply": "2021-12-03T21:57:01.599133Z",
     "shell.execute_reply.started": "2021-12-03T21:57:01.593679Z"
    }
   },
   "outputs": [
    {
     "data": {
      "text/plain": [
       "<tf.Tensor: shape=(), dtype=float32, numpy=0.009463668>"
      ]
     },
     "execution_count": 78,
     "metadata": {},
     "output_type": "execute_result"
    }
   ],
   "source": [
    "#so we'll look at index 16 of the tensor\n",
    "F[tf.argmin(F)]   #which returns 0.009463668"
   ]
  },
  {
   "cell_type": "code",
   "execution_count": 79,
   "metadata": {
    "execution": {
     "iopub.execute_input": "2021-12-03T21:57:01.807444Z",
     "iopub.status.busy": "2021-12-03T21:57:01.806711Z",
     "iopub.status.idle": "2021-12-03T21:57:01.814806Z",
     "shell.execute_reply": "2021-12-03T21:57:01.813883Z",
     "shell.execute_reply.started": "2021-12-03T21:57:01.80738Z"
    }
   },
   "outputs": [
    {
     "data": {
      "text/plain": [
       "<tf.Tensor: shape=(), dtype=float32, numpy=0.009463668>"
      ]
     },
     "execution_count": 79,
     "metadata": {},
     "output_type": "execute_result"
    }
   ],
   "source": [
    "#we ccompare this value to the min value\n",
    "tf.reduce_min(F)"
   ]
  },
  {
   "cell_type": "code",
   "execution_count": 80,
   "metadata": {
    "execution": {
     "iopub.execute_input": "2021-12-03T21:57:01.933737Z",
     "iopub.status.busy": "2021-12-03T21:57:01.932923Z",
     "iopub.status.idle": "2021-12-03T21:57:01.94106Z",
     "shell.execute_reply": "2021-12-03T21:57:01.940341Z",
     "shell.execute_reply.started": "2021-12-03T21:57:01.933699Z"
    }
   },
   "outputs": [
    {
     "data": {
      "text/plain": [
       "<tf.Tensor: shape=(5, 3), dtype=float32, numpy=\n",
       "array([[0.68789124, 0.48447883, 0.9309944 ],\n",
       "       [0.252187  , 0.73115396, 0.89256823],\n",
       "       [0.94674826, 0.7493341 , 0.34925628],\n",
       "       [0.54718256, 0.26160395, 0.69734323],\n",
       "       [0.11962581, 0.53484344, 0.7148968 ]], dtype=float32)>"
      ]
     },
     "execution_count": 80,
     "metadata": {},
     "output_type": "execute_result"
    }
   ],
   "source": [
    "#what about 2d tensors\n",
    "F = tf.random.uniform(shape = (5,3))\n",
    "F"
   ]
  },
  {
   "cell_type": "code",
   "execution_count": 81,
   "metadata": {
    "execution": {
     "iopub.execute_input": "2021-12-03T21:57:03.554408Z",
     "iopub.status.busy": "2021-12-03T21:57:03.553695Z",
     "iopub.status.idle": "2021-12-03T21:57:03.561461Z",
     "shell.execute_reply": "2021-12-03T21:57:03.560347Z",
     "shell.execute_reply.started": "2021-12-03T21:57:03.55436Z"
    }
   },
   "outputs": [
    {
     "data": {
      "text/plain": [
       "<tf.Tensor: shape=(3,), dtype=int64, numpy=array([2, 2, 0], dtype=int64)>"
      ]
     },
     "execution_count": 81,
     "metadata": {},
     "output_type": "execute_result"
    }
   ],
   "source": [
    "tf.argmax(F)\n",
    "#returns an array with the index of the max value of each column"
   ]
  },
  {
   "cell_type": "code",
   "execution_count": 82,
   "metadata": {
    "execution": {
     "iopub.execute_input": "2021-12-03T21:57:03.818752Z",
     "iopub.status.busy": "2021-12-03T21:57:03.818431Z",
     "iopub.status.idle": "2021-12-03T21:57:03.825884Z",
     "shell.execute_reply": "2021-12-03T21:57:03.824982Z",
     "shell.execute_reply.started": "2021-12-03T21:57:03.818721Z"
    }
   },
   "outputs": [
    {
     "data": {
      "text/plain": [
       "<tf.Tensor: shape=(5,), dtype=int64, numpy=array([2, 2, 0, 2, 2], dtype=int64)>"
      ]
     },
     "execution_count": 82,
     "metadata": {},
     "output_type": "execute_result"
    }
   ],
   "source": [
    "tf.argmax(F, axis = 1)\n",
    "#returns an array containiung the index of the max value in each row."
   ]
  },
  {
   "cell_type": "markdown",
   "metadata": {},
   "source": [
    "### Squeezing a tensor (removing all 1-dimension axes)"
   ]
  },
  {
   "cell_type": "code",
   "execution_count": 83,
   "metadata": {
    "execution": {
     "iopub.execute_input": "2021-12-03T21:57:04.28875Z",
     "iopub.status.busy": "2021-12-03T21:57:04.288002Z",
     "iopub.status.idle": "2021-12-03T21:57:04.297752Z",
     "shell.execute_reply": "2021-12-03T21:57:04.296956Z",
     "shell.execute_reply.started": "2021-12-03T21:57:04.288717Z"
    }
   },
   "outputs": [
    {
     "data": {
      "text/plain": [
       "<tf.Tensor: shape=(1, 1, 1, 1, 50), dtype=float32, numpy=\n",
       "array([[[[[0.6645621 , 0.44100678, 0.3528825 , 0.46448255, 0.03366041,\n",
       "           0.68467236, 0.74011743, 0.8724445 , 0.22632635, 0.22319686,\n",
       "           0.3103881 , 0.7223358 , 0.13318717, 0.5480639 , 0.5746088 ,\n",
       "           0.8996835 , 0.00946367, 0.5212307 , 0.6345445 , 0.1993283 ,\n",
       "           0.72942245, 0.54583454, 0.10756552, 0.6767061 , 0.6602763 ,\n",
       "           0.33695042, 0.60141766, 0.21062577, 0.8527372 , 0.44062173,\n",
       "           0.9485276 , 0.23752594, 0.81179297, 0.5263394 , 0.494308  ,\n",
       "           0.21612847, 0.8457197 , 0.8718841 , 0.3083862 , 0.6868038 ,\n",
       "           0.23764038, 0.7817228 , 0.9671384 , 0.06870162, 0.79873943,\n",
       "           0.66028714, 0.5871513 , 0.16461694, 0.7381023 , 0.32054043]]]]],\n",
       "      dtype=float32)>"
      ]
     },
     "execution_count": 83,
     "metadata": {},
     "output_type": "execute_result"
    }
   ],
   "source": [
    "#create a tensor\n",
    "tf.random.set_seed(42)\n",
    "G = tf.constant(tf.random.uniform(shape = [50]), shape = (1,1,1,1,50))\n",
    "G"
   ]
  },
  {
   "cell_type": "code",
   "execution_count": 84,
   "metadata": {
    "execution": {
     "iopub.execute_input": "2021-12-03T21:57:04.521216Z",
     "iopub.status.busy": "2021-12-03T21:57:04.520665Z",
     "iopub.status.idle": "2021-12-03T21:57:04.528254Z",
     "shell.execute_reply": "2021-12-03T21:57:04.52749Z",
     "shell.execute_reply.started": "2021-12-03T21:57:04.521185Z"
    }
   },
   "outputs": [
    {
     "data": {
      "text/plain": [
       "<tf.Tensor: shape=(50,), dtype=float32, numpy=\n",
       "array([0.6645621 , 0.44100678, 0.3528825 , 0.46448255, 0.03366041,\n",
       "       0.68467236, 0.74011743, 0.8724445 , 0.22632635, 0.22319686,\n",
       "       0.3103881 , 0.7223358 , 0.13318717, 0.5480639 , 0.5746088 ,\n",
       "       0.8996835 , 0.00946367, 0.5212307 , 0.6345445 , 0.1993283 ,\n",
       "       0.72942245, 0.54583454, 0.10756552, 0.6767061 , 0.6602763 ,\n",
       "       0.33695042, 0.60141766, 0.21062577, 0.8527372 , 0.44062173,\n",
       "       0.9485276 , 0.23752594, 0.81179297, 0.5263394 , 0.494308  ,\n",
       "       0.21612847, 0.8457197 , 0.8718841 , 0.3083862 , 0.6868038 ,\n",
       "       0.23764038, 0.7817228 , 0.9671384 , 0.06870162, 0.79873943,\n",
       "       0.66028714, 0.5871513 , 0.16461694, 0.7381023 , 0.32054043],\n",
       "      dtype=float32)>"
      ]
     },
     "execution_count": 84,
     "metadata": {},
     "output_type": "execute_result"
    }
   ],
   "source": [
    "tf.squeeze(G)\n",
    "#the squeeze method removes all the 1 dimenaion axes \n",
    "#(aka removes all the extra brackets)"
   ]
  },
  {
   "cell_type": "markdown",
   "metadata": {},
   "source": [
    "### One-hot encoding tensors\n",
    "\n",
    "representing categorical data as numerical data\n",
    "* red, green, blue\n",
    "* 1, 0, 0\n",
    "* 0, 1, 0\n",
    "* 0, 0, 1"
   ]
  },
  {
   "cell_type": "code",
   "execution_count": 85,
   "metadata": {
    "execution": {
     "iopub.execute_input": "2021-12-03T21:57:04.961694Z",
     "iopub.status.busy": "2021-12-03T21:57:04.961371Z",
     "iopub.status.idle": "2021-12-03T21:57:04.970962Z",
     "shell.execute_reply": "2021-12-03T21:57:04.969936Z",
     "shell.execute_reply.started": "2021-12-03T21:57:04.961664Z"
    }
   },
   "outputs": [
    {
     "data": {
      "text/plain": [
       "<tf.Tensor: shape=(4, 4), dtype=float32, numpy=\n",
       "array([[1., 0., 0., 0.],\n",
       "       [0., 1., 0., 0.],\n",
       "       [0., 0., 1., 0.],\n",
       "       [0., 0., 0., 1.]], dtype=float32)>"
      ]
     },
     "execution_count": 85,
     "metadata": {},
     "output_type": "execute_result"
    }
   ],
   "source": [
    "#create a list of indices\n",
    "some_list = [0, 1, 2, 3] # could be red, green, blue, purple\n",
    "\n",
    "#one hot encode our list\n",
    "tf.one_hot(some_list, depth = 4)  #depth is the number of columns returned in the encoding"
   ]
  },
  {
   "cell_type": "code",
   "execution_count": 86,
   "metadata": {
    "execution": {
     "iopub.execute_input": "2021-12-03T21:57:05.215995Z",
     "iopub.status.busy": "2021-12-03T21:57:05.215476Z",
     "iopub.status.idle": "2021-12-03T21:57:05.226118Z",
     "shell.execute_reply": "2021-12-03T21:57:05.225236Z",
     "shell.execute_reply.started": "2021-12-03T21:57:05.215963Z"
    }
   },
   "outputs": [
    {
     "data": {
      "text/plain": [
       "<tf.Tensor: shape=(4, 4), dtype=string, numpy=\n",
       "array([[b'on value', b'suck it', b'suck it', b'suck it'],\n",
       "       [b'suck it', b'on value', b'suck it', b'suck it'],\n",
       "       [b'suck it', b'suck it', b'on value', b'suck it'],\n",
       "       [b'suck it', b'suck it', b'suck it', b'on value']], dtype=object)>"
      ]
     },
     "execution_count": 86,
     "metadata": {},
     "output_type": "execute_result"
    }
   ],
   "source": [
    "#specify custome values for one hot encoding\n",
    "tf.one_hot(some_list, depth = 4, on_value = 'on value', off_value = 'suck it')"
   ]
  },
  {
   "cell_type": "markdown",
   "metadata": {},
   "source": [
    "### Trying out more tensor math operations\n",
    "\n",
    "* squaring, log, square root"
   ]
  },
  {
   "cell_type": "code",
   "execution_count": 87,
   "metadata": {
    "execution": {
     "iopub.execute_input": "2021-12-03T21:57:05.641712Z",
     "iopub.status.busy": "2021-12-03T21:57:05.641387Z",
     "iopub.status.idle": "2021-12-03T21:57:05.650188Z",
     "shell.execute_reply": "2021-12-03T21:57:05.648684Z",
     "shell.execute_reply.started": "2021-12-03T21:57:05.64168Z"
    }
   },
   "outputs": [
    {
     "data": {
      "text/plain": [
       "<tf.Tensor: shape=(9,), dtype=int32, numpy=array([1, 2, 3, 4, 5, 6, 7, 8, 9])>"
      ]
     },
     "execution_count": 87,
     "metadata": {},
     "output_type": "execute_result"
    }
   ],
   "source": [
    "#create a new tensor\n",
    "H = tf.range(1,10)\n",
    "H"
   ]
  },
  {
   "cell_type": "code",
   "execution_count": 88,
   "metadata": {
    "execution": {
     "iopub.execute_input": "2021-12-03T21:57:05.810011Z",
     "iopub.status.busy": "2021-12-03T21:57:05.809127Z",
     "iopub.status.idle": "2021-12-03T21:57:05.818341Z",
     "shell.execute_reply": "2021-12-03T21:57:05.817682Z",
     "shell.execute_reply.started": "2021-12-03T21:57:05.809957Z"
    }
   },
   "outputs": [
    {
     "data": {
      "text/plain": [
       "<tf.Tensor: shape=(9,), dtype=int32, numpy=array([ 1,  4,  9, 16, 25, 36, 49, 64, 81])>"
      ]
     },
     "execution_count": 88,
     "metadata": {},
     "output_type": "execute_result"
    }
   ],
   "source": [
    "tf.square(H)"
   ]
  },
  {
   "cell_type": "code",
   "execution_count": 89,
   "metadata": {
    "execution": {
     "iopub.execute_input": "2021-12-03T21:57:05.95901Z",
     "iopub.status.busy": "2021-12-03T21:57:05.95841Z",
     "iopub.status.idle": "2021-12-03T21:57:05.96883Z",
     "shell.execute_reply": "2021-12-03T21:57:05.9678Z",
     "shell.execute_reply.started": "2021-12-03T21:57:05.958979Z"
    }
   },
   "outputs": [
    {
     "data": {
      "text/plain": [
       "<tf.Tensor: shape=(9,), dtype=float32, numpy=\n",
       "array([1.       , 1.4142135, 1.7320508, 2.       , 2.236068 , 2.4494898,\n",
       "       2.6457512, 2.828427 , 3.       ], dtype=float32)>"
      ]
     },
     "execution_count": 89,
     "metadata": {},
     "output_type": "execute_result"
    }
   ],
   "source": [
    "#looks like we'll have to convert H into a float to take the sqrt\n",
    "tf.sqrt(tf.cast(H, tf.float32))"
   ]
  },
  {
   "cell_type": "code",
   "execution_count": 90,
   "metadata": {
    "execution": {
     "iopub.execute_input": "2021-12-03T21:57:06.482085Z",
     "iopub.status.busy": "2021-12-03T21:57:06.481808Z",
     "iopub.status.idle": "2021-12-03T21:57:06.491099Z",
     "shell.execute_reply": "2021-12-03T21:57:06.490348Z",
     "shell.execute_reply.started": "2021-12-03T21:57:06.482056Z"
    }
   },
   "outputs": [
    {
     "data": {
      "text/plain": [
       "<tf.Tensor: shape=(9,), dtype=float32, numpy=\n",
       "array([0.       , 0.6931472, 1.0986123, 1.3862944, 1.609438 , 1.7917595,\n",
       "       1.9459102, 2.0794415, 2.1972246], dtype=float32)>"
      ]
     },
     "execution_count": 90,
     "metadata": {},
     "output_type": "execute_result"
    }
   ],
   "source": [
    "#also need to cast H into a float for log\n",
    "tf.math.log(tf.cast(H, tf.float32))"
   ]
  },
  {
   "cell_type": "markdown",
   "metadata": {},
   "source": [
    "### Exploring tf and np compatibility\n",
    "\n",
    "\n",
    "tf interacts beautifully with np arrays"
   ]
  },
  {
   "cell_type": "code",
   "execution_count": 91,
   "metadata": {
    "execution": {
     "iopub.execute_input": "2021-12-03T22:02:25.108681Z",
     "iopub.status.busy": "2021-12-03T22:02:25.107884Z",
     "iopub.status.idle": "2021-12-03T22:02:25.11615Z",
     "shell.execute_reply": "2021-12-03T22:02:25.115476Z",
     "shell.execute_reply.started": "2021-12-03T22:02:25.108641Z"
    }
   },
   "outputs": [
    {
     "data": {
      "text/plain": [
       "<tf.Tensor: shape=(3,), dtype=float64, numpy=array([ 3.,  7., 10.])>"
      ]
     },
     "execution_count": 91,
     "metadata": {},
     "output_type": "execute_result"
    }
   ],
   "source": [
    "# create a tensor directly from an np array\n",
    "J = tf.constant(np.array([3., 7., 10.]))\n",
    "J"
   ]
  },
  {
   "cell_type": "code",
   "execution_count": 92,
   "metadata": {
    "execution": {
     "iopub.execute_input": "2021-12-03T22:04:33.167048Z",
     "iopub.status.busy": "2021-12-03T22:04:33.16677Z",
     "iopub.status.idle": "2021-12-03T22:04:33.173566Z",
     "shell.execute_reply": "2021-12-03T22:04:33.172846Z",
     "shell.execute_reply.started": "2021-12-03T22:04:33.167018Z"
    }
   },
   "outputs": [
    {
     "data": {
      "text/plain": [
       "(array([ 3.,  7., 10.]), numpy.ndarray)"
      ]
     },
     "execution_count": 92,
     "metadata": {},
     "output_type": "execute_result"
    }
   ],
   "source": [
    "#convert tensor back to an np array\n",
    "np.array(J), type(np.array(J))"
   ]
  },
  {
   "cell_type": "code",
   "execution_count": 93,
   "metadata": {
    "execution": {
     "iopub.execute_input": "2021-12-03T22:06:03.266828Z",
     "iopub.status.busy": "2021-12-03T22:06:03.26626Z",
     "iopub.status.idle": "2021-12-03T22:06:03.274663Z",
     "shell.execute_reply": "2021-12-03T22:06:03.273457Z",
     "shell.execute_reply.started": "2021-12-03T22:06:03.266793Z"
    }
   },
   "outputs": [
    {
     "data": {
      "text/plain": [
       "(array([ 3.,  7., 10.]), numpy.ndarray)"
      ]
     },
     "execution_count": 93,
     "metadata": {},
     "output_type": "execute_result"
    }
   ],
   "source": [
    "#can also use the numpy() method to convert tensor back to np array\n",
    "J.numpy(), type(J.numpy())"
   ]
  },
  {
   "cell_type": "code",
   "execution_count": 94,
   "metadata": {
    "execution": {
     "iopub.execute_input": "2021-12-03T22:07:32.886526Z",
     "iopub.status.busy": "2021-12-03T22:07:32.886058Z",
     "iopub.status.idle": "2021-12-03T22:07:32.891271Z",
     "shell.execute_reply": "2021-12-03T22:07:32.890318Z",
     "shell.execute_reply.started": "2021-12-03T22:07:32.886492Z"
    }
   },
   "outputs": [],
   "source": [
    "#sometimes tf lacks the funcationality so it works really well to convert a tensor to np array"
   ]
  },
  {
   "cell_type": "code",
   "execution_count": 95,
   "metadata": {
    "execution": {
     "iopub.execute_input": "2021-12-03T22:10:25.029122Z",
     "iopub.status.busy": "2021-12-03T22:10:25.028839Z",
     "iopub.status.idle": "2021-12-03T22:10:25.036301Z",
     "shell.execute_reply": "2021-12-03T22:10:25.035683Z",
     "shell.execute_reply.started": "2021-12-03T22:10:25.029092Z"
    }
   },
   "outputs": [
    {
     "data": {
      "text/plain": [
       "(tf.float64, tf.float32)"
      ]
     },
     "execution_count": 95,
     "metadata": {},
     "output_type": "execute_result"
    }
   ],
   "source": [
    "#the default types of each are slightly different\n",
    "numpy_J = tf.constant(np.array([3.,7.,10.]))\n",
    "tensor_J = tf.constant([3.,7.,10.])\n",
    "#check dtypes of each\n",
    "numpy_J.dtype, tensor_J.dtype"
   ]
  },
  {
   "cell_type": "code",
   "execution_count": 96,
   "metadata": {
    "execution": {
     "iopub.execute_input": "2021-12-03T22:13:34.584582Z",
     "iopub.status.busy": "2021-12-03T22:13:34.584243Z",
     "iopub.status.idle": "2021-12-03T22:13:34.589229Z",
     "shell.execute_reply": "2021-12-03T22:13:34.5885Z",
     "shell.execute_reply.started": "2021-12-03T22:13:34.584549Z"
    }
   },
   "outputs": [],
   "source": [
    "#default dtype from np array is float63 while if tensor is created from a pytyhon list the dtype\n",
    "#will be float32\n",
    "\n",
    "#important because it will error if different dtypes are used "
   ]
  },
  {
   "cell_type": "markdown",
   "metadata": {},
   "source": [
    "### Making sure tensors run really fast on GPU\n",
    "\n",
    "one of the biggest differences between tensor of np array is that tensors can be run on GPUs"
   ]
  },
  {
   "cell_type": "code",
   "execution_count": 97,
   "metadata": {
    "execution": {
     "iopub.execute_input": "2021-12-03T22:21:46.325424Z",
     "iopub.status.busy": "2021-12-03T22:21:46.325136Z",
     "iopub.status.idle": "2021-12-03T22:21:46.331371Z",
     "shell.execute_reply": "2021-12-03T22:21:46.330487Z",
     "shell.execute_reply.started": "2021-12-03T22:21:46.325377Z"
    }
   },
   "outputs": [
    {
     "data": {
      "text/plain": [
       "[PhysicalDevice(name='/physical_device:CPU:0', device_type='CPU'),\n",
       " PhysicalDevice(name='/physical_device:GPU:0', device_type='GPU')]"
      ]
     },
     "execution_count": 97,
     "metadata": {},
     "output_type": "execute_result"
    }
   ],
   "source": [
    "#lets check if tf has acces to gpu\n",
    "tf.config.list_physical_devices()"
   ]
  },
  {
   "cell_type": "code",
   "execution_count": 98,
   "metadata": {
    "execution": {
     "iopub.execute_input": "2021-12-03T22:26:51.484384Z",
     "iopub.status.busy": "2021-12-03T22:26:51.484087Z",
     "iopub.status.idle": "2021-12-03T22:26:52.236926Z",
     "shell.execute_reply": "2021-12-03T22:26:52.236061Z",
     "shell.execute_reply.started": "2021-12-03T22:26:51.484353Z"
    }
   },
   "outputs": [
    {
     "name": "stdout",
     "output_type": "stream",
     "text": [
      "Tue Dec 14 12:16:44 2021       \n",
      "+-----------------------------------------------------------------------------+\n",
      "| NVIDIA-SMI 466.27       Driver Version: 466.27       CUDA Version: 11.3     |\n",
      "|-------------------------------+----------------------+----------------------+\n",
      "| GPU  Name            TCC/WDDM | Bus-Id        Disp.A | Volatile Uncorr. ECC |\n",
      "| Fan  Temp  Perf  Pwr:Usage/Cap|         Memory-Usage | GPU-Util  Compute M. |\n",
      "|                               |                      |               MIG M. |\n",
      "|===============================+======================+======================|\n",
      "|   0  NVIDIA GeForce ... WDDM  | 00000000:07:00.0  On |                  N/A |\n",
      "|  0%   44C    P2    34W / 160W |   5838MiB /  6144MiB |      5%      Default |\n",
      "|                               |                      |                  N/A |\n",
      "+-------------------------------+----------------------+----------------------+\n",
      "                                                                               \n",
      "+-----------------------------------------------------------------------------+\n",
      "| Processes:                                                                  |\n",
      "|  GPU   GI   CI        PID   Type   Process name                  GPU Memory |\n",
      "|        ID   ID                                                   Usage      |\n",
      "|=============================================================================|\n",
      "|    0   N/A  N/A      1756      C   ...s\\py38_cuda110\\python.exe    N/A      |\n",
      "|    0   N/A  N/A      2004    C+G   Insufficient Permissions        N/A      |\n",
      "|    0   N/A  N/A      3144    C+G   ...5n1h2txyewy\\SearchApp.exe    N/A      |\n",
      "|    0   N/A  N/A      4412    C+G   Insufficient Permissions        N/A      |\n",
      "|    0   N/A  N/A      4796    C+G   ...wekyb3d8bbwe\\Video.UI.exe    N/A      |\n",
      "|    0   N/A  N/A      5240    C+G   ...8wekyb3d8bbwe\\Cortana.exe    N/A      |\n",
      "|    0   N/A  N/A      7292    C+G   ...kyb3d8bbwe\\Calculator.exe    N/A      |\n",
      "|    0   N/A  N/A      8272    C+G   ...zpdnekdrzrea0\\Spotify.exe    N/A      |\n",
      "|    0   N/A  N/A      9084    C+G   ...ram Files\\LGHUB\\lghub.exe    N/A      |\n",
      "|    0   N/A  N/A      9944    C+G   ...e\\Current\\LogiOverlay.exe    N/A      |\n",
      "|    0   N/A  N/A     11260    C+G   ...y\\ShellExperienceHost.exe    N/A      |\n",
      "|    0   N/A  N/A     11672    C+G   ...me\\Application\\chrome.exe    N/A      |\n",
      "|    0   N/A  N/A     11976    C+G   ...bbwe\\Microsoft.Photos.exe    N/A      |\n",
      "|    0   N/A  N/A     12080    C+G   ...artMenuExperienceHost.exe    N/A      |\n",
      "|    0   N/A  N/A     12872    C+G   Insufficient Permissions        N/A      |\n",
      "|    0   N/A  N/A     13044    C+G   ...nputApp\\TextInputHost.exe    N/A      |\n",
      "|    0   N/A  N/A     13112    C+G   ...__8wekyb3d8bbwe\\pptim.exe    N/A      |\n",
      "|    0   N/A  N/A     13456    C+G   ...perience\\NVIDIA Share.exe    N/A      |\n",
      "|    0   N/A  N/A     13608    C+G   Insufficient Permissions        N/A      |\n",
      "|    0   N/A  N/A     14696    C+G   ...perience\\NVIDIA Share.exe    N/A      |\n",
      "|    0   N/A  N/A     15172    C+G   ...ekyb3d8bbwe\\YourPhone.exe    N/A      |\n",
      "|    0   N/A  N/A     15456    C+G   C:\\Windows\\explorer.exe         N/A      |\n",
      "|    0   N/A  N/A     15672    C+G   ...lPanel\\SystemSettings.exe    N/A      |\n",
      "|    0   N/A  N/A     17116    C+G   ...in7x64\\steamwebhelper.exe    N/A      |\n",
      "|    0   N/A  N/A     19872    C+G   ...cw5n1h2txyewy\\LockApp.exe    N/A      |\n",
      "|    0   N/A  N/A     22308    C+G   ...\\app-1.0.9003\\Discord.exe    N/A      |\n",
      "+-----------------------------------------------------------------------------+\n"
     ]
    }
   ],
   "source": [
    "#find gpu properties \n",
    "!nvidia-smi"
   ]
  },
  {
   "cell_type": "markdown",
   "metadata": {},
   "source": [
    "If you have access to a CUDA enabled GPU, tensorflow will automatically use it whenever possible!!!"
   ]
  },
  {
   "cell_type": "code",
   "execution_count": null,
   "metadata": {},
   "outputs": [],
   "source": []
  },
  {
   "cell_type": "code",
   "execution_count": null,
   "metadata": {},
   "outputs": [],
   "source": []
  },
  {
   "cell_type": "code",
   "execution_count": null,
   "metadata": {},
   "outputs": [],
   "source": []
  },
  {
   "cell_type": "code",
   "execution_count": null,
   "metadata": {},
   "outputs": [],
   "source": []
  },
  {
   "cell_type": "code",
   "execution_count": null,
   "metadata": {},
   "outputs": [],
   "source": []
  },
  {
   "cell_type": "code",
   "execution_count": null,
   "metadata": {},
   "outputs": [],
   "source": []
  },
  {
   "cell_type": "code",
   "execution_count": null,
   "metadata": {},
   "outputs": [],
   "source": []
  },
  {
   "cell_type": "code",
   "execution_count": null,
   "metadata": {},
   "outputs": [],
   "source": []
  },
  {
   "cell_type": "code",
   "execution_count": null,
   "metadata": {},
   "outputs": [],
   "source": []
  },
  {
   "cell_type": "code",
   "execution_count": null,
   "metadata": {},
   "outputs": [],
   "source": []
  },
  {
   "cell_type": "code",
   "execution_count": null,
   "metadata": {},
   "outputs": [],
   "source": []
  },
  {
   "cell_type": "code",
   "execution_count": null,
   "metadata": {},
   "outputs": [],
   "source": []
  },
  {
   "cell_type": "code",
   "execution_count": null,
   "metadata": {},
   "outputs": [],
   "source": []
  },
  {
   "cell_type": "code",
   "execution_count": null,
   "metadata": {},
   "outputs": [],
   "source": []
  },
  {
   "cell_type": "code",
   "execution_count": null,
   "metadata": {},
   "outputs": [],
   "source": []
  },
  {
   "cell_type": "code",
   "execution_count": null,
   "metadata": {},
   "outputs": [],
   "source": []
  },
  {
   "cell_type": "code",
   "execution_count": null,
   "metadata": {},
   "outputs": [],
   "source": []
  },
  {
   "cell_type": "code",
   "execution_count": null,
   "metadata": {},
   "outputs": [],
   "source": []
  },
  {
   "cell_type": "code",
   "execution_count": null,
   "metadata": {},
   "outputs": [],
   "source": []
  },
  {
   "cell_type": "code",
   "execution_count": null,
   "metadata": {},
   "outputs": [],
   "source": []
  },
  {
   "cell_type": "code",
   "execution_count": null,
   "metadata": {},
   "outputs": [],
   "source": []
  },
  {
   "cell_type": "code",
   "execution_count": null,
   "metadata": {},
   "outputs": [],
   "source": []
  },
  {
   "cell_type": "code",
   "execution_count": null,
   "metadata": {},
   "outputs": [],
   "source": []
  },
  {
   "cell_type": "code",
   "execution_count": null,
   "metadata": {},
   "outputs": [],
   "source": []
  }
 ],
 "metadata": {
  "kernelspec": {
   "display_name": "Python 3",
   "language": "python",
   "name": "python3"
  },
  "language_info": {
   "codemirror_mode": {
    "name": "ipython",
    "version": 3
   },
   "file_extension": ".py",
   "mimetype": "text/x-python",
   "name": "python",
   "nbconvert_exporter": "python",
   "pygments_lexer": "ipython3",
   "version": "3.8.0"
  }
 },
 "nbformat": 4,
 "nbformat_minor": 4
}
