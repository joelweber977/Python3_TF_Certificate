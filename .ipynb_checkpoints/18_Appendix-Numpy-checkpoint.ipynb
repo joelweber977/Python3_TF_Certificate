{
 "cells": [
  {
   "cell_type": "code",
   "execution_count": 1,
   "metadata": {
    "execution": {
     "iopub.execute_input": "2021-09-24T17:52:23.540716Z",
     "iopub.status.busy": "2021-09-24T17:52:23.539889Z",
     "iopub.status.idle": "2021-09-24T17:52:23.544169Z",
     "shell.execute_reply": "2021-09-24T17:52:23.543373Z",
     "shell.execute_reply.started": "2021-09-24T17:52:23.54067Z"
    }
   },
   "outputs": [],
   "source": [
    "import numpy as np\n",
    "import pandas as pd\n"
   ]
  },
  {
   "cell_type": "code",
   "execution_count": 2,
   "metadata": {
    "execution": {
     "iopub.execute_input": "2021-09-24T17:52:23.545992Z",
     "iopub.status.busy": "2021-09-24T17:52:23.545612Z",
     "iopub.status.idle": "2021-09-24T17:52:23.55954Z",
     "shell.execute_reply": "2021-09-24T17:52:23.558251Z",
     "shell.execute_reply.started": "2021-09-24T17:52:23.545963Z"
    }
   },
   "outputs": [],
   "source": [
    "#very similar to python lists\n",
    "#2 main reasons why numpy is better\n",
    "    #- much of numpy functionality is written in c, which is much faster than python lists\n",
    "    #- easy to store computer readable data in arrays"
   ]
  },
  {
   "cell_type": "markdown",
   "metadata": {},
   "source": [
    "### Introduction"
   ]
  },
  {
   "cell_type": "code",
   "execution_count": 3,
   "metadata": {
    "execution": {
     "iopub.execute_input": "2021-09-24T17:52:23.561351Z",
     "iopub.status.busy": "2021-09-24T17:52:23.56102Z",
     "iopub.status.idle": "2021-09-24T17:52:23.573892Z",
     "shell.execute_reply": "2021-09-24T17:52:23.573047Z",
     "shell.execute_reply.started": "2021-09-24T17:52:23.561312Z"
    }
   },
   "outputs": [],
   "source": [
    "#numpy is the backbone in which the numerical data is \n",
    "#stored into in which machine learning algorithms can find patterns\n",
    "#backbone of many other python scientific packages"
   ]
  },
  {
   "cell_type": "code",
   "execution_count": 4,
   "metadata": {
    "execution": {
     "iopub.execute_input": "2021-09-24T17:52:23.576134Z",
     "iopub.status.busy": "2021-09-24T17:52:23.575613Z",
     "iopub.status.idle": "2021-09-24T17:52:23.587599Z",
     "shell.execute_reply": "2021-09-24T17:52:23.586392Z",
     "shell.execute_reply.started": "2021-09-24T17:52:23.576094Z"
    }
   },
   "outputs": [],
   "source": [
    "#gets its speed through vectorization via broadcasting (avoiding loops)"
   ]
  },
  {
   "cell_type": "markdown",
   "metadata": {},
   "source": [
    "### Numpy DataTypes and Attributes"
   ]
  },
  {
   "cell_type": "code",
   "execution_count": 5,
   "metadata": {
    "execution": {
     "iopub.execute_input": "2021-09-24T17:52:23.590107Z",
     "iopub.status.busy": "2021-09-24T17:52:23.589551Z",
     "iopub.status.idle": "2021-09-24T17:52:23.600091Z",
     "shell.execute_reply": "2021-09-24T17:52:23.599394Z",
     "shell.execute_reply.started": "2021-09-24T17:52:23.589985Z"
    }
   },
   "outputs": [],
   "source": [
    "import numpy as np\n",
    "import pandas as pd"
   ]
  },
  {
   "cell_type": "code",
   "execution_count": 6,
   "metadata": {
    "execution": {
     "iopub.execute_input": "2021-09-24T17:52:23.603676Z",
     "iopub.status.busy": "2021-09-24T17:52:23.602547Z",
     "iopub.status.idle": "2021-09-24T17:52:23.615148Z",
     "shell.execute_reply": "2021-09-24T17:52:23.614192Z",
     "shell.execute_reply.started": "2021-09-24T17:52:23.603596Z"
    }
   },
   "outputs": [],
   "source": [
    "#numpy's main datatype is ndarray"
   ]
  },
  {
   "cell_type": "code",
   "execution_count": 7,
   "metadata": {
    "execution": {
     "iopub.execute_input": "2021-09-24T17:52:23.617592Z",
     "iopub.status.busy": "2021-09-24T17:52:23.616999Z",
     "iopub.status.idle": "2021-09-24T17:52:23.632769Z",
     "shell.execute_reply": "2021-09-24T17:52:23.632039Z",
     "shell.execute_reply.started": "2021-09-24T17:52:23.617549Z"
    }
   },
   "outputs": [
    {
     "data": {
      "text/plain": [
       "array([1, 2, 3])"
      ]
     },
     "execution_count": 7,
     "metadata": {},
     "output_type": "execute_result"
    }
   ],
   "source": [
    "a1 = np.array([1,2,3])\n",
    "a1"
   ]
  },
  {
   "cell_type": "code",
   "execution_count": 8,
   "metadata": {
    "execution": {
     "iopub.execute_input": "2021-09-24T17:52:23.634415Z",
     "iopub.status.busy": "2021-09-24T17:52:23.634053Z",
     "iopub.status.idle": "2021-09-24T17:52:23.645008Z",
     "shell.execute_reply": "2021-09-24T17:52:23.644278Z",
     "shell.execute_reply.started": "2021-09-24T17:52:23.634387Z"
    }
   },
   "outputs": [
    {
     "data": {
      "text/plain": [
       "numpy.ndarray"
      ]
     },
     "execution_count": 8,
     "metadata": {},
     "output_type": "execute_result"
    }
   ],
   "source": [
    "type(a1)"
   ]
  },
  {
   "cell_type": "code",
   "execution_count": 9,
   "metadata": {
    "execution": {
     "iopub.execute_input": "2021-09-24T17:52:23.646651Z",
     "iopub.status.busy": "2021-09-24T17:52:23.646291Z",
     "iopub.status.idle": "2021-09-24T17:52:23.656792Z",
     "shell.execute_reply": "2021-09-24T17:52:23.656167Z",
     "shell.execute_reply.started": "2021-09-24T17:52:23.646623Z"
    }
   },
   "outputs": [],
   "source": [
    "a2 = np.array([[1,2,3.3],[4,5,6.5]])\n",
    "a3 = np.array([[[1,2,3],[4,5,6],[7,8,9]],\n",
    "              [[10,11,12],[13,14,15],[16,17,18]]])"
   ]
  },
  {
   "cell_type": "code",
   "execution_count": 10,
   "metadata": {
    "execution": {
     "iopub.execute_input": "2021-09-24T17:52:23.660558Z",
     "iopub.status.busy": "2021-09-24T17:52:23.660276Z",
     "iopub.status.idle": "2021-09-24T17:52:23.671016Z",
     "shell.execute_reply": "2021-09-24T17:52:23.670161Z",
     "shell.execute_reply.started": "2021-09-24T17:52:23.660529Z"
    }
   },
   "outputs": [
    {
     "data": {
      "text/plain": [
       "6"
      ]
     },
     "execution_count": 10,
     "metadata": {},
     "output_type": "execute_result"
    }
   ],
   "source": [
    "a3[0][1][2]"
   ]
  },
  {
   "cell_type": "code",
   "execution_count": 11,
   "metadata": {
    "execution": {
     "iopub.execute_input": "2021-09-24T17:52:23.672933Z",
     "iopub.status.busy": "2021-09-24T17:52:23.672306Z",
     "iopub.status.idle": "2021-09-24T17:52:23.684253Z",
     "shell.execute_reply": "2021-09-24T17:52:23.683571Z",
     "shell.execute_reply.started": "2021-09-24T17:52:23.672888Z"
    }
   },
   "outputs": [
    {
     "data": {
      "text/plain": [
       "array([[1. , 2. , 3.3],\n",
       "       [4. , 5. , 6.5]])"
      ]
     },
     "execution_count": 11,
     "metadata": {},
     "output_type": "execute_result"
    }
   ],
   "source": [
    "a2"
   ]
  },
  {
   "cell_type": "code",
   "execution_count": 12,
   "metadata": {
    "execution": {
     "iopub.execute_input": "2021-09-24T17:52:23.686162Z",
     "iopub.status.busy": "2021-09-24T17:52:23.685472Z",
     "iopub.status.idle": "2021-09-24T17:52:23.699003Z",
     "shell.execute_reply": "2021-09-24T17:52:23.698182Z",
     "shell.execute_reply.started": "2021-09-24T17:52:23.686126Z"
    }
   },
   "outputs": [
    {
     "data": {
      "text/plain": [
       "array([[[ 1,  2,  3],\n",
       "        [ 4,  5,  6],\n",
       "        [ 7,  8,  9]],\n",
       "\n",
       "       [[10, 11, 12],\n",
       "        [13, 14, 15],\n",
       "        [16, 17, 18]]])"
      ]
     },
     "execution_count": 12,
     "metadata": {},
     "output_type": "execute_result"
    }
   ],
   "source": [
    "a3"
   ]
  },
  {
   "attachments": {
    "image.png": {
     "image/png": "[encoded data removed]"
    }
   },
   "cell_type": "markdown",
   "metadata": {},
   "source": [
    "![image.png](attachment:image.png)"
   ]
  },
  {
   "cell_type": "code",
   "execution_count": 13,
   "metadata": {
    "execution": {
     "iopub.execute_input": "2021-09-24T17:52:23.700815Z",
     "iopub.status.busy": "2021-09-24T17:52:23.70015Z",
     "iopub.status.idle": "2021-09-24T17:52:23.712776Z",
     "shell.execute_reply": "2021-09-24T17:52:23.711927Z",
     "shell.execute_reply.started": "2021-09-24T17:52:23.700775Z"
    }
   },
   "outputs": [
    {
     "data": {
      "text/plain": [
       "(3,)"
      ]
     },
     "execution_count": 13,
     "metadata": {},
     "output_type": "execute_result"
    }
   ],
   "source": [
    "a1.shape"
   ]
  },
  {
   "cell_type": "code",
   "execution_count": 14,
   "metadata": {
    "execution": {
     "iopub.execute_input": "2021-09-24T17:52:23.714968Z",
     "iopub.status.busy": "2021-09-24T17:52:23.714109Z",
     "iopub.status.idle": "2021-09-24T17:52:23.725811Z",
     "shell.execute_reply": "2021-09-24T17:52:23.724989Z",
     "shell.execute_reply.started": "2021-09-24T17:52:23.714924Z"
    }
   },
   "outputs": [
    {
     "data": {
      "text/plain": [
       "(2, 3)"
      ]
     },
     "execution_count": 14,
     "metadata": {},
     "output_type": "execute_result"
    }
   ],
   "source": [
    "a2.shape"
   ]
  },
  {
   "cell_type": "code",
   "execution_count": 15,
   "metadata": {
    "execution": {
     "iopub.execute_input": "2021-09-24T17:52:23.727714Z",
     "iopub.status.busy": "2021-09-24T17:52:23.727128Z",
     "iopub.status.idle": "2021-09-24T17:52:23.740088Z",
     "shell.execute_reply": "2021-09-24T17:52:23.739106Z",
     "shell.execute_reply.started": "2021-09-24T17:52:23.727668Z"
    }
   },
   "outputs": [
    {
     "data": {
      "text/plain": [
       "1"
      ]
     },
     "execution_count": 15,
     "metadata": {},
     "output_type": "execute_result"
    }
   ],
   "source": [
    "a1.ndim"
   ]
  },
  {
   "cell_type": "code",
   "execution_count": 16,
   "metadata": {
    "execution": {
     "iopub.execute_input": "2021-09-24T17:52:23.741742Z",
     "iopub.status.busy": "2021-09-24T17:52:23.741502Z",
     "iopub.status.idle": "2021-09-24T17:52:23.753014Z",
     "shell.execute_reply": "2021-09-24T17:52:23.752271Z",
     "shell.execute_reply.started": "2021-09-24T17:52:23.741714Z"
    }
   },
   "outputs": [
    {
     "data": {
      "text/plain": [
       "2"
      ]
     },
     "execution_count": 16,
     "metadata": {},
     "output_type": "execute_result"
    }
   ],
   "source": [
    "a2.ndim"
   ]
  },
  {
   "cell_type": "code",
   "execution_count": 17,
   "metadata": {
    "execution": {
     "iopub.execute_input": "2021-09-24T17:52:23.75475Z",
     "iopub.status.busy": "2021-09-24T17:52:23.754235Z",
     "iopub.status.idle": "2021-09-24T17:52:23.767075Z",
     "shell.execute_reply": "2021-09-24T17:52:23.765698Z",
     "shell.execute_reply.started": "2021-09-24T17:52:23.754705Z"
    }
   },
   "outputs": [
    {
     "data": {
      "text/plain": [
       "3"
      ]
     },
     "execution_count": 17,
     "metadata": {},
     "output_type": "execute_result"
    }
   ],
   "source": [
    "a3.ndim"
   ]
  },
  {
   "cell_type": "code",
   "execution_count": 18,
   "metadata": {
    "execution": {
     "iopub.execute_input": "2021-09-24T17:52:23.76872Z",
     "iopub.status.busy": "2021-09-24T17:52:23.768436Z",
     "iopub.status.idle": "2021-09-24T17:52:23.778937Z",
     "shell.execute_reply": "2021-09-24T17:52:23.778038Z",
     "shell.execute_reply.started": "2021-09-24T17:52:23.768682Z"
    }
   },
   "outputs": [
    {
     "data": {
      "text/plain": [
       "(dtype('int32'), dtype('float64'), dtype('int32'))"
      ]
     },
     "execution_count": 18,
     "metadata": {},
     "output_type": "execute_result"
    }
   ],
   "source": [
    "a1.dtype, a2.dtype, a3.dtype"
   ]
  },
  {
   "cell_type": "code",
   "execution_count": 19,
   "metadata": {
    "execution": {
     "iopub.execute_input": "2021-09-24T17:52:23.780958Z",
     "iopub.status.busy": "2021-09-24T17:52:23.780541Z",
     "iopub.status.idle": "2021-09-24T17:52:23.791571Z",
     "shell.execute_reply": "2021-09-24T17:52:23.790569Z",
     "shell.execute_reply.started": "2021-09-24T17:52:23.780924Z"
    }
   },
   "outputs": [
    {
     "data": {
      "text/plain": [
       "(3, 6, 18)"
      ]
     },
     "execution_count": 19,
     "metadata": {},
     "output_type": "execute_result"
    }
   ],
   "source": [
    "a1.size, a2.size, a3.size #total number of values in the array"
   ]
  },
  {
   "cell_type": "code",
   "execution_count": 20,
   "metadata": {
    "execution": {
     "iopub.execute_input": "2021-09-24T17:52:23.793002Z",
     "iopub.status.busy": "2021-09-24T17:52:23.79272Z",
     "iopub.status.idle": "2021-09-24T17:52:23.803377Z",
     "shell.execute_reply": "2021-09-24T17:52:23.80235Z",
     "shell.execute_reply.started": "2021-09-24T17:52:23.792974Z"
    }
   },
   "outputs": [
    {
     "data": {
      "text/plain": [
       "(numpy.ndarray, numpy.ndarray, numpy.ndarray)"
      ]
     },
     "execution_count": 20,
     "metadata": {},
     "output_type": "execute_result"
    }
   ],
   "source": [
    "type(a1), type(a2), type(a3) #ndarray is a universal datatype for anything stored in numpy"
   ]
  },
  {
   "cell_type": "code",
   "execution_count": 21,
   "metadata": {
    "execution": {
     "iopub.execute_input": "2021-09-24T17:52:23.804927Z",
     "iopub.status.busy": "2021-09-24T17:52:23.804642Z",
     "iopub.status.idle": "2021-09-24T17:52:23.819062Z",
     "shell.execute_reply": "2021-09-24T17:52:23.818158Z",
     "shell.execute_reply.started": "2021-09-24T17:52:23.804897Z"
    }
   },
   "outputs": [
    {
     "data": {
      "text/html": [
       "<div>\n",
       "<style scoped>\n",
       "    .dataframe tbody tr th:only-of-type {\n",
       "        vertical-align: middle;\n",
       "    }\n",
       "\n",
       "    .dataframe tbody tr th {\n",
       "        vertical-align: top;\n",
       "    }\n",
       "\n",
       "    .dataframe thead th {\n",
       "        text-align: right;\n",
       "    }\n",
       "</style>\n",
       "<table border=\"1\" class=\"dataframe\">\n",
       "  <thead>\n",
       "    <tr style=\"text-align: right;\">\n",
       "      <th></th>\n",
       "      <th>0</th>\n",
       "      <th>1</th>\n",
       "      <th>2</th>\n",
       "    </tr>\n",
       "  </thead>\n",
       "  <tbody>\n",
       "    <tr>\n",
       "      <th>0</th>\n",
       "      <td>1.0</td>\n",
       "      <td>2.0</td>\n",
       "      <td>3.3</td>\n",
       "    </tr>\n",
       "    <tr>\n",
       "      <th>1</th>\n",
       "      <td>4.0</td>\n",
       "      <td>5.0</td>\n",
       "      <td>6.5</td>\n",
       "    </tr>\n",
       "  </tbody>\n",
       "</table>\n",
       "</div>"
      ],
      "text/plain": [
       "     0    1    2\n",
       "0  1.0  2.0  3.3\n",
       "1  4.0  5.0  6.5"
      ]
     },
     "execution_count": 21,
     "metadata": {},
     "output_type": "execute_result"
    }
   ],
   "source": [
    "#create a dataframe from np array\n",
    "df = pd.DataFrame(a2)\n",
    "df"
   ]
  },
  {
   "cell_type": "markdown",
   "metadata": {},
   "source": [
    "### Creating np arrays"
   ]
  },
  {
   "cell_type": "code",
   "execution_count": 22,
   "metadata": {
    "execution": {
     "iopub.execute_input": "2021-09-24T17:52:23.821156Z",
     "iopub.status.busy": "2021-09-24T17:52:23.820829Z",
     "iopub.status.idle": "2021-09-24T17:52:23.833939Z",
     "shell.execute_reply": "2021-09-24T17:52:23.83283Z",
     "shell.execute_reply.started": "2021-09-24T17:52:23.821116Z"
    }
   },
   "outputs": [
    {
     "data": {
      "text/plain": [
       "array([1, 2, 3])"
      ]
     },
     "execution_count": 22,
     "metadata": {},
     "output_type": "execute_result"
    }
   ],
   "source": [
    "sample_array = np.array([1,2,3])\n",
    "sample_array"
   ]
  },
  {
   "cell_type": "code",
   "execution_count": 23,
   "metadata": {
    "execution": {
     "iopub.execute_input": "2021-09-24T17:52:23.835724Z",
     "iopub.status.busy": "2021-09-24T17:52:23.835506Z",
     "iopub.status.idle": "2021-09-24T17:52:23.843714Z",
     "shell.execute_reply": "2021-09-24T17:52:23.842746Z",
     "shell.execute_reply.started": "2021-09-24T17:52:23.835699Z"
    }
   },
   "outputs": [],
   "source": [
    "#np.ones(shape, dtype=None, order='C', *, like=None)"
   ]
  },
  {
   "cell_type": "code",
   "execution_count": 24,
   "metadata": {
    "execution": {
     "iopub.execute_input": "2021-09-24T17:52:23.845829Z",
     "iopub.status.busy": "2021-09-24T17:52:23.844977Z",
     "iopub.status.idle": "2021-09-24T17:52:23.857522Z",
     "shell.execute_reply": "2021-09-24T17:52:23.85647Z",
     "shell.execute_reply.started": "2021-09-24T17:52:23.845794Z"
    },
    "scrolled": true
   },
   "outputs": [
    {
     "data": {
      "text/plain": [
       "array([[1., 1., 1.],\n",
       "       [1., 1., 1.]])"
      ]
     },
     "execution_count": 24,
     "metadata": {},
     "output_type": "execute_result"
    }
   ],
   "source": [
    "ones = np.ones((2,3))\n",
    "ones\n",
    "#default dtype is float"
   ]
  },
  {
   "cell_type": "code",
   "execution_count": 25,
   "metadata": {
    "execution": {
     "iopub.execute_input": "2021-09-24T17:52:23.859593Z",
     "iopub.status.busy": "2021-09-24T17:52:23.859118Z",
     "iopub.status.idle": "2021-09-24T17:52:23.868243Z",
     "shell.execute_reply": "2021-09-24T17:52:23.867083Z",
     "shell.execute_reply.started": "2021-09-24T17:52:23.859549Z"
    }
   },
   "outputs": [],
   "source": [
    "#np.zeros(shape, dtype=float, order='C', *, like=None)"
   ]
  },
  {
   "cell_type": "code",
   "execution_count": 26,
   "metadata": {
    "execution": {
     "iopub.execute_input": "2021-09-24T17:52:23.870598Z",
     "iopub.status.busy": "2021-09-24T17:52:23.869696Z",
     "iopub.status.idle": "2021-09-24T17:52:23.882061Z",
     "shell.execute_reply": "2021-09-24T17:52:23.88111Z",
     "shell.execute_reply.started": "2021-09-24T17:52:23.870566Z"
    }
   },
   "outputs": [
    {
     "data": {
      "text/plain": [
       "array([[0., 0., 0.],\n",
       "       [0., 0., 0.]])"
      ]
     },
     "execution_count": 26,
     "metadata": {},
     "output_type": "execute_result"
    }
   ],
   "source": [
    "zeros = np.zeros((2,3))\n",
    "zeros\n",
    "#default dtype is float"
   ]
  },
  {
   "cell_type": "code",
   "execution_count": 27,
   "metadata": {
    "execution": {
     "iopub.execute_input": "2021-09-24T17:52:23.884096Z",
     "iopub.status.busy": "2021-09-24T17:52:23.883821Z",
     "iopub.status.idle": "2021-09-24T17:52:23.890794Z",
     "shell.execute_reply": "2021-09-24T17:52:23.890009Z",
     "shell.execute_reply.started": "2021-09-24T17:52:23.88407Z"
    }
   },
   "outputs": [],
   "source": [
    "#np.arange([start,] stop[, step,], dtype=None, *, like=None)\n",
    "#Return evenly spaced values within a given interval."
   ]
  },
  {
   "cell_type": "code",
   "execution_count": 28,
   "metadata": {
    "execution": {
     "iopub.execute_input": "2021-09-24T17:52:23.897866Z",
     "iopub.status.busy": "2021-09-24T17:52:23.897549Z",
     "iopub.status.idle": "2021-09-24T17:52:23.90478Z",
     "shell.execute_reply": "2021-09-24T17:52:23.903979Z",
     "shell.execute_reply.started": "2021-09-24T17:52:23.897835Z"
    }
   },
   "outputs": [
    {
     "data": {
      "text/plain": [
       "array([0, 1, 2])"
      ]
     },
     "execution_count": 28,
     "metadata": {},
     "output_type": "execute_result"
    }
   ],
   "source": [
    "range_array = np.arange(3)\n",
    "range_array"
   ]
  },
  {
   "cell_type": "code",
   "execution_count": 29,
   "metadata": {
    "execution": {
     "iopub.execute_input": "2021-09-24T17:52:23.90688Z",
     "iopub.status.busy": "2021-09-24T17:52:23.906078Z",
     "iopub.status.idle": "2021-09-24T17:52:23.916242Z",
     "shell.execute_reply": "2021-09-24T17:52:23.91544Z",
     "shell.execute_reply.started": "2021-09-24T17:52:23.906837Z"
    }
   },
   "outputs": [
    {
     "data": {
      "text/plain": [
       "array([0, 2, 4, 6, 8])"
      ]
     },
     "execution_count": 29,
     "metadata": {},
     "output_type": "execute_result"
    }
   ],
   "source": [
    "range_array = np.arange(0,10,2)\n",
    "range_array\n",
    "#starts at 0, stops at 10, step of 2\n",
    "#start is inclusive, stop is exclusive"
   ]
  },
  {
   "cell_type": "code",
   "execution_count": 30,
   "metadata": {
    "execution": {
     "iopub.execute_input": "2021-09-24T17:52:23.918162Z",
     "iopub.status.busy": "2021-09-24T17:52:23.917943Z",
     "iopub.status.idle": "2021-09-24T17:52:23.925395Z",
     "shell.execute_reply": "2021-09-24T17:52:23.924375Z",
     "shell.execute_reply.started": "2021-09-24T17:52:23.918137Z"
    }
   },
   "outputs": [],
   "source": [
    "#np.random.randint(low, high=None, size=None, dtype=int)\n",
    "#Return random integers from `low` (inclusive) to `high` (exclusive)."
   ]
  },
  {
   "cell_type": "code",
   "execution_count": 31,
   "metadata": {
    "execution": {
     "iopub.execute_input": "2021-09-24T17:52:23.927043Z",
     "iopub.status.busy": "2021-09-24T17:52:23.926825Z",
     "iopub.status.idle": "2021-09-24T17:52:23.938369Z",
     "shell.execute_reply": "2021-09-24T17:52:23.937552Z",
     "shell.execute_reply.started": "2021-09-24T17:52:23.927019Z"
    }
   },
   "outputs": [
    {
     "data": {
      "text/plain": [
       "array([[4, 3, 1, 9, 8],\n",
       "       [7, 2, 3, 9, 9],\n",
       "       [8, 5, 5, 3, 5]])"
      ]
     },
     "execution_count": 31,
     "metadata": {},
     "output_type": "execute_result"
    }
   ],
   "source": [
    "random_array = np.random.randint(0,10, size = (3,5))\n",
    "random_array\n",
    "#3 rows, 5 columns\n",
    "#low is inclusive, high is exclusive"
   ]
  },
  {
   "cell_type": "code",
   "execution_count": 32,
   "metadata": {
    "execution": {
     "iopub.execute_input": "2021-09-24T17:52:23.939907Z",
     "iopub.status.busy": "2021-09-24T17:52:23.939468Z",
     "iopub.status.idle": "2021-09-24T17:52:23.954382Z",
     "shell.execute_reply": "2021-09-24T17:52:23.953316Z",
     "shell.execute_reply.started": "2021-09-24T17:52:23.939868Z"
    }
   },
   "outputs": [
    {
     "data": {
      "text/plain": [
       "(15, (3, 5))"
      ]
     },
     "execution_count": 32,
     "metadata": {},
     "output_type": "execute_result"
    }
   ],
   "source": [
    "random_array.size, random_array.shape"
   ]
  },
  {
   "cell_type": "code",
   "execution_count": 33,
   "metadata": {
    "execution": {
     "iopub.execute_input": "2021-09-24T17:52:23.955908Z",
     "iopub.status.busy": "2021-09-24T17:52:23.955606Z",
     "iopub.status.idle": "2021-09-24T17:52:23.965296Z",
     "shell.execute_reply": "2021-09-24T17:52:23.96418Z",
     "shell.execute_reply.started": "2021-09-24T17:52:23.955879Z"
    }
   },
   "outputs": [],
   "source": [
    "#np.random.random(size=None)\n",
    "#Return random floats in the half-open interval [0.0, 1.0)"
   ]
  },
  {
   "cell_type": "code",
   "execution_count": 34,
   "metadata": {
    "execution": {
     "iopub.execute_input": "2021-09-24T17:52:23.967219Z",
     "iopub.status.busy": "2021-09-24T17:52:23.966904Z",
     "iopub.status.idle": "2021-09-24T17:52:23.979468Z",
     "shell.execute_reply": "2021-09-24T17:52:23.978597Z",
     "shell.execute_reply.started": "2021-09-24T17:52:23.967181Z"
    }
   },
   "outputs": [
    {
     "data": {
      "text/plain": [
       "array([[0.46375901, 0.57300102, 0.7296992 ],\n",
       "       [0.09609875, 0.37213429, 0.84406384],\n",
       "       [0.73121628, 0.44113439, 0.18284705],\n",
       "       [0.52353875, 0.29245618, 0.06827472],\n",
       "       [0.21017623, 0.94647739, 0.02572327]])"
      ]
     },
     "execution_count": 34,
     "metadata": {},
     "output_type": "execute_result"
    }
   ],
   "source": [
    "random_array2 = np.random.random(size = (5,3))\n",
    "\n",
    "random_array2"
   ]
  },
  {
   "cell_type": "code",
   "execution_count": 35,
   "metadata": {
    "execution": {
     "iopub.execute_input": "2021-09-24T17:52:23.980866Z",
     "iopub.status.busy": "2021-09-24T17:52:23.980485Z",
     "iopub.status.idle": "2021-09-24T17:52:23.989948Z",
     "shell.execute_reply": "2021-09-24T17:52:23.989153Z",
     "shell.execute_reply.started": "2021-09-24T17:52:23.980833Z"
    }
   },
   "outputs": [],
   "source": [
    "#np.random.rand(d0, d1, ..., dn)\n",
    "#Random values in a given shape."
   ]
  },
  {
   "cell_type": "code",
   "execution_count": 36,
   "metadata": {
    "execution": {
     "iopub.execute_input": "2021-09-24T17:52:23.991962Z",
     "iopub.status.busy": "2021-09-24T17:52:23.991281Z",
     "iopub.status.idle": "2021-09-24T17:52:24.004837Z",
     "shell.execute_reply": "2021-09-24T17:52:24.003609Z",
     "shell.execute_reply.started": "2021-09-24T17:52:23.991908Z"
    }
   },
   "outputs": [
    {
     "data": {
      "text/plain": [
       "array([[0.84973349, 0.45646616, 0.19429231],\n",
       "       [0.41405858, 0.55690553, 0.9928383 ],\n",
       "       [0.94940162, 0.68834363, 0.5849    ],\n",
       "       [0.37058276, 0.28470669, 0.54597938],\n",
       "       [0.55811428, 0.95145632, 0.21656945]])"
      ]
     },
     "execution_count": 36,
     "metadata": {},
     "output_type": "execute_result"
    }
   ],
   "source": [
    "random_array3 = np.random.rand(5,3)\n",
    "random_array3"
   ]
  },
  {
   "cell_type": "code",
   "execution_count": 37,
   "metadata": {
    "execution": {
     "iopub.execute_input": "2021-09-24T17:52:24.006579Z",
     "iopub.status.busy": "2021-09-24T17:52:24.006236Z",
     "iopub.status.idle": "2021-09-24T17:52:24.011076Z",
     "shell.execute_reply": "2021-09-24T17:52:24.010364Z",
     "shell.execute_reply.started": "2021-09-24T17:52:24.006549Z"
    }
   },
   "outputs": [],
   "source": [
    "#random numbers in numpy are psuedo-random numbers.  they are actually set with a random seed."
   ]
  },
  {
   "cell_type": "markdown",
   "metadata": {},
   "source": [
    "### Numpy Random Seed"
   ]
  },
  {
   "cell_type": "code",
   "execution_count": 38,
   "metadata": {
    "execution": {
     "iopub.execute_input": "2021-09-24T17:52:24.013082Z",
     "iopub.status.busy": "2021-09-24T17:52:24.012302Z",
     "iopub.status.idle": "2021-09-24T17:52:24.023071Z",
     "shell.execute_reply": "2021-09-24T17:52:24.022156Z",
     "shell.execute_reply.started": "2021-09-24T17:52:24.013044Z"
    }
   },
   "outputs": [
    {
     "data": {
      "text/plain": [
       "array([[5, 2, 3],\n",
       "       [8, 3, 9],\n",
       "       [5, 3, 1],\n",
       "       [4, 3, 3],\n",
       "       [1, 3, 3]])"
      ]
     },
     "execution_count": 38,
     "metadata": {},
     "output_type": "execute_result"
    }
   ],
   "source": [
    "random_array4 = np.random.randint(10, size = (5,3))\n",
    "random_array4"
   ]
  },
  {
   "cell_type": "code",
   "execution_count": 39,
   "metadata": {
    "execution": {
     "iopub.execute_input": "2021-09-24T17:52:24.025592Z",
     "iopub.status.busy": "2021-09-24T17:52:24.024514Z",
     "iopub.status.idle": "2021-09-24T17:52:24.030297Z",
     "shell.execute_reply": "2021-09-24T17:52:24.029722Z",
     "shell.execute_reply.started": "2021-09-24T17:52:24.025547Z"
    }
   },
   "outputs": [],
   "source": [
    "#if we wanted to share our notebook with somebody else and have them run through the cells and \n",
    "#get the exact same answers we got?   we can set a random seed so all the random values are exactly the same"
   ]
  },
  {
   "cell_type": "code",
   "execution_count": 40,
   "metadata": {
    "execution": {
     "iopub.execute_input": "2021-09-24T17:52:24.031934Z",
     "iopub.status.busy": "2021-09-24T17:52:24.031238Z",
     "iopub.status.idle": "2021-09-24T17:52:24.044384Z",
     "shell.execute_reply": "2021-09-24T17:52:24.043573Z",
     "shell.execute_reply.started": "2021-09-24T17:52:24.031895Z"
    }
   },
   "outputs": [
    {
     "data": {
      "text/plain": [
       "array([[0, 3, 1],\n",
       "       [8, 1, 3],\n",
       "       [8, 5, 6],\n",
       "       [0, 6, 0],\n",
       "       [4, 0, 9]])"
      ]
     },
     "execution_count": 40,
     "metadata": {},
     "output_type": "execute_result"
    }
   ],
   "source": [
    "#random numbers that are reproducable\n",
    "np.random.seed(seed = 99999)\n",
    "random_array4 = np.random.randint(10, size =(5,3))\n",
    "random_array4"
   ]
  },
  {
   "cell_type": "code",
   "execution_count": 41,
   "metadata": {
    "execution": {
     "iopub.execute_input": "2021-09-24T17:52:24.046026Z",
     "iopub.status.busy": "2021-09-24T17:52:24.045417Z",
     "iopub.status.idle": "2021-09-24T17:52:24.055109Z",
     "shell.execute_reply": "2021-09-24T17:52:24.05415Z",
     "shell.execute_reply.started": "2021-09-24T17:52:24.045993Z"
    }
   },
   "outputs": [],
   "source": [
    "#the values above were the exact same values he got in the video"
   ]
  },
  {
   "cell_type": "code",
   "execution_count": 42,
   "metadata": {
    "execution": {
     "iopub.execute_input": "2021-09-24T17:52:24.056672Z",
     "iopub.status.busy": "2021-09-24T17:52:24.0562Z",
     "iopub.status.idle": "2021-09-24T17:52:24.072212Z",
     "shell.execute_reply": "2021-09-24T17:52:24.071246Z",
     "shell.execute_reply.started": "2021-09-24T17:52:24.056626Z"
    }
   },
   "outputs": [
    {
     "data": {
      "text/plain": [
       "array([[0.07630829, 0.77991879, 0.43840923],\n",
       "       [0.72346518, 0.97798951, 0.53849587],\n",
       "       [0.50112046, 0.07205113, 0.26843898],\n",
       "       [0.4998825 , 0.67923   , 0.80373904],\n",
       "       [0.38094113, 0.06593635, 0.2881456 ]])"
      ]
     },
     "execution_count": 42,
     "metadata": {},
     "output_type": "execute_result"
    }
   ],
   "source": [
    "#lets try with another random method\n",
    "np.random.seed(7)\n",
    "random_array5 = np.random.random((5,3))\n",
    "random_array5\n",
    "#still the same as the values in the video"
   ]
  },
  {
   "cell_type": "code",
   "execution_count": 43,
   "metadata": {
    "execution": {
     "iopub.execute_input": "2021-09-24T17:52:24.073969Z",
     "iopub.status.busy": "2021-09-24T17:52:24.073627Z",
     "iopub.status.idle": "2021-09-24T17:52:24.085729Z",
     "shell.execute_reply": "2021-09-24T17:52:24.08481Z",
     "shell.execute_reply.started": "2021-09-24T17:52:24.073937Z"
    }
   },
   "outputs": [
    {
     "data": {
      "text/plain": [
       "array([[0.90959353, 0.21338535, 0.45212396],\n",
       "       [0.93120602, 0.02489923, 0.60054892],\n",
       "       [0.9501295 , 0.23030288, 0.54848992],\n",
       "       [0.90912837, 0.13316945, 0.52341258],\n",
       "       [0.75040986, 0.66901324, 0.46775286]])"
      ]
     },
     "execution_count": 43,
     "metadata": {},
     "output_type": "execute_result"
    }
   ],
   "source": [
    "np.random.random((5,3))\n",
    "#the random seed only works in the cell it was defined it"
   ]
  },
  {
   "cell_type": "markdown",
   "metadata": {},
   "source": [
    "### Viewing Arrays and Matrices"
   ]
  },
  {
   "cell_type": "code",
   "execution_count": 44,
   "metadata": {
    "execution": {
     "iopub.execute_input": "2021-09-24T17:52:24.088277Z",
     "iopub.status.busy": "2021-09-24T17:52:24.087178Z",
     "iopub.status.idle": "2021-09-24T17:52:24.098109Z",
     "shell.execute_reply": "2021-09-24T17:52:24.097139Z",
     "shell.execute_reply.started": "2021-09-24T17:52:24.088235Z"
    }
   },
   "outputs": [
    {
     "data": {
      "text/plain": [
       "array([0, 1, 3, 4, 5, 6, 8, 9])"
      ]
     },
     "execution_count": 44,
     "metadata": {},
     "output_type": "execute_result"
    }
   ],
   "source": [
    "#find all unique values of a matrix\n",
    "#np.unique(ar,return_index=False,return_inverse=False,return_counts=False,axis=None,)\n",
    "np.unique(random_array4)\n",
    "#returns a 1d array"
   ]
  },
  {
   "cell_type": "code",
   "execution_count": 45,
   "metadata": {
    "execution": {
     "iopub.execute_input": "2021-09-24T17:52:24.099879Z",
     "iopub.status.busy": "2021-09-24T17:52:24.099333Z",
     "iopub.status.idle": "2021-09-24T17:52:24.110131Z",
     "shell.execute_reply": "2021-09-24T17:52:24.109161Z",
     "shell.execute_reply.started": "2021-09-24T17:52:24.09984Z"
    }
   },
   "outputs": [
    {
     "data": {
      "text/plain": [
       "(array([1, 2, 3]),\n",
       " array([[1. , 2. , 3.3],\n",
       "        [4. , 5. , 6.5]]),\n",
       " array([[[ 1,  2,  3],\n",
       "         [ 4,  5,  6],\n",
       "         [ 7,  8,  9]],\n",
       " \n",
       "        [[10, 11, 12],\n",
       "         [13, 14, 15],\n",
       "         [16, 17, 18]]]))"
      ]
     },
     "execution_count": 45,
     "metadata": {},
     "output_type": "execute_result"
    }
   ],
   "source": [
    "a1, a2, a3"
   ]
  },
  {
   "cell_type": "code",
   "execution_count": 46,
   "metadata": {
    "execution": {
     "iopub.execute_input": "2021-09-24T17:52:24.11213Z",
     "iopub.status.busy": "2021-09-24T17:52:24.11155Z",
     "iopub.status.idle": "2021-09-24T17:52:24.122482Z",
     "shell.execute_reply": "2021-09-24T17:52:24.121454Z",
     "shell.execute_reply.started": "2021-09-24T17:52:24.112087Z"
    }
   },
   "outputs": [
    {
     "data": {
      "text/plain": [
       "1"
      ]
     },
     "execution_count": 46,
     "metadata": {},
     "output_type": "execute_result"
    }
   ],
   "source": [
    "#element 0 of a1\n",
    "a1[0]"
   ]
  },
  {
   "cell_type": "code",
   "execution_count": 47,
   "metadata": {
    "execution": {
     "iopub.execute_input": "2021-09-24T17:52:24.12473Z",
     "iopub.status.busy": "2021-09-24T17:52:24.12388Z",
     "iopub.status.idle": "2021-09-24T17:52:24.135506Z",
     "shell.execute_reply": "2021-09-24T17:52:24.134464Z",
     "shell.execute_reply.started": "2021-09-24T17:52:24.124686Z"
    }
   },
   "outputs": [
    {
     "data": {
      "text/plain": [
       "array([1. , 2. , 3.3])"
      ]
     },
     "execution_count": 47,
     "metadata": {},
     "output_type": "execute_result"
    }
   ],
   "source": [
    "#element 0 of a2\n",
    "a2[0]"
   ]
  },
  {
   "cell_type": "code",
   "execution_count": 48,
   "metadata": {
    "execution": {
     "iopub.execute_input": "2021-09-24T17:52:24.136977Z",
     "iopub.status.busy": "2021-09-24T17:52:24.136733Z",
     "iopub.status.idle": "2021-09-24T17:52:24.145968Z",
     "shell.execute_reply": "2021-09-24T17:52:24.144876Z",
     "shell.execute_reply.started": "2021-09-24T17:52:24.136944Z"
    }
   },
   "outputs": [
    {
     "data": {
      "text/plain": [
       "array([[1, 2, 3],\n",
       "       [4, 5, 6],\n",
       "       [7, 8, 9]])"
      ]
     },
     "execution_count": 48,
     "metadata": {},
     "output_type": "execute_result"
    }
   ],
   "source": [
    "#element 0 of a3\n",
    "a3[0]"
   ]
  },
  {
   "cell_type": "code",
   "execution_count": 49,
   "metadata": {
    "execution": {
     "iopub.execute_input": "2021-09-24T17:52:24.14792Z",
     "iopub.status.busy": "2021-09-24T17:52:24.147362Z",
     "iopub.status.idle": "2021-09-24T17:52:24.156662Z",
     "shell.execute_reply": "2021-09-24T17:52:24.155532Z",
     "shell.execute_reply.started": "2021-09-24T17:52:24.147836Z"
    }
   },
   "outputs": [
    {
     "data": {
      "text/plain": [
       "array([4. , 5. , 6.5])"
      ]
     },
     "execution_count": 49,
     "metadata": {},
     "output_type": "execute_result"
    }
   ],
   "source": [
    "a2[1]"
   ]
  },
  {
   "cell_type": "code",
   "execution_count": 50,
   "metadata": {
    "execution": {
     "iopub.execute_input": "2021-09-24T17:52:24.158176Z",
     "iopub.status.busy": "2021-09-24T17:52:24.157729Z",
     "iopub.status.idle": "2021-09-24T17:52:24.16855Z",
     "shell.execute_reply": "2021-09-24T17:52:24.167742Z",
     "shell.execute_reply.started": "2021-09-24T17:52:24.158135Z"
    }
   },
   "outputs": [
    {
     "data": {
      "text/plain": [
       "array([[[ 1,  2,  3],\n",
       "        [ 4,  5,  6],\n",
       "        [ 7,  8,  9]],\n",
       "\n",
       "       [[10, 11, 12],\n",
       "        [13, 14, 15],\n",
       "        [16, 17, 18]]])"
      ]
     },
     "execution_count": 50,
     "metadata": {},
     "output_type": "execute_result"
    }
   ],
   "source": [
    "a3"
   ]
  },
  {
   "cell_type": "code",
   "execution_count": 51,
   "metadata": {
    "execution": {
     "iopub.execute_input": "2021-09-24T17:52:24.169885Z",
     "iopub.status.busy": "2021-09-24T17:52:24.169608Z",
     "iopub.status.idle": "2021-09-24T17:52:24.179469Z",
     "shell.execute_reply": "2021-09-24T17:52:24.178802Z",
     "shell.execute_reply.started": "2021-09-24T17:52:24.169846Z"
    }
   },
   "outputs": [
    {
     "data": {
      "text/plain": [
       "array([[[ 1,  2],\n",
       "        [ 4,  5]],\n",
       "\n",
       "       [[10, 11],\n",
       "        [13, 14]]])"
      ]
     },
     "execution_count": 51,
     "metadata": {},
     "output_type": "execute_result"
    }
   ],
   "source": [
    "#can also use slicing with arrays\n",
    "a3[:2, :2, :2]\n",
    "#first 2 vectors, first 2 rows, first 2 columns\n",
    "#slicing is inclusive at start and exclusive at stop"
   ]
  },
  {
   "cell_type": "code",
   "execution_count": 52,
   "metadata": {
    "execution": {
     "iopub.execute_input": "2021-09-24T17:52:24.181318Z",
     "iopub.status.busy": "2021-09-24T17:52:24.180671Z",
     "iopub.status.idle": "2021-09-24T17:52:24.189257Z",
     "shell.execute_reply": "2021-09-24T17:52:24.188623Z",
     "shell.execute_reply.started": "2021-09-24T17:52:24.181284Z"
    }
   },
   "outputs": [
    {
     "name": "stdout",
     "output_type": "stream",
     "text": [
      "[[[[6 7 7 9 3]\n",
      "   [0 7 7 7 0]\n",
      "   [5 4 3 1 3]\n",
      "   [1 3 4 3 1]]\n",
      "\n",
      "  [[9 5 9 1 2]\n",
      "   [3 2 2 5 7]\n",
      "   [3 0 9 9 3]\n",
      "   [4 5 3 0 4]]\n",
      "\n",
      "  [[8 6 7 2 7]\n",
      "   [3 8 6 6 5]\n",
      "   [6 5 7 1 5]\n",
      "   [4 4 9 9 0]]]\n",
      "\n",
      "\n",
      " [[[6 2 6 8 2]\n",
      "   [4 1 6 1 5]\n",
      "   [1 6 9 8 6]\n",
      "   [5 9 7 5 4]]\n",
      "\n",
      "  [[9 6 8 1 5]\n",
      "   [5 8 3 7 7]\n",
      "   [9 4 7 5 9]\n",
      "   [6 2 0 5 3]]\n",
      "\n",
      "  [[0 5 7 1 8]\n",
      "   [4 9 0 2 0]\n",
      "   [7 6 2 9 9]\n",
      "   [5 1 0 0 9]]]] (2, 3, 4, 5) 4\n"
     ]
    }
   ],
   "source": [
    "a4 = np.random.randint(10, size = (2,3,4,5))\n",
    "print(a4, a4.shape, a4.ndim)"
   ]
  },
  {
   "cell_type": "code",
   "execution_count": 53,
   "metadata": {
    "execution": {
     "iopub.execute_input": "2021-09-24T17:52:24.190999Z",
     "iopub.status.busy": "2021-09-24T17:52:24.190502Z",
     "iopub.status.idle": "2021-09-24T17:52:24.199902Z",
     "shell.execute_reply": "2021-09-24T17:52:24.199245Z",
     "shell.execute_reply.started": "2021-09-24T17:52:24.190952Z"
    }
   },
   "outputs": [
    {
     "data": {
      "text/plain": [
       "3"
      ]
     },
     "execution_count": 53,
     "metadata": {},
     "output_type": "execute_result"
    }
   ],
   "source": [
    "a4[0,0,2,4]"
   ]
  },
  {
   "cell_type": "code",
   "execution_count": 54,
   "metadata": {
    "execution": {
     "iopub.execute_input": "2021-09-24T17:52:24.201554Z",
     "iopub.status.busy": "2021-09-24T17:52:24.20085Z",
     "iopub.status.idle": "2021-09-24T17:52:24.215418Z",
     "shell.execute_reply": "2021-09-24T17:52:24.214321Z",
     "shell.execute_reply.started": "2021-09-24T17:52:24.201508Z"
    }
   },
   "outputs": [
    {
     "data": {
      "text/plain": [
       "array([[[[6, 7, 7],\n",
       "         [0, 7, 7],\n",
       "         [5, 4, 3],\n",
       "         [1, 3, 4]],\n",
       "\n",
       "        [[9, 5, 9],\n",
       "         [3, 2, 2],\n",
       "         [3, 0, 9],\n",
       "         [4, 5, 3]],\n",
       "\n",
       "        [[8, 6, 7],\n",
       "         [3, 8, 6],\n",
       "         [6, 5, 7],\n",
       "         [4, 4, 9]]],\n",
       "\n",
       "\n",
       "       [[[6, 2, 6],\n",
       "         [4, 1, 6],\n",
       "         [1, 6, 9],\n",
       "         [5, 9, 7]],\n",
       "\n",
       "        [[9, 6, 8],\n",
       "         [5, 8, 3],\n",
       "         [9, 4, 7],\n",
       "         [6, 2, 0]],\n",
       "\n",
       "        [[0, 5, 7],\n",
       "         [4, 9, 0],\n",
       "         [7, 6, 2],\n",
       "         [5, 1, 0]]]])"
      ]
     },
     "execution_count": 54,
     "metadata": {},
     "output_type": "execute_result"
    }
   ],
   "source": [
    "#only first 3 numbers of the inner most arrays\n",
    "a4[:,:,:,:3]"
   ]
  },
  {
   "cell_type": "markdown",
   "metadata": {},
   "source": [
    "### Manipulating arrays"
   ]
  },
  {
   "cell_type": "code",
   "execution_count": 55,
   "metadata": {
    "execution": {
     "iopub.execute_input": "2021-09-24T17:52:24.217178Z",
     "iopub.status.busy": "2021-09-24T17:52:24.216584Z",
     "iopub.status.idle": "2021-09-24T17:52:24.227991Z",
     "shell.execute_reply": "2021-09-24T17:52:24.227195Z",
     "shell.execute_reply.started": "2021-09-24T17:52:24.217143Z"
    }
   },
   "outputs": [
    {
     "data": {
      "text/plain": [
       "array([1, 2, 3])"
      ]
     },
     "execution_count": 55,
     "metadata": {},
     "output_type": "execute_result"
    }
   ],
   "source": [
    "a1"
   ]
  },
  {
   "cell_type": "code",
   "execution_count": 56,
   "metadata": {
    "execution": {
     "iopub.execute_input": "2021-09-24T17:52:24.229575Z",
     "iopub.status.busy": "2021-09-24T17:52:24.229346Z",
     "iopub.status.idle": "2021-09-24T17:52:24.240658Z",
     "shell.execute_reply": "2021-09-24T17:52:24.239801Z",
     "shell.execute_reply.started": "2021-09-24T17:52:24.229548Z"
    }
   },
   "outputs": [
    {
     "data": {
      "text/plain": [
       "array([1., 1., 1.])"
      ]
     },
     "execution_count": 56,
     "metadata": {},
     "output_type": "execute_result"
    }
   ],
   "source": [
    "ones = np.ones(3)\n",
    "ones"
   ]
  },
  {
   "cell_type": "code",
   "execution_count": 57,
   "metadata": {
    "execution": {
     "iopub.execute_input": "2021-09-24T17:52:24.24232Z",
     "iopub.status.busy": "2021-09-24T17:52:24.241895Z",
     "iopub.status.idle": "2021-09-24T17:52:24.253277Z",
     "shell.execute_reply": "2021-09-24T17:52:24.252386Z",
     "shell.execute_reply.started": "2021-09-24T17:52:24.242272Z"
    }
   },
   "outputs": [
    {
     "data": {
      "text/plain": [
       "array([2., 3., 4.])"
      ]
     },
     "execution_count": 57,
     "metadata": {},
     "output_type": "execute_result"
    }
   ],
   "source": [
    "#elementwise addition\n",
    "a1 + ones\n",
    "np.add(a1, ones)"
   ]
  },
  {
   "cell_type": "code",
   "execution_count": 58,
   "metadata": {
    "execution": {
     "iopub.execute_input": "2021-09-24T17:52:24.255862Z",
     "iopub.status.busy": "2021-09-24T17:52:24.255474Z",
     "iopub.status.idle": "2021-09-24T17:52:24.264713Z",
     "shell.execute_reply": "2021-09-24T17:52:24.26375Z",
     "shell.execute_reply.started": "2021-09-24T17:52:24.255821Z"
    }
   },
   "outputs": [
    {
     "data": {
      "text/plain": [
       "array([0., 1., 2.])"
      ]
     },
     "execution_count": 58,
     "metadata": {},
     "output_type": "execute_result"
    }
   ],
   "source": [
    "#elementwise subtraction\n",
    "a1-ones\n",
    "np.subtract(a1,ones)"
   ]
  },
  {
   "cell_type": "code",
   "execution_count": 59,
   "metadata": {
    "execution": {
     "iopub.execute_input": "2021-09-24T17:52:24.26607Z",
     "iopub.status.busy": "2021-09-24T17:52:24.265857Z",
     "iopub.status.idle": "2021-09-24T17:52:24.28094Z",
     "shell.execute_reply": "2021-09-24T17:52:24.279928Z",
     "shell.execute_reply.started": "2021-09-24T17:52:24.266046Z"
    }
   },
   "outputs": [
    {
     "data": {
      "text/plain": [
       "array([1., 2., 3.])"
      ]
     },
     "execution_count": 59,
     "metadata": {},
     "output_type": "execute_result"
    }
   ],
   "source": [
    "#elementwise multiplication\n",
    "a1*ones"
   ]
  },
  {
   "cell_type": "code",
   "execution_count": 60,
   "metadata": {
    "execution": {
     "iopub.execute_input": "2021-09-24T17:52:24.283043Z",
     "iopub.status.busy": "2021-09-24T17:52:24.282741Z",
     "iopub.status.idle": "2021-09-24T17:52:24.292083Z",
     "shell.execute_reply": "2021-09-24T17:52:24.291136Z",
     "shell.execute_reply.started": "2021-09-24T17:52:24.283016Z"
    }
   },
   "outputs": [
    {
     "data": {
      "text/plain": [
       "array([[1. , 2. , 3.3],\n",
       "       [4. , 5. , 6.5]])"
      ]
     },
     "execution_count": 60,
     "metadata": {},
     "output_type": "execute_result"
    }
   ],
   "source": [
    "a2"
   ]
  },
  {
   "cell_type": "code",
   "execution_count": 61,
   "metadata": {
    "execution": {
     "iopub.execute_input": "2021-09-24T17:52:24.293808Z",
     "iopub.status.busy": "2021-09-24T17:52:24.293449Z",
     "iopub.status.idle": "2021-09-24T17:52:24.305121Z",
     "shell.execute_reply": "2021-09-24T17:52:24.30413Z",
     "shell.execute_reply.started": "2021-09-24T17:52:24.29374Z"
    }
   },
   "outputs": [
    {
     "data": {
      "text/plain": [
       "array([[ 1. ,  4. ,  9.9],\n",
       "       [ 4. , 10. , 19.5]])"
      ]
     },
     "execution_count": 61,
     "metadata": {},
     "output_type": "execute_result"
    }
   ],
   "source": [
    "a2*a1\n",
    "#takes a1 vector and multiplies it by each of the vectors\n",
    "#in the a2 matrix"
   ]
  },
  {
   "cell_type": "code",
   "execution_count": 62,
   "metadata": {
    "execution": {
     "iopub.execute_input": "2021-09-24T17:52:24.306613Z",
     "iopub.status.busy": "2021-09-24T17:52:24.306359Z",
     "iopub.status.idle": "2021-09-24T17:52:24.318399Z",
     "shell.execute_reply": "2021-09-24T17:52:24.317355Z",
     "shell.execute_reply.started": "2021-09-24T17:52:24.306577Z"
    }
   },
   "outputs": [
    {
     "name": "stdout",
     "output_type": "stream",
     "text": [
      "[1 2 3]\n",
      "[[1.  2.  3.3]\n",
      " [4.  5.  6.5]]\n",
      "[[[ 1  2  3]\n",
      "  [ 4  5  6]\n",
      "  [ 7  8  9]]\n",
      "\n",
      " [[10 11 12]\n",
      "  [13 14 15]\n",
      "  [16 17 18]]]\n"
     ]
    }
   ],
   "source": [
    "print(a1)\n",
    "print(a2)\n",
    "print(a3)"
   ]
  },
  {
   "cell_type": "code",
   "execution_count": 63,
   "metadata": {
    "execution": {
     "iopub.execute_input": "2021-09-24T17:52:24.319927Z",
     "iopub.status.busy": "2021-09-24T17:52:24.319651Z",
     "iopub.status.idle": "2021-09-24T17:52:24.328625Z",
     "shell.execute_reply": "2021-09-24T17:52:24.327606Z",
     "shell.execute_reply.started": "2021-09-24T17:52:24.319899Z"
    }
   },
   "outputs": [],
   "source": [
    "#a2*a3\n",
    "#unable to broadcast with 2 different shapes"
   ]
  },
  {
   "cell_type": "code",
   "execution_count": 64,
   "metadata": {
    "execution": {
     "iopub.execute_input": "2021-09-24T17:52:24.330097Z",
     "iopub.status.busy": "2021-09-24T17:52:24.329866Z",
     "iopub.status.idle": "2021-09-24T17:52:24.342161Z",
     "shell.execute_reply": "2021-09-24T17:52:24.341053Z",
     "shell.execute_reply.started": "2021-09-24T17:52:24.330071Z"
    }
   },
   "outputs": [
    {
     "data": {
      "text/plain": [
       "array([[[ 1,  4,  9],\n",
       "        [ 4, 10, 18],\n",
       "        [ 7, 16, 27]],\n",
       "\n",
       "       [[10, 22, 36],\n",
       "        [13, 28, 45],\n",
       "        [16, 34, 54]]])"
      ]
     },
     "execution_count": 64,
     "metadata": {},
     "output_type": "execute_result"
    }
   ],
   "source": [
    "a1*a3\n",
    "np.multiply(a1,a3)"
   ]
  },
  {
   "cell_type": "code",
   "execution_count": 65,
   "metadata": {
    "execution": {
     "iopub.execute_input": "2021-09-24T17:52:24.344253Z",
     "iopub.status.busy": "2021-09-24T17:52:24.343878Z",
     "iopub.status.idle": "2021-09-24T17:52:24.35145Z",
     "shell.execute_reply": "2021-09-24T17:52:24.350567Z",
     "shell.execute_reply.started": "2021-09-24T17:52:24.344149Z"
    }
   },
   "outputs": [],
   "source": [
    "#how can we reshape a2 to be compatible with a3\n",
    "#'how to reshape numpy array'\n"
   ]
  },
  {
   "cell_type": "code",
   "execution_count": 66,
   "metadata": {
    "execution": {
     "iopub.execute_input": "2021-09-24T17:52:24.353353Z",
     "iopub.status.busy": "2021-09-24T17:52:24.353039Z",
     "iopub.status.idle": "2021-09-24T17:52:24.365735Z",
     "shell.execute_reply": "2021-09-24T17:52:24.364747Z",
     "shell.execute_reply.started": "2021-09-24T17:52:24.353314Z"
    }
   },
   "outputs": [
    {
     "data": {
      "text/plain": [
       "array([1., 2., 3.])"
      ]
     },
     "execution_count": 66,
     "metadata": {},
     "output_type": "execute_result"
    }
   ],
   "source": [
    "a1/ones\n",
    "np.divide(a1,ones)"
   ]
  },
  {
   "cell_type": "code",
   "execution_count": 67,
   "metadata": {
    "execution": {
     "iopub.execute_input": "2021-09-24T17:52:24.367835Z",
     "iopub.status.busy": "2021-09-24T17:52:24.367358Z",
     "iopub.status.idle": "2021-09-24T17:52:24.377111Z",
     "shell.execute_reply": "2021-09-24T17:52:24.375985Z",
     "shell.execute_reply.started": "2021-09-24T17:52:24.367792Z"
    }
   },
   "outputs": [
    {
     "data": {
      "text/plain": [
       "array([[1., 2., 3.],\n",
       "       [4., 5., 6.]])"
      ]
     },
     "execution_count": 67,
     "metadata": {},
     "output_type": "execute_result"
    }
   ],
   "source": [
    "#floor division (rounds down)\n",
    "a2//a1\n",
    "np.floor(a2)"
   ]
  },
  {
   "cell_type": "code",
   "execution_count": 68,
   "metadata": {
    "execution": {
     "iopub.execute_input": "2021-09-24T17:52:24.378811Z",
     "iopub.status.busy": "2021-09-24T17:52:24.378492Z",
     "iopub.status.idle": "2021-09-24T17:52:24.39009Z",
     "shell.execute_reply": "2021-09-24T17:52:24.389019Z",
     "shell.execute_reply.started": "2021-09-24T17:52:24.378698Z"
    }
   },
   "outputs": [
    {
     "data": {
      "text/plain": [
       "array([[1.        , 1.        , 1.1       ],\n",
       "       [4.        , 2.5       , 2.16666667]])"
      ]
     },
     "execution_count": 68,
     "metadata": {},
     "output_type": "execute_result"
    }
   ],
   "source": [
    "#normal division\n",
    "a2/a1\n",
    "np.divide(a2, a1)"
   ]
  },
  {
   "cell_type": "code",
   "execution_count": 69,
   "metadata": {
    "execution": {
     "iopub.execute_input": "2021-09-24T17:52:24.392013Z",
     "iopub.status.busy": "2021-09-24T17:52:24.391145Z",
     "iopub.status.idle": "2021-09-24T17:52:24.404343Z",
     "shell.execute_reply": "2021-09-24T17:52:24.403211Z",
     "shell.execute_reply.started": "2021-09-24T17:52:24.391971Z"
    }
   },
   "outputs": [
    {
     "name": "stdout",
     "output_type": "stream",
     "text": [
      "[[1.  2.  3.3]\n",
      " [4.  5.  6.5]]\n"
     ]
    },
    {
     "data": {
      "text/plain": [
       "array([[ 1.  ,  4.  , 10.89],\n",
       "       [16.  , 25.  , 42.25]])"
      ]
     },
     "execution_count": 69,
     "metadata": {},
     "output_type": "execute_result"
    }
   ],
   "source": [
    "print(a2)\n",
    "a2 ** 2\n",
    "np.square(a2)"
   ]
  },
  {
   "cell_type": "code",
   "execution_count": 70,
   "metadata": {
    "execution": {
     "iopub.execute_input": "2021-09-24T17:52:24.407933Z",
     "iopub.status.busy": "2021-09-24T17:52:24.407558Z",
     "iopub.status.idle": "2021-09-24T17:52:24.416516Z",
     "shell.execute_reply": "2021-09-24T17:52:24.415488Z",
     "shell.execute_reply.started": "2021-09-24T17:52:24.407891Z"
    }
   },
   "outputs": [
    {
     "data": {
      "text/plain": [
       "array([1, 0, 1], dtype=int32)"
      ]
     },
     "execution_count": 70,
     "metadata": {},
     "output_type": "execute_result"
    }
   ],
   "source": [
    "a1 % 2\n",
    "np.mod(a1, 2)"
   ]
  },
  {
   "cell_type": "code",
   "execution_count": 71,
   "metadata": {
    "execution": {
     "iopub.execute_input": "2021-09-24T17:52:24.418118Z",
     "iopub.status.busy": "2021-09-24T17:52:24.417889Z",
     "iopub.status.idle": "2021-09-24T17:52:24.430469Z",
     "shell.execute_reply": "2021-09-24T17:52:24.429629Z",
     "shell.execute_reply.started": "2021-09-24T17:52:24.418093Z"
    }
   },
   "outputs": [
    {
     "data": {
      "text/plain": [
       "array([ 2.71828183,  7.3890561 , 20.08553692])"
      ]
     },
     "execution_count": 71,
     "metadata": {},
     "output_type": "execute_result"
    }
   ],
   "source": [
    "np.exp(a1)\n",
    "#calculates the exponential of all elements\n",
    "#e^x where each value of a1 is x and e is eulers constant (2.718281)"
   ]
  },
  {
   "cell_type": "code",
   "execution_count": 72,
   "metadata": {
    "execution": {
     "iopub.execute_input": "2021-09-24T17:52:24.432304Z",
     "iopub.status.busy": "2021-09-24T17:52:24.43201Z",
     "iopub.status.idle": "2021-09-24T17:52:24.44663Z",
     "shell.execute_reply": "2021-09-24T17:52:24.445351Z",
     "shell.execute_reply.started": "2021-09-24T17:52:24.432265Z"
    }
   },
   "outputs": [
    {
     "data": {
      "text/plain": [
       "array([0.        , 0.69314718, 1.09861229])"
      ]
     },
     "execution_count": 72,
     "metadata": {},
     "output_type": "execute_result"
    }
   ],
   "source": [
    "np.log(a1)\n",
    "#The natural logarithm `log` is the inverse of the exponential function,\n",
    "#so that `log(exp(x)) = x`. The natural logarithm is logarithm in base\n",
    "#`e`.\n",
    "\n",
    "\n",
    "#The natural logarithm of x is the power to which \n",
    "#e would have to be raised to equal x. \n",
    "#For example, ln 7.5 is 2.0149..., because e2.0149... = 7.5. \n",
    "#The natural logarithm of e itself, ln e, is 1, \n",
    "#because e1 = e, while the natural logarithm of 1 is 0, since e0 = 1.\n",
    "#2.718281828459 ** 0.69314718 = 2"
   ]
  },
  {
   "cell_type": "markdown",
   "metadata": {
    "execution": {
     "iopub.execute_input": "2021-09-22T19:33:52.342796Z",
     "iopub.status.busy": "2021-09-22T19:33:52.34243Z",
     "iopub.status.idle": "2021-09-22T19:33:52.34909Z",
     "shell.execute_reply": "2021-09-22T19:33:52.348271Z",
     "shell.execute_reply.started": "2021-09-22T19:33:52.342756Z"
    }
   },
   "source": [
    "### Aggregation"
   ]
  },
  {
   "cell_type": "code",
   "execution_count": 73,
   "metadata": {
    "execution": {
     "iopub.execute_input": "2021-09-24T17:52:24.448441Z",
     "iopub.status.busy": "2021-09-24T17:52:24.448201Z",
     "iopub.status.idle": "2021-09-24T17:52:24.454823Z",
     "shell.execute_reply": "2021-09-24T17:52:24.453679Z",
     "shell.execute_reply.started": "2021-09-24T17:52:24.448414Z"
    }
   },
   "outputs": [],
   "source": [
    "#aggregation is performing the same operation on a number of things"
   ]
  },
  {
   "cell_type": "code",
   "execution_count": 74,
   "metadata": {
    "execution": {
     "iopub.execute_input": "2021-09-24T17:52:24.456357Z",
     "iopub.status.busy": "2021-09-24T17:52:24.456053Z",
     "iopub.status.idle": "2021-09-24T17:52:24.46856Z",
     "shell.execute_reply": "2021-09-24T17:52:24.467873Z",
     "shell.execute_reply.started": "2021-09-24T17:52:24.456319Z"
    }
   },
   "outputs": [
    {
     "data": {
      "text/plain": [
       "6"
      ]
     },
     "execution_count": 74,
     "metadata": {},
     "output_type": "execute_result"
    }
   ],
   "source": [
    "sum(a1)\n",
    "np.sum(a1)\n",
    "#use python methods on python data stypes\n",
    "#use np methods on np data types"
   ]
  },
  {
   "cell_type": "code",
   "execution_count": 75,
   "metadata": {
    "execution": {
     "iopub.execute_input": "2021-09-24T17:52:24.470184Z",
     "iopub.status.busy": "2021-09-24T17:52:24.469972Z",
     "iopub.status.idle": "2021-09-24T17:52:24.480492Z",
     "shell.execute_reply": "2021-09-24T17:52:24.479545Z",
     "shell.execute_reply.started": "2021-09-24T17:52:24.470153Z"
    }
   },
   "outputs": [],
   "source": [
    "massive_array = np.random.random(100000)"
   ]
  },
  {
   "cell_type": "code",
   "execution_count": 76,
   "metadata": {
    "execution": {
     "iopub.execute_input": "2021-09-24T17:52:24.4822Z",
     "iopub.status.busy": "2021-09-24T17:52:24.481967Z",
     "iopub.status.idle": "2021-09-24T17:52:30.836791Z",
     "shell.execute_reply": "2021-09-24T17:52:30.835488Z",
     "shell.execute_reply.started": "2021-09-24T17:52:24.482174Z"
    }
   },
   "outputs": [
    {
     "name": "stdout",
     "output_type": "stream",
     "text": [
      "8.96 ms ± 148 µs per loop (mean ± std. dev. of 7 runs, 100 loops each)\n",
      "34.2 µs ± 593 ns per loop (mean ± std. dev. of 7 runs, 10000 loops each)\n"
     ]
    }
   ],
   "source": [
    "%timeit sum(massive_array)\n",
    "%timeit np.sum(massive_array)"
   ]
  },
  {
   "cell_type": "code",
   "execution_count": 77,
   "metadata": {
    "execution": {
     "iopub.execute_input": "2021-09-24T17:52:30.838271Z",
     "iopub.status.busy": "2021-09-24T17:52:30.838032Z",
     "iopub.status.idle": "2021-09-24T17:52:30.844648Z",
     "shell.execute_reply": "2021-09-24T17:52:30.843674Z",
     "shell.execute_reply.started": "2021-09-24T17:52:30.838244Z"
    }
   },
   "outputs": [
    {
     "data": {
      "text/plain": [
       "3.6333333333333333"
      ]
     },
     "execution_count": 77,
     "metadata": {},
     "output_type": "execute_result"
    }
   ],
   "source": [
    "np.mean(a2)\n",
    "# (1+2+3.3+4+5+6.5)/6"
   ]
  },
  {
   "cell_type": "code",
   "execution_count": 78,
   "metadata": {
    "execution": {
     "iopub.execute_input": "2021-09-24T17:52:30.846907Z",
     "iopub.status.busy": "2021-09-24T17:52:30.846591Z",
     "iopub.status.idle": "2021-09-24T17:52:30.857917Z",
     "shell.execute_reply": "2021-09-24T17:52:30.857003Z",
     "shell.execute_reply.started": "2021-09-24T17:52:30.846877Z"
    }
   },
   "outputs": [
    {
     "data": {
      "text/plain": [
       "(6.5, 1.0)"
      ]
     },
     "execution_count": 78,
     "metadata": {},
     "output_type": "execute_result"
    }
   ],
   "source": [
    "np.max(a2), np.min(a2)"
   ]
  },
  {
   "cell_type": "code",
   "execution_count": 79,
   "metadata": {
    "execution": {
     "iopub.execute_input": "2021-09-24T17:52:30.859498Z",
     "iopub.status.busy": "2021-09-24T17:52:30.859256Z",
     "iopub.status.idle": "2021-09-24T17:52:30.871165Z",
     "shell.execute_reply": "2021-09-24T17:52:30.87008Z",
     "shell.execute_reply.started": "2021-09-24T17:52:30.859471Z"
    }
   },
   "outputs": [
    {
     "data": {
      "text/plain": [
       "1.8226964152656422"
      ]
     },
     "execution_count": 79,
     "metadata": {},
     "output_type": "execute_result"
    }
   ],
   "source": [
    "np.std(a2)\n",
    "#std is a measure of how spread out a group\n",
    "#of numbers is from the mean\n",
    "\n",
    "#std = sqrt(var)"
   ]
  },
  {
   "cell_type": "code",
   "execution_count": 80,
   "metadata": {
    "execution": {
     "iopub.execute_input": "2021-09-24T17:52:30.873553Z",
     "iopub.status.busy": "2021-09-24T17:52:30.873254Z",
     "iopub.status.idle": "2021-09-24T17:52:30.881594Z",
     "shell.execute_reply": "2021-09-24T17:52:30.880698Z",
     "shell.execute_reply.started": "2021-09-24T17:52:30.873523Z"
    }
   },
   "outputs": [
    {
     "data": {
      "text/plain": [
       "3.3222222222222224"
      ]
     },
     "execution_count": 80,
     "metadata": {},
     "output_type": "execute_result"
    }
   ],
   "source": [
    "np.var(a2)\n",
    "#variance = measure of average degree to which each\n",
    "#number is different to the mean\n",
    "\n",
    "#higher variance = wider range of numbers\n",
    "#lower variance = lower range of numbers"
   ]
  },
  {
   "cell_type": "code",
   "execution_count": 81,
   "metadata": {
    "execution": {
     "iopub.execute_input": "2021-09-24T17:52:30.883116Z",
     "iopub.status.busy": "2021-09-24T17:52:30.882883Z",
     "iopub.status.idle": "2021-09-24T17:52:30.893066Z",
     "shell.execute_reply": "2021-09-24T17:52:30.891883Z",
     "shell.execute_reply.started": "2021-09-24T17:52:30.883065Z"
    }
   },
   "outputs": [
    {
     "data": {
      "text/plain": [
       "1.8226964152656422"
      ]
     },
     "execution_count": 81,
     "metadata": {},
     "output_type": "execute_result"
    }
   ],
   "source": [
    "np.sqrt(np.var(a2))\n",
    "#this is the same as std"
   ]
  },
  {
   "cell_type": "markdown",
   "metadata": {},
   "source": [
    "### Std and Variance"
   ]
  },
  {
   "cell_type": "code",
   "execution_count": 82,
   "metadata": {
    "execution": {
     "iopub.execute_input": "2021-09-24T17:52:30.901686Z",
     "iopub.status.busy": "2021-09-24T17:52:30.901169Z",
     "iopub.status.idle": "2021-09-24T17:52:30.904996Z",
     "shell.execute_reply": "2021-09-24T17:52:30.904402Z",
     "shell.execute_reply.started": "2021-09-24T17:52:30.901652Z"
    }
   },
   "outputs": [],
   "source": [
    "#both measure the spread of the data"
   ]
  },
  {
   "cell_type": "code",
   "execution_count": 83,
   "metadata": {
    "execution": {
     "iopub.execute_input": "2021-09-24T17:52:30.906269Z",
     "iopub.status.busy": "2021-09-24T17:52:30.905865Z",
     "iopub.status.idle": "2021-09-24T17:52:30.916591Z",
     "shell.execute_reply": "2021-09-24T17:52:30.915692Z",
     "shell.execute_reply.started": "2021-09-24T17:52:30.906242Z"
    }
   },
   "outputs": [],
   "source": [
    "high_var_array = np.array([1,100,200,300,4000,5000])\n",
    "low_var_array = np.array([2,4,6,8,10])"
   ]
  },
  {
   "cell_type": "code",
   "execution_count": 84,
   "metadata": {
    "execution": {
     "iopub.execute_input": "2021-09-24T17:52:30.918234Z",
     "iopub.status.busy": "2021-09-24T17:52:30.917921Z",
     "iopub.status.idle": "2021-09-24T17:52:30.93193Z",
     "shell.execute_reply": "2021-09-24T17:52:30.931007Z",
     "shell.execute_reply.started": "2021-09-24T17:52:30.918199Z"
    }
   },
   "outputs": [
    {
     "data": {
      "text/plain": [
       "(4296133.472222221, 8.0)"
      ]
     },
     "execution_count": 84,
     "metadata": {},
     "output_type": "execute_result"
    }
   ],
   "source": [
    "np.var(high_var_array), np.var(low_var_array)"
   ]
  },
  {
   "cell_type": "code",
   "execution_count": 85,
   "metadata": {
    "execution": {
     "iopub.execute_input": "2021-09-24T17:52:30.933534Z",
     "iopub.status.busy": "2021-09-24T17:52:30.93318Z",
     "iopub.status.idle": "2021-09-24T17:52:30.941878Z",
     "shell.execute_reply": "2021-09-24T17:52:30.940988Z",
     "shell.execute_reply.started": "2021-09-24T17:52:30.933507Z"
    }
   },
   "outputs": [
    {
     "data": {
      "text/plain": [
       "(2072.711623024829, 2.8284271247461903)"
      ]
     },
     "execution_count": 85,
     "metadata": {},
     "output_type": "execute_result"
    }
   ],
   "source": [
    "np.std(high_var_array), np.std(low_var_array)\n",
    "#on average a number in high_var_array is 2072 away from the mean\n",
    "#in low_var_array any number is on average only 2.8 away from the mean"
   ]
  },
  {
   "cell_type": "code",
   "execution_count": 86,
   "metadata": {
    "execution": {
     "iopub.execute_input": "2021-09-24T17:52:30.944049Z",
     "iopub.status.busy": "2021-09-24T17:52:30.943427Z",
     "iopub.status.idle": "2021-09-24T17:52:30.95053Z",
     "shell.execute_reply": "2021-09-24T17:52:30.949715Z",
     "shell.execute_reply.started": "2021-09-24T17:52:30.944014Z"
    }
   },
   "outputs": [
    {
     "data": {
      "text/plain": [
       "(1600.1666666666667, 6.0)"
      ]
     },
     "execution_count": 86,
     "metadata": {},
     "output_type": "execute_result"
    }
   ],
   "source": [
    "np.mean(high_var_array), np.mean(low_var_array)"
   ]
  },
  {
   "cell_type": "code",
   "execution_count": 87,
   "metadata": {
    "execution": {
     "iopub.execute_input": "2021-09-24T17:52:30.952191Z",
     "iopub.status.busy": "2021-09-24T17:52:30.951842Z",
     "iopub.status.idle": "2021-09-24T17:52:30.963253Z",
     "shell.execute_reply": "2021-09-24T17:52:30.962532Z",
     "shell.execute_reply.started": "2021-09-24T17:52:30.952164Z"
    }
   },
   "outputs": [],
   "source": [
    "import matplotlib.pyplot as plt\n",
    "%matplotlib inline"
   ]
  },
  {
   "cell_type": "code",
   "execution_count": 88,
   "metadata": {
    "execution": {
     "iopub.execute_input": "2021-09-24T17:52:30.964982Z",
     "iopub.status.busy": "2021-09-24T17:52:30.964529Z",
     "iopub.status.idle": "2021-09-24T17:52:31.170406Z",
     "shell.execute_reply": "2021-09-24T17:52:31.169729Z",
     "shell.execute_reply.started": "2021-09-24T17:52:30.964952Z"
    }
   },
   "outputs": [
    {
     "data": {
      "text/plain": [
       "(array([4., 0., 0., 0., 0., 0., 0., 1., 0., 1.]),\n",
       " array([1.0000e+00, 5.0090e+02, 1.0008e+03, 1.5007e+03, 2.0006e+03,\n",
       "        2.5005e+03, 3.0004e+03, 3.5003e+03, 4.0002e+03, 4.5001e+03,\n",
       "        5.0000e+03]),\n",
       " <BarContainer object of 10 artists>)"
      ]
     },
     "execution_count": 88,
     "metadata": {},
     "output_type": "execute_result"
    },
    {
     "data": {
      "image/png": "[encoded data removed]",
      "text/plain": [
       "<Figure size 432x288 with 1 Axes>"
      ]
     },
     "metadata": {
      "needs_background": "light"
     },
     "output_type": "display_data"
    }
   ],
   "source": [
    "plt.hist(high_var_array)"
   ]
  },
  {
   "cell_type": "code",
   "execution_count": 89,
   "metadata": {
    "execution": {
     "iopub.execute_input": "2021-09-24T17:52:31.171942Z",
     "iopub.status.busy": "2021-09-24T17:52:31.171524Z",
     "iopub.status.idle": "2021-09-24T17:52:31.360127Z",
     "shell.execute_reply": "2021-09-24T17:52:31.359435Z",
     "shell.execute_reply.started": "2021-09-24T17:52:31.171911Z"
    }
   },
   "outputs": [
    {
     "data": {
      "text/plain": [
       "(array([1., 0., 1., 0., 0., 1., 0., 1., 0., 1.]),\n",
       " array([ 2. ,  2.8,  3.6,  4.4,  5.2,  6. ,  6.8,  7.6,  8.4,  9.2, 10. ]),\n",
       " <BarContainer object of 10 artists>)"
      ]
     },
     "execution_count": 89,
     "metadata": {},
     "output_type": "execute_result"
    },
    {
     "data": {
      "image/png": "[encoded data removed]",
      "text/plain": [
       "<Figure size 432x288 with 1 Axes>"
      ]
     },
     "metadata": {
      "needs_background": "light"
     },
     "output_type": "display_data"
    }
   ],
   "source": [
    "plt.hist(low_var_array)"
   ]
  },
  {
   "cell_type": "markdown",
   "metadata": {},
   "source": [
    "### reshape and transpose"
   ]
  },
  {
   "cell_type": "code",
   "execution_count": 90,
   "metadata": {
    "execution": {
     "iopub.execute_input": "2021-09-24T17:52:31.361933Z",
     "iopub.status.busy": "2021-09-24T17:52:31.361252Z",
     "iopub.status.idle": "2021-09-24T17:52:31.368771Z",
     "shell.execute_reply": "2021-09-24T17:52:31.367715Z",
     "shell.execute_reply.started": "2021-09-24T17:52:31.3619Z"
    }
   },
   "outputs": [
    {
     "data": {
      "text/plain": [
       "(array([[1. , 2. , 3.3],\n",
       "        [4. , 5. , 6.5]]),\n",
       " array([[[ 1,  2,  3],\n",
       "         [ 4,  5,  6],\n",
       "         [ 7,  8,  9]],\n",
       " \n",
       "        [[10, 11, 12],\n",
       "         [13, 14, 15],\n",
       "         [16, 17, 18]]]))"
      ]
     },
     "execution_count": 90,
     "metadata": {},
     "output_type": "execute_result"
    }
   ],
   "source": [
    "a2, a3"
   ]
  },
  {
   "cell_type": "code",
   "execution_count": 91,
   "metadata": {
    "execution": {
     "iopub.execute_input": "2021-09-24T17:52:31.370506Z",
     "iopub.status.busy": "2021-09-24T17:52:31.370232Z",
     "iopub.status.idle": "2021-09-24T17:52:31.381481Z",
     "shell.execute_reply": "2021-09-24T17:52:31.380494Z",
     "shell.execute_reply.started": "2021-09-24T17:52:31.370479Z"
    }
   },
   "outputs": [
    {
     "data": {
      "text/plain": [
       "((2, 3), (2, 3, 3))"
      ]
     },
     "execution_count": 91,
     "metadata": {},
     "output_type": "execute_result"
    }
   ],
   "source": [
    "a2.shape, a3.shape"
   ]
  },
  {
   "cell_type": "code",
   "execution_count": 92,
   "metadata": {
    "execution": {
     "iopub.execute_input": "2021-09-24T17:52:31.383042Z",
     "iopub.status.busy": "2021-09-24T17:52:31.382749Z",
     "iopub.status.idle": "2021-09-24T17:52:31.392214Z",
     "shell.execute_reply": "2021-09-24T17:52:31.391177Z",
     "shell.execute_reply.started": "2021-09-24T17:52:31.383014Z"
    }
   },
   "outputs": [],
   "source": [
    "#a2*a3"
   ]
  },
  {
   "cell_type": "code",
   "execution_count": 93,
   "metadata": {
    "execution": {
     "iopub.execute_input": "2021-09-24T17:52:31.394086Z",
     "iopub.status.busy": "2021-09-24T17:52:31.393855Z",
     "iopub.status.idle": "2021-09-24T17:52:31.406095Z",
     "shell.execute_reply": "2021-09-24T17:52:31.405439Z",
     "shell.execute_reply.started": "2021-09-24T17:52:31.394061Z"
    }
   },
   "outputs": [
    {
     "data": {
      "text/plain": [
       "array([[[1. ],\n",
       "        [2. ],\n",
       "        [3.3]],\n",
       "\n",
       "       [[4. ],\n",
       "        [5. ],\n",
       "        [6.5]]])"
      ]
     },
     "execution_count": 93,
     "metadata": {},
     "output_type": "execute_result"
    }
   ],
   "source": [
    "a2.reshape(2,3,1)"
   ]
  },
  {
   "cell_type": "code",
   "execution_count": 94,
   "metadata": {
    "execution": {
     "iopub.execute_input": "2021-09-24T17:52:31.407673Z",
     "iopub.status.busy": "2021-09-24T17:52:31.407001Z",
     "iopub.status.idle": "2021-09-24T17:52:31.416539Z",
     "shell.execute_reply": "2021-09-24T17:52:31.415699Z",
     "shell.execute_reply.started": "2021-09-24T17:52:31.407639Z"
    }
   },
   "outputs": [],
   "source": [
    "a2_reshape = a2.reshape(2,3,1)"
   ]
  },
  {
   "cell_type": "code",
   "execution_count": 95,
   "metadata": {
    "execution": {
     "iopub.execute_input": "2021-09-24T17:52:31.419031Z",
     "iopub.status.busy": "2021-09-24T17:52:31.418275Z",
     "iopub.status.idle": "2021-09-24T17:52:31.431411Z",
     "shell.execute_reply": "2021-09-24T17:52:31.43022Z",
     "shell.execute_reply.started": "2021-09-24T17:52:31.418987Z"
    }
   },
   "outputs": [
    {
     "data": {
      "text/plain": [
       "array([[[  1. ,   2. ,   3. ],\n",
       "        [  8. ,  10. ,  12. ],\n",
       "        [ 23.1,  26.4,  29.7]],\n",
       "\n",
       "       [[ 40. ,  44. ,  48. ],\n",
       "        [ 65. ,  70. ,  75. ],\n",
       "        [104. , 110.5, 117. ]]])"
      ]
     },
     "execution_count": 95,
     "metadata": {},
     "output_type": "execute_result"
    }
   ],
   "source": [
    "a2_reshape * a3"
   ]
  },
  {
   "cell_type": "code",
   "execution_count": 96,
   "metadata": {
    "execution": {
     "iopub.execute_input": "2021-09-24T17:52:31.433432Z",
     "iopub.status.busy": "2021-09-24T17:52:31.432615Z",
     "iopub.status.idle": "2021-09-24T17:52:31.442125Z",
     "shell.execute_reply": "2021-09-24T17:52:31.441159Z",
     "shell.execute_reply.started": "2021-09-24T17:52:31.433391Z"
    }
   },
   "outputs": [
    {
     "data": {
      "text/plain": [
       "(array([[[1. , 2. , 3.3]],\n",
       " \n",
       "        [[4. , 5. , 6.5]]]),\n",
       " array([[[ 1,  2,  3],\n",
       "         [ 4,  5,  6],\n",
       "         [ 7,  8,  9]],\n",
       " \n",
       "        [[10, 11, 12],\n",
       "         [13, 14, 15],\n",
       "         [16, 17, 18]]]),\n",
       " array([[[  1. ,   4. ,   9.9],\n",
       "         [  4. ,  10. ,  19.8],\n",
       "         [  7. ,  16. ,  29.7]],\n",
       " \n",
       "        [[ 40. ,  55. ,  78. ],\n",
       "         [ 52. ,  70. ,  97.5],\n",
       "         [ 64. ,  85. , 117. ]]]))"
      ]
     },
     "execution_count": 96,
     "metadata": {},
     "output_type": "execute_result"
    }
   ],
   "source": [
    "a2.reshape(2,1,3), a3, a2.reshape(2,1,3)*a3\n",
    "#this reshape should take a2[0] times each element of a3[0]\n",
    "#and a2[1] times each element of a3[1]"
   ]
  },
  {
   "cell_type": "code",
   "execution_count": 97,
   "metadata": {
    "execution": {
     "iopub.execute_input": "2021-09-24T17:52:31.443731Z",
     "iopub.status.busy": "2021-09-24T17:52:31.443374Z",
     "iopub.status.idle": "2021-09-24T17:52:31.454862Z",
     "shell.execute_reply": "2021-09-24T17:52:31.45403Z",
     "shell.execute_reply.started": "2021-09-24T17:52:31.443693Z"
    }
   },
   "outputs": [
    {
     "data": {
      "text/plain": [
       "(array([[1. , 2. , 3.3],\n",
       "        [4. , 5. , 6.5]]),\n",
       " (2, 3))"
      ]
     },
     "execution_count": 97,
     "metadata": {},
     "output_type": "execute_result"
    }
   ],
   "source": [
    "a2, a2.shape"
   ]
  },
  {
   "cell_type": "code",
   "execution_count": 98,
   "metadata": {
    "execution": {
     "iopub.execute_input": "2021-09-24T17:52:31.456548Z",
     "iopub.status.busy": "2021-09-24T17:52:31.456309Z",
     "iopub.status.idle": "2021-09-24T17:52:31.465709Z",
     "shell.execute_reply": "2021-09-24T17:52:31.46494Z",
     "shell.execute_reply.started": "2021-09-24T17:52:31.45652Z"
    }
   },
   "outputs": [
    {
     "data": {
      "text/plain": [
       "(array([[1. , 4. ],\n",
       "        [2. , 5. ],\n",
       "        [3.3, 6.5]]),\n",
       " (3, 2))"
      ]
     },
     "execution_count": 98,
     "metadata": {},
     "output_type": "execute_result"
    }
   ],
   "source": [
    "a2.T, a2.T.shape"
   ]
  },
  {
   "cell_type": "code",
   "execution_count": 99,
   "metadata": {
    "execution": {
     "iopub.execute_input": "2021-09-24T17:52:31.467262Z",
     "iopub.status.busy": "2021-09-24T17:52:31.467012Z",
     "iopub.status.idle": "2021-09-24T17:52:31.477691Z",
     "shell.execute_reply": "2021-09-24T17:52:31.476871Z",
     "shell.execute_reply.started": "2021-09-24T17:52:31.467235Z"
    }
   },
   "outputs": [
    {
     "data": {
      "text/plain": [
       "(array([[[ 1,  2,  3],\n",
       "         [ 4,  5,  6],\n",
       "         [ 7,  8,  9]],\n",
       " \n",
       "        [[10, 11, 12],\n",
       "         [13, 14, 15],\n",
       "         [16, 17, 18]]]),\n",
       " (2, 3, 3))"
      ]
     },
     "execution_count": 99,
     "metadata": {},
     "output_type": "execute_result"
    }
   ],
   "source": [
    "a3, a3.shape"
   ]
  },
  {
   "cell_type": "code",
   "execution_count": 100,
   "metadata": {
    "execution": {
     "iopub.execute_input": "2021-09-24T17:52:31.48023Z",
     "iopub.status.busy": "2021-09-24T17:52:31.479316Z",
     "iopub.status.idle": "2021-09-24T17:52:31.490505Z",
     "shell.execute_reply": "2021-09-24T17:52:31.489489Z",
     "shell.execute_reply.started": "2021-09-24T17:52:31.480183Z"
    }
   },
   "outputs": [
    {
     "data": {
      "text/plain": [
       "(array([[[ 1, 10],\n",
       "         [ 4, 13],\n",
       "         [ 7, 16]],\n",
       " \n",
       "        [[ 2, 11],\n",
       "         [ 5, 14],\n",
       "         [ 8, 17]],\n",
       " \n",
       "        [[ 3, 12],\n",
       "         [ 6, 15],\n",
       "         [ 9, 18]]]),\n",
       " (3, 3, 2))"
      ]
     },
     "execution_count": 100,
     "metadata": {},
     "output_type": "execute_result"
    }
   ],
   "source": [
    "a3.T, a3.T.shape"
   ]
  },
  {
   "cell_type": "markdown",
   "metadata": {},
   "source": [
    "### Dot Product vs Element Wise"
   ]
  },
  {
   "cell_type": "code",
   "execution_count": 101,
   "metadata": {
    "execution": {
     "iopub.execute_input": "2021-09-24T17:52:31.492468Z",
     "iopub.status.busy": "2021-09-24T17:52:31.491685Z",
     "iopub.status.idle": "2021-09-24T17:52:31.501344Z",
     "shell.execute_reply": "2021-09-24T17:52:31.500672Z",
     "shell.execute_reply.started": "2021-09-24T17:52:31.492427Z"
    }
   },
   "outputs": [],
   "source": [
    "#when we would ever want to use a transpose? when we need to use the dot product!"
   ]
  },
  {
   "cell_type": "code",
   "execution_count": 102,
   "metadata": {
    "execution": {
     "iopub.execute_input": "2021-09-24T17:52:31.503278Z",
     "iopub.status.busy": "2021-09-24T17:52:31.502411Z",
     "iopub.status.idle": "2021-09-24T17:52:31.515126Z",
     "shell.execute_reply": "2021-09-24T17:52:31.514061Z",
     "shell.execute_reply.started": "2021-09-24T17:52:31.503235Z"
    }
   },
   "outputs": [
    {
     "name": "stdout",
     "output_type": "stream",
     "text": [
      "[[5 0 3]\n",
      " [3 7 9]\n",
      " [3 5 2]\n",
      " [4 7 6]\n",
      " [8 8 1]]\n",
      "[[6 7 7]\n",
      " [8 1 5]\n",
      " [9 8 9]\n",
      " [4 3 0]\n",
      " [3 5 0]]\n"
     ]
    }
   ],
   "source": [
    "np.random.seed(0)\n",
    "mat1 = np.random.randint(10,size = (5,3))\n",
    "mat2 = np.random.randint(10, size = (5,3))\n",
    "print(mat1)\n",
    "print(mat2)"
   ]
  },
  {
   "cell_type": "code",
   "execution_count": 103,
   "metadata": {
    "execution": {
     "iopub.execute_input": "2021-09-24T17:52:31.517001Z",
     "iopub.status.busy": "2021-09-24T17:52:31.516754Z",
     "iopub.status.idle": "2021-09-24T17:52:31.52775Z",
     "shell.execute_reply": "2021-09-24T17:52:31.526816Z",
     "shell.execute_reply.started": "2021-09-24T17:52:31.516975Z"
    }
   },
   "outputs": [
    {
     "data": {
      "text/plain": [
       "array([[30,  0, 21],\n",
       "       [24,  7, 45],\n",
       "       [27, 40, 18],\n",
       "       [16, 21,  0],\n",
       "       [24, 40,  0]])"
      ]
     },
     "execution_count": 103,
     "metadata": {},
     "output_type": "execute_result"
    }
   ],
   "source": [
    "np.multiply(mat1, mat2)\n",
    "#elementwise multiplication"
   ]
  },
  {
   "cell_type": "code",
   "execution_count": 104,
   "metadata": {
    "execution": {
     "iopub.execute_input": "2021-09-24T17:52:31.529789Z",
     "iopub.status.busy": "2021-09-24T17:52:31.529511Z",
     "iopub.status.idle": "2021-09-24T17:52:31.53973Z",
     "shell.execute_reply": "2021-09-24T17:52:31.538433Z",
     "shell.execute_reply.started": "2021-09-24T17:52:31.529733Z"
    }
   },
   "outputs": [],
   "source": [
    "#np.dot(mat1,mat2)   errors out"
   ]
  },
  {
   "attachments": {
    "006b6641-fa13-4fc4-9e9c-904c2fd5939f.png": {
     "image/png": "[encoded data removed]"
    }
   },
   "cell_type": "markdown",
   "metadata": {},
   "source": [
    "![image.png](attachment:006b6641-fa13-4fc4-9e9c-904c2fd5939f.png)"
   ]
  },
  {
   "attachments": {
    "8b652294-618b-4897-becc-5402778ff140.png": {
     "image/png": "[encoded data removed]"
    }
   },
   "cell_type": "markdown",
   "metadata": {},
   "source": [
    "![image.png](attachment:8b652294-618b-4897-becc-5402778ff140.png)"
   ]
  },
  {
   "cell_type": "code",
   "execution_count": 105,
   "metadata": {
    "execution": {
     "iopub.execute_input": "2021-09-24T17:52:31.542044Z",
     "iopub.status.busy": "2021-09-24T17:52:31.541325Z",
     "iopub.status.idle": "2021-09-24T17:52:31.549261Z",
     "shell.execute_reply": "2021-09-24T17:52:31.54846Z",
     "shell.execute_reply.started": "2021-09-24T17:52:31.542012Z"
    }
   },
   "outputs": [],
   "source": [
    "#numbers on the inside must match and numbers on the outside form the \n",
    "#new matrix size."
   ]
  },
  {
   "cell_type": "code",
   "execution_count": 106,
   "metadata": {
    "execution": {
     "iopub.execute_input": "2021-09-24T17:52:31.551813Z",
     "iopub.status.busy": "2021-09-24T17:52:31.551046Z",
     "iopub.status.idle": "2021-09-24T17:52:31.559815Z",
     "shell.execute_reply": "2021-09-24T17:52:31.558872Z",
     "shell.execute_reply.started": "2021-09-24T17:52:31.551778Z"
    }
   },
   "outputs": [],
   "source": [
    "#number of columns in first must match number of rows in second or it will throw error."
   ]
  },
  {
   "cell_type": "code",
   "execution_count": 107,
   "metadata": {
    "execution": {
     "iopub.execute_input": "2021-09-24T17:52:31.562219Z",
     "iopub.status.busy": "2021-09-24T17:52:31.561624Z",
     "iopub.status.idle": "2021-09-24T17:52:31.571908Z",
     "shell.execute_reply": "2021-09-24T17:52:31.570935Z",
     "shell.execute_reply.started": "2021-09-24T17:52:31.562074Z"
    }
   },
   "outputs": [
    {
     "data": {
      "text/plain": [
       "((5, 3), (5, 3))"
      ]
     },
     "execution_count": 107,
     "metadata": {},
     "output_type": "execute_result"
    }
   ],
   "source": [
    "mat1.shape, mat2.shape\n",
    "#based on the rules above we would have to transpose mat2 to get a shape that works "
   ]
  },
  {
   "cell_type": "code",
   "execution_count": 108,
   "metadata": {
    "execution": {
     "iopub.execute_input": "2021-09-24T17:52:31.57326Z",
     "iopub.status.busy": "2021-09-24T17:52:31.573048Z",
     "iopub.status.idle": "2021-09-24T17:52:31.582776Z",
     "shell.execute_reply": "2021-09-24T17:52:31.581887Z",
     "shell.execute_reply.started": "2021-09-24T17:52:31.573234Z"
    }
   },
   "outputs": [
    {
     "name": "stdout",
     "output_type": "stream",
     "text": [
      "(5, 3) (3, 5)\n"
     ]
    }
   ],
   "source": [
    "mat2_T = mat2.T\n",
    "print(mat1.shape, mat2_T.shape)\n",
    "#so now the inside numbers match and the resulting matrix will be 5x5"
   ]
  },
  {
   "cell_type": "code",
   "execution_count": 109,
   "metadata": {
    "execution": {
     "iopub.execute_input": "2021-09-24T17:52:31.584377Z",
     "iopub.status.busy": "2021-09-24T17:52:31.584034Z",
     "iopub.status.idle": "2021-09-24T17:52:31.59359Z",
     "shell.execute_reply": "2021-09-24T17:52:31.592923Z",
     "shell.execute_reply.started": "2021-09-24T17:52:31.584345Z"
    }
   },
   "outputs": [
    {
     "name": "stdout",
     "output_type": "stream",
     "text": [
      "[[5 0 3]\n",
      " [3 7 9]\n",
      " [3 5 2]\n",
      " [4 7 6]\n",
      " [8 8 1]]\n",
      "[[6 7 7]\n",
      " [8 1 5]\n",
      " [9 8 9]\n",
      " [4 3 0]\n",
      " [3 5 0]]\n",
      "[[6 8 9 4 3]\n",
      " [7 1 8 3 5]\n",
      " [7 5 9 0 0]]\n"
     ]
    }
   ],
   "source": [
    "print(mat1)\n",
    "print(mat2)\n",
    "print(mat2_T)"
   ]
  },
  {
   "cell_type": "code",
   "execution_count": 110,
   "metadata": {
    "execution": {
     "iopub.execute_input": "2021-09-24T17:52:31.596698Z",
     "iopub.status.busy": "2021-09-24T17:52:31.596431Z",
     "iopub.status.idle": "2021-09-24T17:52:31.606995Z",
     "shell.execute_reply": "2021-09-24T17:52:31.606125Z",
     "shell.execute_reply.started": "2021-09-24T17:52:31.596669Z"
    }
   },
   "outputs": [
    {
     "data": {
      "text/plain": [
       "array([[ 51,  55,  72,  20,  15],\n",
       "       [130,  76, 164,  33,  44],\n",
       "       [ 67,  39,  85,  27,  34],\n",
       "       [115,  69, 146,  37,  47],\n",
       "       [111,  77, 145,  56,  64]])"
      ]
     },
     "execution_count": 110,
     "metadata": {},
     "output_type": "execute_result"
    }
   ],
   "source": [
    "mat1.dot(mat2_T)"
   ]
  },
  {
   "cell_type": "code",
   "execution_count": 111,
   "metadata": {
    "execution": {
     "iopub.execute_input": "2021-09-24T17:52:31.608837Z",
     "iopub.status.busy": "2021-09-24T17:52:31.608562Z",
     "iopub.status.idle": "2021-09-24T17:52:31.617524Z",
     "shell.execute_reply": "2021-09-24T17:52:31.616694Z",
     "shell.execute_reply.started": "2021-09-24T17:52:31.608809Z"
    }
   },
   "outputs": [],
   "source": [
    "#dot products are just another tool to find patterns between two different arrays of numbers"
   ]
  },
  {
   "cell_type": "markdown",
   "metadata": {},
   "source": [
    "### Exercise: Nut Butter Store Sales with dot product"
   ]
  },
  {
   "cell_type": "code",
   "execution_count": 120,
   "metadata": {},
   "outputs": [
    {
     "data": {
      "text/plain": [
       "array([[12, 15,  0],\n",
       "       [ 3,  3,  7],\n",
       "       [ 9, 19, 18],\n",
       "       [ 4,  6, 12],\n",
       "       [ 1,  6,  7]])"
      ]
     },
     "execution_count": 120,
     "metadata": {},
     "output_type": "execute_result"
    }
   ],
   "source": [
    "np.random.seed(0)\n",
    "#number of jars sold\n",
    "sales_amt = np.random.randint(20, size = (5,3))\n",
    "sales_amt"
   ]
  },
  {
   "cell_type": "code",
   "execution_count": 121,
   "metadata": {},
   "outputs": [
    {
     "data": {
      "text/html": [
       "<div>\n",
       "<style scoped>\n",
       "    .dataframe tbody tr th:only-of-type {\n",
       "        vertical-align: middle;\n",
       "    }\n",
       "\n",
       "    .dataframe tbody tr th {\n",
       "        vertical-align: top;\n",
       "    }\n",
       "\n",
       "    .dataframe thead th {\n",
       "        text-align: right;\n",
       "    }\n",
       "</style>\n",
       "<table border=\"1\" class=\"dataframe\">\n",
       "  <thead>\n",
       "    <tr style=\"text-align: right;\">\n",
       "      <th></th>\n",
       "      <th>Almond</th>\n",
       "      <th>Peanut</th>\n",
       "      <th>Cashew</th>\n",
       "    </tr>\n",
       "  </thead>\n",
       "  <tbody>\n",
       "    <tr>\n",
       "      <th>M</th>\n",
       "      <td>12</td>\n",
       "      <td>15</td>\n",
       "      <td>0</td>\n",
       "    </tr>\n",
       "    <tr>\n",
       "      <th>T</th>\n",
       "      <td>3</td>\n",
       "      <td>3</td>\n",
       "      <td>7</td>\n",
       "    </tr>\n",
       "    <tr>\n",
       "      <th>W</th>\n",
       "      <td>9</td>\n",
       "      <td>19</td>\n",
       "      <td>18</td>\n",
       "    </tr>\n",
       "    <tr>\n",
       "      <th>R</th>\n",
       "      <td>4</td>\n",
       "      <td>6</td>\n",
       "      <td>12</td>\n",
       "    </tr>\n",
       "    <tr>\n",
       "      <th>F</th>\n",
       "      <td>1</td>\n",
       "      <td>6</td>\n",
       "      <td>7</td>\n",
       "    </tr>\n",
       "  </tbody>\n",
       "</table>\n",
       "</div>"
      ],
      "text/plain": [
       "   Almond  Peanut  Cashew\n",
       "M      12      15       0\n",
       "T       3       3       7\n",
       "W       9      19      18\n",
       "R       4       6      12\n",
       "F       1       6       7"
      ]
     },
     "execution_count": 121,
     "metadata": {},
     "output_type": "execute_result"
    }
   ],
   "source": [
    "#create weekly sales dataframe\n",
    "weekly_sales = pd.DataFrame(sales_amt, index = ['M', 'T', 'W', 'R', 'F'],\n",
    "                           columns = ['Almond', 'Peanut', 'Cashew'])\n",
    "weekly_sales"
   ]
  },
  {
   "cell_type": "code",
   "execution_count": 122,
   "metadata": {},
   "outputs": [
    {
     "data": {
      "text/plain": [
       "array([10,  8, 12])"
      ]
     },
     "execution_count": 122,
     "metadata": {},
     "output_type": "execute_result"
    }
   ],
   "source": [
    "#create prices array\n",
    "prices = np.array([10,8,12])\n",
    "prices"
   ]
  },
  {
   "cell_type": "code",
   "execution_count": 135,
   "metadata": {},
   "outputs": [
    {
     "data": {
      "text/html": [
       "<div>\n",
       "<style scoped>\n",
       "    .dataframe tbody tr th:only-of-type {\n",
       "        vertical-align: middle;\n",
       "    }\n",
       "\n",
       "    .dataframe tbody tr th {\n",
       "        vertical-align: top;\n",
       "    }\n",
       "\n",
       "    .dataframe thead th {\n",
       "        text-align: right;\n",
       "    }\n",
       "</style>\n",
       "<table border=\"1\" class=\"dataframe\">\n",
       "  <thead>\n",
       "    <tr style=\"text-align: right;\">\n",
       "      <th></th>\n",
       "      <th>Price</th>\n",
       "    </tr>\n",
       "  </thead>\n",
       "  <tbody>\n",
       "    <tr>\n",
       "      <th>Almond</th>\n",
       "      <td>10</td>\n",
       "    </tr>\n",
       "    <tr>\n",
       "      <th>Peanut</th>\n",
       "      <td>8</td>\n",
       "    </tr>\n",
       "    <tr>\n",
       "      <th>Cashew</th>\n",
       "      <td>12</td>\n",
       "    </tr>\n",
       "  </tbody>\n",
       "</table>\n",
       "</div>"
      ],
      "text/plain": [
       "        Price\n",
       "Almond     10\n",
       "Peanut      8\n",
       "Cashew     12"
      ]
     },
     "execution_count": 135,
     "metadata": {},
     "output_type": "execute_result"
    }
   ],
   "source": [
    "#create prices dataframe\n",
    "butter_prices = pd.DataFrame(prices, index = ['Almond', 'Peanut', 'Cashew'], columns = ['Price'])\n",
    "butter_prices"
   ]
  },
  {
   "cell_type": "code",
   "execution_count": 137,
   "metadata": {},
   "outputs": [
    {
     "data": {
      "text/plain": [
       "((5, 3), (3, 1))"
      ]
     },
     "execution_count": 137,
     "metadata": {},
     "output_type": "execute_result"
    }
   ],
   "source": [
    "weekly_sales.shape, butter_prices.shape"
   ]
  },
  {
   "cell_type": "code",
   "execution_count": 130,
   "metadata": {},
   "outputs": [
    {
     "data": {
      "text/html": [
       "<div>\n",
       "<style scoped>\n",
       "    .dataframe tbody tr th:only-of-type {\n",
       "        vertical-align: middle;\n",
       "    }\n",
       "\n",
       "    .dataframe tbody tr th {\n",
       "        vertical-align: top;\n",
       "    }\n",
       "\n",
       "    .dataframe thead th {\n",
       "        text-align: right;\n",
       "    }\n",
       "</style>\n",
       "<table border=\"1\" class=\"dataframe\">\n",
       "  <thead>\n",
       "    <tr style=\"text-align: right;\">\n",
       "      <th></th>\n",
       "      <th>Price</th>\n",
       "    </tr>\n",
       "  </thead>\n",
       "  <tbody>\n",
       "    <tr>\n",
       "      <th>M</th>\n",
       "      <td>240</td>\n",
       "    </tr>\n",
       "    <tr>\n",
       "      <th>T</th>\n",
       "      <td>138</td>\n",
       "    </tr>\n",
       "    <tr>\n",
       "      <th>W</th>\n",
       "      <td>458</td>\n",
       "    </tr>\n",
       "    <tr>\n",
       "      <th>R</th>\n",
       "      <td>232</td>\n",
       "    </tr>\n",
       "    <tr>\n",
       "      <th>F</th>\n",
       "      <td>142</td>\n",
       "    </tr>\n",
       "  </tbody>\n",
       "</table>\n",
       "</div>"
      ],
      "text/plain": [
       "   Price\n",
       "M    240\n",
       "T    138\n",
       "W    458\n",
       "R    232\n",
       "F    142"
      ]
     },
     "execution_count": 130,
     "metadata": {},
     "output_type": "execute_result"
    }
   ],
   "source": [
    "total_sales = weekly_sales.dot(butter_prices)\n",
    "total_sales"
   ]
  },
  {
   "cell_type": "code",
   "execution_count": 142,
   "metadata": {},
   "outputs": [
    {
     "data": {
      "text/html": [
       "<div>\n",
       "<style scoped>\n",
       "    .dataframe tbody tr th:only-of-type {\n",
       "        vertical-align: middle;\n",
       "    }\n",
       "\n",
       "    .dataframe tbody tr th {\n",
       "        vertical-align: top;\n",
       "    }\n",
       "\n",
       "    .dataframe thead th {\n",
       "        text-align: right;\n",
       "    }\n",
       "</style>\n",
       "<table border=\"1\" class=\"dataframe\">\n",
       "  <thead>\n",
       "    <tr style=\"text-align: right;\">\n",
       "      <th></th>\n",
       "      <th>Almond</th>\n",
       "      <th>Peanut</th>\n",
       "      <th>Cashew</th>\n",
       "      <th>Total</th>\n",
       "    </tr>\n",
       "  </thead>\n",
       "  <tbody>\n",
       "    <tr>\n",
       "      <th>M</th>\n",
       "      <td>12</td>\n",
       "      <td>15</td>\n",
       "      <td>0</td>\n",
       "      <td>240</td>\n",
       "    </tr>\n",
       "    <tr>\n",
       "      <th>T</th>\n",
       "      <td>3</td>\n",
       "      <td>3</td>\n",
       "      <td>7</td>\n",
       "      <td>138</td>\n",
       "    </tr>\n",
       "    <tr>\n",
       "      <th>W</th>\n",
       "      <td>9</td>\n",
       "      <td>19</td>\n",
       "      <td>18</td>\n",
       "      <td>458</td>\n",
       "    </tr>\n",
       "    <tr>\n",
       "      <th>R</th>\n",
       "      <td>4</td>\n",
       "      <td>6</td>\n",
       "      <td>12</td>\n",
       "      <td>232</td>\n",
       "    </tr>\n",
       "    <tr>\n",
       "      <th>F</th>\n",
       "      <td>1</td>\n",
       "      <td>6</td>\n",
       "      <td>7</td>\n",
       "      <td>142</td>\n",
       "    </tr>\n",
       "  </tbody>\n",
       "</table>\n",
       "</div>"
      ],
      "text/plain": [
       "   Almond  Peanut  Cashew  Total\n",
       "M      12      15       0    240\n",
       "T       3       3       7    138\n",
       "W       9      19      18    458\n",
       "R       4       6      12    232\n",
       "F       1       6       7    142"
      ]
     },
     "execution_count": 142,
     "metadata": {},
     "output_type": "execute_result"
    }
   ],
   "source": [
    "weekly_sales['Total'] = total_sales\n",
    "weekly_sales"
   ]
  },
  {
   "cell_type": "markdown",
   "metadata": {},
   "source": [
    "### Comparison Operators"
   ]
  },
  {
   "cell_type": "code",
   "execution_count": 143,
   "metadata": {},
   "outputs": [],
   "source": [
    "#use the same comparison operators that vanilla python uses"
   ]
  },
  {
   "cell_type": "code",
   "execution_count": 144,
   "metadata": {},
   "outputs": [
    {
     "data": {
      "text/plain": [
       "array([1, 2, 3])"
      ]
     },
     "execution_count": 144,
     "metadata": {},
     "output_type": "execute_result"
    }
   ],
   "source": [
    "a1"
   ]
  },
  {
   "cell_type": "code",
   "execution_count": 145,
   "metadata": {},
   "outputs": [
    {
     "data": {
      "text/plain": [
       "array([[1. , 2. , 3.3],\n",
       "       [4. , 5. , 6.5]])"
      ]
     },
     "execution_count": 145,
     "metadata": {},
     "output_type": "execute_result"
    }
   ],
   "source": [
    "a2"
   ]
  },
  {
   "cell_type": "code",
   "execution_count": 146,
   "metadata": {},
   "outputs": [
    {
     "data": {
      "text/plain": [
       "array([[False, False, False],\n",
       "       [False, False, False]])"
      ]
     },
     "execution_count": 146,
     "metadata": {},
     "output_type": "execute_result"
    }
   ],
   "source": [
    "a1>a2\n",
    "#returns an array of true/false values"
   ]
  },
  {
   "cell_type": "code",
   "execution_count": 147,
   "metadata": {},
   "outputs": [
    {
     "data": {
      "text/plain": [
       "array([[ True,  True, False],\n",
       "       [False, False, False]])"
      ]
     },
     "execution_count": 147,
     "metadata": {},
     "output_type": "execute_result"
    }
   ],
   "source": [
    "a1 == a2"
   ]
  },
  {
   "cell_type": "code",
   "execution_count": 149,
   "metadata": {},
   "outputs": [
    {
     "data": {
      "text/plain": [
       "array([[False, False,  True],\n",
       "       [ True,  True,  True]])"
      ]
     },
     "execution_count": 149,
     "metadata": {},
     "output_type": "execute_result"
    }
   ],
   "source": [
    "a1<a2\n",
    "#everything in the second array of a2 is greater because a1 has no second part."
   ]
  },
  {
   "cell_type": "code",
   "execution_count": 150,
   "metadata": {},
   "outputs": [
    {
     "data": {
      "text/plain": [
       "array([[ True,  True, False],\n",
       "       [False, False, False]])"
      ]
     },
     "execution_count": 150,
     "metadata": {},
     "output_type": "execute_result"
    }
   ],
   "source": [
    "a1>=a2"
   ]
  },
  {
   "cell_type": "code",
   "execution_count": 151,
   "metadata": {},
   "outputs": [
    {
     "data": {
      "text/plain": [
       "array([ True,  True,  True])"
      ]
     },
     "execution_count": 151,
     "metadata": {},
     "output_type": "execute_result"
    }
   ],
   "source": [
    "a1 < 5"
   ]
  },
  {
   "cell_type": "code",
   "execution_count": 152,
   "metadata": {},
   "outputs": [
    {
     "data": {
      "text/plain": [
       "array([False, False, False])"
      ]
     },
     "execution_count": 152,
     "metadata": {},
     "output_type": "execute_result"
    }
   ],
   "source": [
    "a1>5"
   ]
  },
  {
   "attachments": {
    "image-2.png": {
     "image/png": "[encoded data removed]"
    },
    "image-3.png": {
     "image/png": "[encoded data removed]"
    },
    "image-4.png": {
     "image/png": "[encoded data removed]"
    },
    "image-5.png": {
     "image/png": "[encoded data removed]"
    },
    "image.png": {
     "image/png": "[encoded data removed]"
    }
   },
   "cell_type": "markdown",
   "metadata": {},
   "source": [
    "![image.png](attachment:image.png)\n",
    "![image-2.png](attachment:image-2.png)\n",
    "![image-3.png](attachment:image-3.png)\n",
    "![image-4.png](attachment:image-4.png)\n",
    "![image-5.png](attachment:image-5.png)"
   ]
  },
  {
   "cell_type": "markdown",
   "metadata": {},
   "source": [
    "### Sorting arrays"
   ]
  },
  {
   "cell_type": "code",
   "execution_count": 155,
   "metadata": {},
   "outputs": [
    {
     "data": {
      "text/plain": [
       "(array([[8, 1, 3, 3, 3],\n",
       "        [7, 0, 1, 9, 9],\n",
       "        [0, 4, 7, 3, 2]]),\n",
       " (3, 5))"
      ]
     },
     "execution_count": 155,
     "metadata": {},
     "output_type": "execute_result"
    }
   ],
   "source": [
    "random_array = np.random.randint(10, size = (3,5))\n",
    "random_array, random_array.shape"
   ]
  },
  {
   "cell_type": "code",
   "execution_count": 156,
   "metadata": {},
   "outputs": [
    {
     "data": {
      "text/plain": [
       "array([[1, 3, 3, 3, 8],\n",
       "       [0, 1, 7, 9, 9],\n",
       "       [0, 2, 3, 4, 7]])"
      ]
     },
     "execution_count": 156,
     "metadata": {},
     "output_type": "execute_result"
    }
   ],
   "source": [
    "np.sort(random_array)\n",
    "#sorts each row seperately"
   ]
  },
  {
   "cell_type": "code",
   "execution_count": 158,
   "metadata": {},
   "outputs": [
    {
     "data": {
      "text/plain": [
       "array([[0, 0, 1, 3, 2],\n",
       "       [7, 1, 3, 3, 3],\n",
       "       [8, 4, 7, 9, 9]])"
      ]
     },
     "execution_count": 158,
     "metadata": {},
     "output_type": "execute_result"
    }
   ],
   "source": [
    "np.sort(random_array, axis = 0)\n",
    "#sorts each column from lowest to greatest"
   ]
  },
  {
   "cell_type": "code",
   "execution_count": 159,
   "metadata": {},
   "outputs": [
    {
     "data": {
      "text/plain": [
       "array([[1, 2, 3, 4, 0],\n",
       "       [1, 2, 0, 3, 4],\n",
       "       [0, 4, 3, 1, 2]], dtype=int64)"
      ]
     },
     "execution_count": 159,
     "metadata": {},
     "output_type": "execute_result"
    }
   ],
   "source": [
    "np.argsort(random_array)\n",
    "#returns the indices that would sort the array by row"
   ]
  },
  {
   "cell_type": "code",
   "execution_count": 160,
   "metadata": {},
   "outputs": [
    {
     "data": {
      "text/plain": [
       "array([0, 1, 2], dtype=int64)"
      ]
     },
     "execution_count": 160,
     "metadata": {},
     "output_type": "execute_result"
    }
   ],
   "source": [
    "a1.argsort()"
   ]
  },
  {
   "cell_type": "code",
   "execution_count": 164,
   "metadata": {},
   "outputs": [
    {
     "data": {
      "text/plain": [
       "0"
      ]
     },
     "execution_count": 164,
     "metadata": {},
     "output_type": "execute_result"
    }
   ],
   "source": [
    "#find index in which the minimum value appears\n",
    "np.argmin(a1)"
   ]
  },
  {
   "cell_type": "code",
   "execution_count": 166,
   "metadata": {},
   "outputs": [
    {
     "name": "stdout",
     "output_type": "stream",
     "text": [
      "[[8 1 3 3 3]\n",
      " [7 0 1 9 9]\n",
      " [0 4 7 3 2]]\n"
     ]
    },
    {
     "data": {
      "text/plain": [
       "8"
      ]
     },
     "execution_count": 166,
     "metadata": {},
     "output_type": "execute_result"
    }
   ],
   "source": [
    "#find the index in which the maximum value appears\n",
    "print(random_array)\n",
    "np.argmax(random_array)\n",
    "#the largest number is in the 8th index position of the array"
   ]
  },
  {
   "cell_type": "code",
   "execution_count": 167,
   "metadata": {},
   "outputs": [],
   "source": [
    "#note that argmin and argmax only return the index of the first instance of the largest value\n",
    "#for example, random_array has two 9s in it at index position 8 and 9, but only index 8 is returned."
   ]
  },
  {
   "cell_type": "code",
   "execution_count": 169,
   "metadata": {},
   "outputs": [
    {
     "data": {
      "text/plain": [
       "array([0, 3, 2], dtype=int64)"
      ]
     },
     "execution_count": 169,
     "metadata": {},
     "output_type": "execute_result"
    }
   ],
   "source": [
    "np.argmax(random_array, axis = 1)"
   ]
  },
  {
   "cell_type": "markdown",
   "metadata": {},
   "source": [
    "### Turning images into np arrays"
   ]
  },
  {
   "cell_type": "code",
   "execution_count": 175,
   "metadata": {},
   "outputs": [],
   "source": [
    "from matplotlib.image import imread"
   ]
  },
  {
   "cell_type": "code",
   "execution_count": 176,
   "metadata": {},
   "outputs": [],
   "source": [
    "panda = imread('zero-to-mastery-ml-master/images/numpy-panda.png')"
   ]
  },
  {
   "cell_type": "code",
   "execution_count": 179,
   "metadata": {},
   "outputs": [
    {
     "data": {
      "text/plain": [
       "numpy.ndarray"
      ]
     },
     "execution_count": 179,
     "metadata": {},
     "output_type": "execute_result"
    }
   ],
   "source": [
    "type(panda)"
   ]
  },
  {
   "cell_type": "code",
   "execution_count": 186,
   "metadata": {},
   "outputs": [
    {
     "data": {
      "text/plain": [
       "array([[0.05490196, 0.10588235, 0.06666667],\n",
       "       [0.05490196, 0.10588235, 0.06666667],\n",
       "       [0.05490196, 0.10588235, 0.06666667],\n",
       "       ...,\n",
       "       [0.16470589, 0.12941177, 0.09411765],\n",
       "       [0.16470589, 0.12941177, 0.09411765],\n",
       "       [0.16470589, 0.12941177, 0.09411765]], dtype=float32)"
      ]
     },
     "execution_count": 186,
     "metadata": {},
     "output_type": "execute_result"
    }
   ],
   "source": [
    "panda[0]"
   ]
  },
  {
   "cell_type": "code",
   "execution_count": 185,
   "metadata": {
    "scrolled": true
   },
   "outputs": [
    {
     "data": {
      "text/plain": [
       "array([0.05490196, 0.10588235, 0.06666667], dtype=float32)"
      ]
     },
     "execution_count": 185,
     "metadata": {},
     "output_type": "execute_result"
    }
   ],
   "source": [
    "panda[0][0]\n",
    "#rgb values for the pixel in the 0th row, 0th column (aka the first pixel)"
   ]
  },
  {
   "cell_type": "code",
   "execution_count": 182,
   "metadata": {},
   "outputs": [
    {
     "name": "stdout",
     "output_type": "stream",
     "text": [
      "24465000 (2330, 3500, 3) 3\n"
     ]
    }
   ],
   "source": [
    "print(panda.size, panda.shape, panda.ndim)"
   ]
  },
  {
   "cell_type": "markdown",
   "metadata": {},
   "source": [
    "### end of numpy section"
   ]
  },
  {
   "cell_type": "code",
   "execution_count": null,
   "metadata": {},
   "outputs": [],
   "source": []
  }
 ],
 "metadata": {
  "kernelspec": {
   "display_name": "Python 3",
   "language": "python",
   "name": "python3"
  },
  "language_info": {
   "codemirror_mode": {
    "name": "ipython",
    "version": 3
   },
   "file_extension": ".py",
   "mimetype": "text/x-python",
   "name": "python",
   "nbconvert_exporter": "python",
   "pygments_lexer": "ipython3",
   "version": "3.8.0"
  }
 },
 "nbformat": 4,
 "nbformat_minor": 4
}
